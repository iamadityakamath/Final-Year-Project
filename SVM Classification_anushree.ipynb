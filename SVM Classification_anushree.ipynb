{
 "cells": [
  {
   "cell_type": "code",
   "execution_count": 28,
   "metadata": {},
   "outputs": [],
   "source": [
    "import os\n",
    "\n",
    "import time\n",
    "\n",
    "import librosa\n",
    "import soundfile\n",
    "import os, glob, pickle\n",
    "import numpy as np\n",
    "from sklearn.model_selection import train_test_split\n",
    "from sklearn.neural_network import MLPClassifier\n",
    "from sklearn.metrics import accuracy_score\n",
    "from pydub import AudioSegment\n",
    "import pydub\n",
    "import moviepy.editor as mp\n",
    "import wave\n",
    "import contextlib\n",
    "#Padding the data\n",
    "from scipy.io.wavfile import write\n",
    "from librosa import load\n",
    "from librosa.util import fix_length\n",
    "\n",
    "import warnings\n",
    "warnings.filterwarnings(\"ignore\")"
   ]
  },
  {
   "cell_type": "markdown",
   "metadata": {},
   "source": [
    "# Get directories and folders"
   ]
  },
  {
   "cell_type": "code",
   "execution_count": 3,
   "metadata": {},
   "outputs": [
    {
     "name": "stdout",
     "output_type": "stream",
     "text": [
      "['Confident', 'Nervous', 'Neutral']\n",
      "['01_01_Confident.mp4', '01_02_Confident.mov', '01_03_Confident.mp4', '01_04_Confident.mp4', '01_05_Confident.mp4', '01_06_Confident.mp4', '01_07_Confident.mp4', '01_08_Confident.mp4', '01_09_Confident.mp4', '01_10_Confident.mp4', '01_11_Confident.mp4', '01_12_Confident.mp4', '01_13_Confident.mp4', '01_14_Confident.mp4', '01_15_Confident.mp4', '01_16_Confident.mp4', '01_17_Confident.mov', '01_18_Confident.mov', '01_19_Confident.mp4', '01_20_Confident.MP4', '01_21_Confident.mp4', '01_22_Confident.MP4', '01_23_Confident.mp4', '01_24_confident.mp4', '01_25_Confident.mp4', '01_26_Confident.mp4', '02_01_Confident.mp4', '02_02_Confident.mov', '02_03_Confident.mp4', '02_04_Confident.mp4', '02_05_Confident.mp4', '02_06_Confident.mp4', '02_07_Confident.mp4', '02_08_Confident.mp4', '02_09_Confident.mp4', '02_10_Confident.mp4', '02_11_Confident.mp4', '02_12_Confident.mp4', '02_13_Confident.mp4', '02_14_Confident.mp4', '02_15_Confident.mp4', '02_16_Confident.mp4', '02_17_Confident.mov', '02_18_Confident.mov', '02_19_Confident.mp4', '02_20_Confident.MP4', '02_21_Confident.mp4', '02_22_Confident.MP4', '02_23_Confident.mp4', '02_24_Confident.mp4', '02_25_Confident.mp4', '02_26_Confident.mp4', '03_01_Confident.mp4', '03_02_Confident.mov', '03_03_Confident.mp4', '03_04_Confident.mp4', '03_05_Confident.mp4', '03_06_Confident.mp4', '03_07_Confident.mp4', '03_08_Confident.mp4', '03_09_Confident.mp4', '03_10_Confident.mp4', '03_11_Confident.mp4', '03_12_Confident.mp4', '03_13_Confident.mp4', '03_14_Confident.mp4', '03_15_Confident.mp4', '03_16_Confident.mp4', '03_17_Confident.mov', '03_18_Confident.mov', '03_19_Confident.mp4', '03_20_Confident.MP4', '03_21_Confident.mp4', '03_22_Confident.MP4', '03_23_Confident.mp4', '03_24_Confident.mp4', '03_25_Confident.mp4', '03_26_Confident.mp4', '04_01_Confident.mp4', '04_02_Confident.mov', '04_03_Confident.mp4', '04_04_Confident.mp4', '04_05_Confident.mp4', '04_06_Confident.mp4', '04_07_Confident.mp4', '04_08_Confident.mp4', '04_09_Confident.mp4', '04_10_Confident.mp4', '04_11_Confident.mp4', '04_12_Confident.mp4', '04_13_Confident.mp4', '04_14_Confident.mp4', '04_15_Confident.mp4', '04_16_Confident.mp4', '04_17_Confident.mov', '04_18_Confident.mov', '04_19_Confident.mp4', '04_20_Confident.MP4', '04_21_Confident.mp4', '04_22_Confident.MP4', '04_23_Confident.mov', '04_24_Confident.mp4', '04_25_Confident.mp4', '04_26_Confident.mp4', '05_01_Confident.mp4', '05_02_Confident.mov', '05_03_Confident.mp4', '05_04_Confident.mp4', '05_05_Confident.mp4', '05_06_Confident.mp4', '05_07_Confident.mp4', '05_08_Confident.mp4', '05_09_Confident.mp4', '05_10_Confident.mp4', '05_11_Confident.mp4', '05_12_Confident.mp4', '05_13_Confident.mp4', '05_14_Confident.mp4', '05_15_Confident.mp4', '05_16_Confident.mp4', '05_17_Confident.mov', '05_18_Confident.mov', '05_19_Confident.mp4', '05_20_Confident.MP4', '05_21_Confident.mp4', '05_22_Confident.MP4', '05_23_Confident.mp4', '05_24_Confident.mp4', '05_25_Confident.mp4', '05_26_Confident.mp4']\n",
      "['01_01_Nervous.mp4', '01_02_Nervous.mov', '01_03_Nervous.mp4', '01_04_Nervous.mp4', '01_05_Nervous.mp4', '01_06_Nervous.mp4', '01_07_Nervous.mp4', '01_08_Nervous.mp4', '01_09_Nervous.mp4', '01_10_Nervous.mp4', '01_11_Nervous.mp4', '01_12_Nervous.mp4', '01_13_Nervous.mp4', '01_14_Nervous.mp4', '01_15_Nervous.mp4', '01_16_Nervous.mp4', '01_17_Nervous.mov', '01_18_Nervous.mov', '01_19_Nervous.mp4', '01_20_Nervous.MP4', '01_21_Nervous.mp4', '01_22_Nervous.MP4', '01_23_Nervous.mov', '01_24_Nervous.mp4', '01_25_Nervous.mp4', '01_26_Nervous.mp4', '02_01_Nervous.mp4', '02_02_Nervous.mov', '02_03_Nervous.mp4', '02_04_Nervous.mp4', '02_05_Nervous.mp4', '02_06_Nervous.mp4', '02_07_Nervous.mp4', '02_08_Nervous.mp4', '02_09_Nervous.mp4', '02_10_Nervous.mp4', '02_11_Nervous.mp4', '02_12_Nervous.mp4', '02_13_Nervous.mp4', '02_14_Nervous.mp4', '02_15_Nervous.mp4', '02_16_Nervous.mp4', '02_17_Nervous.mov', '02_18_Nervous.mov', '02_19_Nervous.mp4', '02_20_Nervous.MP4', '02_21_Nervous.mp4', '02_22_Nervous.MP4', '02_23_Nervous.mov', '02_24_Nervous.mp4', '02_25_Nervous.mp4', '02_26_Nervous.mp4', '03_01_Nervous.mp4', '03_02_Nervous.mov', '03_03_Nervous.mp4', '03_04_Nervous.mp4', '03_05_Nervous.mp4', '03_06_Nervous.mp4', '03_07_Nervous.mp4', '03_08_Nervous.mp4', '03_09_Nervous.mp4', '03_10_Nervous.mp4', '03_11_Nervous.mp4', '03_12_Nervous.mp4', '03_13_Nervous.mp4', '03_14_Nervous.mp4', '03_15_Nervous.mp4', '03_16_Nervous.mp4', '03_17_Nervous.mov', '03_18_Nervous.mov', '03_19_Nervous.mp4', '03_20_Nervous.MP4', '03_21_Nervous.mp4', '03_22_Nervous.MP4', '03_23_Nervous.mov', '03_24_Nervous.mp4', '03_25_Nervous.mp4', '03_26_Nervous.mp4', '04_01_Nervous.mp4', '04_02_Nervous.mov', '04_03_Nervous.mp4', '04_04_Nervous.mp4', '04_05_Nervous.mp4', '04_06_Nervous.mp4', '04_07_Nervous.mp4', '04_08_Nervous.mp4', '04_09_Nervous.mp4', '04_10_Nervous.mp4', '04_11_Nervous.mp4', '04_12_Nervous.mp4', '04_13_Nervous.mp4', '04_14_Nervous.mp4', '04_15_Nervous.mp4', '04_16_Nervous.mp4', '04_17_Nervous.mov', '04_18_Nervous.mov', '04_19_Nervous.mp4', '04_20_Nervous.MP4', '04_21_Nervous.mp4', '04_22_Nervous.MP4', '04_23_Nervous.mov', '04_24_Nervous.mp4', '04_25_Nervous.mp4', '04_26_Nervous.mp4', '05_01_Nervous.mp4', '05_02_Nervous.mov', '05_03_Nervous.mp4', '05_04_Nervous.mp4', '05_05_Nervous.mp4', '05_06_Nervous.mp4', '05_07_Nervous.mp4', '05_08_Nervous.mp4', '05_09_Nervous.mp4', '05_10_Nervous.mp4', '05_11_Nervous.mp4', '05_12_Nervous.mp4', '05_13_Nervous.mp4', '05_14_Nervous.mp4', '05_15_Nervous.mp4', '05_16_Nervous.mp4', '05_17_Nervous.mov', '05_18_Nervous.mov', '05_19_Nervous.mp4', '05_20_Nervous.MP4', '05_21_Nervous.mp4', '05_22_Nervous.MP4', '05_23_Nervous.mov', '05_24_Nervous.mp4', '05_25_Nervous.mp4', '05_26_Nervous.mp4']\n",
      "['01_01_Neutral.mp4', '01_02_Neutral.mov', '01_03_Neutral.mp4', '01_04_Neutral.mp4', '01_05_Neutral.mp4', '01_06_Neutral.mp4', '01_07_Neutral.mp4', '01_08_Neutral.mp4', '01_09_Neutral.mp4', '01_10_Neutral.mp4', '01_11_Neutral.mp4', '01_12_Neutral.mp4', '01_13_Neutral.mp4', '01_14_Neutral.mp4', '01_15_Neutral.mp4', '01_16_Neutral.mp4', '01_17_Neutral.mov', '01_18_Neutral.mov', '01_19_Neutral.mp4', '01_20_Neutral.MP4', '01_21_Neutral.mp4', '01_22_Neutral.MP4', '01_23_Neutral.mp4', '01_24_Neutral.mp4', '01_25_Neutral.mp4', '01_26_Neutral.mp4', '02_01_Neutral.mp4', '02_02_Neutral.mov', '02_03_Neutral.mp4', '02_04_Neutral.mp4', '02_05_Neutral.mp4', '02_06_Neutral.mp4', '02_07_Neutral.mp4', '02_08_Neutral.mp4', '02_09_Neutral.mp4', '02_10_Neutral.mp4', '02_11_Neutral.mp4', '02_12_Neutral.mp4', '02_13_Neutral.mp4', '02_14_Neutral.mp4', '02_15_Neutral.mp4', '02_16_Neutral.mp4', '02_17_Neutral.mov', '02_18_Neutral.mov', '02_19_Neutral.mp4', '02_20_Neutral.MP4', '02_21_Neutral.mp4', '02_22_Neutral.MP4', '02_23_Neutral.mp4', '02_24_Neutral.mp4', '02_25_Neutral.mp4', '02_26_Neutral.mp4', '03_01_Neutral.mp4', '03_02_Neutral.mov', '03_03_Neutral.mp4', '03_04_Neutral.mp4', '03_05_Neutral.mp4', '03_06_Neutral.mp4', '03_07_Neutral.mp4', '03_08_Neutral.mp4', '03_09_Neutral.mp4', '03_10_Neutral.mp4', '03_11_Neutral.mp4', '03_12_Neutral.mp4', '03_13_Neutral.mp4', '03_14_Neutral.mp4', '03_15_Neutral.mp4', '03_16_Neutral.mp4', '03_17_Neutral.mov', '03_18_Neutral.mov', '03_19_Neutral.mp4', '03_20_Neutral.MP4', '03_21_Neutral.mp4', '03_22_Neutral.MP4', '03_23_Neutral.mp4', '03_24_Neutral.mp4', '03_25_Neutral.mp4', '03_26_Neutral.mp4', '04_01_Neutral.mp4', '04_02_Neutral.mov', '04_03_Neutral.mp4', '04_04_Neutral.mp4', '04_05_Neutral.mp4', '04_06_Neutral.mp4', '04_07_Neutral.mp4', '04_08_Neutral.mp4', '04_09_Neutral.mp4', '04_10_Neutral.mp4', '04_11_Neutral.mp4', '04_12_Neutral.mp4', '04_13_Neutral.mp4', '04_14_Neutral.mp4', '04_15_Neutral.mp4', '04_16_Neutral.mp4', '04_17_Neutral.mov', '04_18_Neutral.mov', '04_19_Neutral.mp4', '04_20_Neutral.MP4', '04_21_Neutral.mp4', '04_22_Neutral.MP4', '04_23_Neutral.mp4', '04_24_Neutral.mp4', '04_25_Neutral.mp4', '04_26_Neutral.mp4', '05_01_Neutral.mp4', '05_02_Neutral.mov', '05_03_Neutral.mp4', '05_04_Neutral.mp4', '05_05_Neutral.mp4', '05_06_Neutral.mp4', '05_07_Neutral.mp4', '05_08_Neutral.mp4', '05_09_Neutral.mp4', '05_10_Neutral.mp4', '05_11_Neutral.mp4', '05_12_Neutral.mp4', '05_13_Neutral.mp4', '05_14_Neutral.mp4', '05_15_Neutral.mp4', '05_16_Neutral.mp4', '05_17_Neutral.mov', '05_18_Neutral.mov', '05_19_Neutral.mp4', '05_20_Neutral.MP4', '05_21_Neutral.mp4', '05_22_Neutral.MP4', '05_23_Neutral.mp4', '05_24_Neutral.mp4', '05_25_Neutral.mp4', '05_26_Neutral.mp4']\n"
     ]
    }
   ],
   "source": [
    "import os\n",
    "x = [[],[],[]]\n",
    "arr = os.listdir(\"C:\\\\Users\\\\Aditya Kamath\\\\Downloads\\\\MP\\\\New Codes\\\\Final Dataset\\\\Video\")\n",
    "print(arr)\n",
    "for i in range(len(arr)):\n",
    "    #x.append(arr[i].split(\".\")[0])\n",
    "    temparr = os.listdir(\"C:\\\\Users\\\\Aditya Kamath\\\\Downloads\\\\MP\\\\New Codes\\\\Final Dataset\\\\Video\\\\\" + arr[i])\n",
    "    print(temparr)\n",
    "    for j in range(len(temparr)):\n",
    "        x[i].append(temparr[j])"
   ]
  },
  {
   "cell_type": "markdown",
   "metadata": {},
   "source": [
    "# Extract Audio from Video"
   ]
  },
  {
   "cell_type": "code",
   "execution_count": 7,
   "metadata": {},
   "outputs": [
    {
     "name": "stderr",
     "output_type": "stream",
     "text": [
      "chunk:  99%|█████████▊| 459/465 [00:00<00:00, 2361.55it/s, now=None]"
     ]
    },
    {
     "name": "stdout",
     "output_type": "stream",
     "text": [
      "MoviePy - Writing audio in C:\\\\Users\\\\Aditya Kamath\\\\Downloads\\\\MP\\\\New Codes\\\\Final Dataset\\\\Audio\\\\Confident\\\\01_01_Confident.wav\n"
     ]
    },
    {
     "name": "stderr",
     "output_type": "stream",
     "text": [
      "                                                                    \r"
     ]
    },
    {
     "name": "stdout",
     "output_type": "stream",
     "text": [
      "MoviePy - Done.\n"
     ]
    },
    {
     "name": "stderr",
     "output_type": "stream",
     "text": [
      "                                                                    "
     ]
    },
    {
     "name": "stdout",
     "output_type": "stream",
     "text": [
      "MoviePy - Writing audio in C:\\\\Users\\\\Aditya Kamath\\\\Downloads\\\\MP\\\\New Codes\\\\Final Dataset\\\\Audio\\\\Confident\\\\01_02_Confident.wav\n",
      "MoviePy - Done.\n"
     ]
    },
    {
     "name": "stderr",
     "output_type": "stream",
     "text": [
      "                                                                    "
     ]
    },
    {
     "name": "stdout",
     "output_type": "stream",
     "text": [
      "MoviePy - Writing audio in C:\\\\Users\\\\Aditya Kamath\\\\Downloads\\\\MP\\\\New Codes\\\\Final Dataset\\\\Audio\\\\Confident\\\\01_03_Confident.wav\n",
      "MoviePy - Done.\n"
     ]
    },
    {
     "name": "stderr",
     "output_type": "stream",
     "text": [
      "                                                                    "
     ]
    },
    {
     "name": "stdout",
     "output_type": "stream",
     "text": [
      "MoviePy - Writing audio in C:\\\\Users\\\\Aditya Kamath\\\\Downloads\\\\MP\\\\New Codes\\\\Final Dataset\\\\Audio\\\\Confident\\\\01_04_Confident.wav\n",
      "MoviePy - Done.\n"
     ]
    },
    {
     "name": "stderr",
     "output_type": "stream",
     "text": [
      "                                                                    "
     ]
    },
    {
     "name": "stdout",
     "output_type": "stream",
     "text": [
      "MoviePy - Writing audio in C:\\\\Users\\\\Aditya Kamath\\\\Downloads\\\\MP\\\\New Codes\\\\Final Dataset\\\\Audio\\\\Confident\\\\01_05_Confident.wav\n",
      "MoviePy - Done.\n"
     ]
    },
    {
     "name": "stderr",
     "output_type": "stream",
     "text": [
      "                                                                    "
     ]
    },
    {
     "name": "stdout",
     "output_type": "stream",
     "text": [
      "MoviePy - Writing audio in C:\\\\Users\\\\Aditya Kamath\\\\Downloads\\\\MP\\\\New Codes\\\\Final Dataset\\\\Audio\\\\Confident\\\\01_06_Confident.wav\n",
      "MoviePy - Done.\n"
     ]
    },
    {
     "name": "stderr",
     "output_type": "stream",
     "text": [
      "                                                        "
     ]
    },
    {
     "name": "stdout",
     "output_type": "stream",
     "text": [
      "MoviePy - Writing audio in C:\\\\Users\\\\Aditya Kamath\\\\Downloads\\\\MP\\\\New Codes\\\\Final Dataset\\\\Audio\\\\Confident\\\\01_07_Confident.wav\n",
      "MoviePy - Done.\n"
     ]
    },
    {
     "name": "stderr",
     "output_type": "stream",
     "text": [
      "                                                                    "
     ]
    },
    {
     "name": "stdout",
     "output_type": "stream",
     "text": [
      "MoviePy - Writing audio in C:\\\\Users\\\\Aditya Kamath\\\\Downloads\\\\MP\\\\New Codes\\\\Final Dataset\\\\Audio\\\\Confident\\\\01_08_Confident.wav\n",
      "MoviePy - Done.\n"
     ]
    },
    {
     "name": "stderr",
     "output_type": "stream",
     "text": [
      "chunk:   0%|          | 0/196 [00:00<?, ?it/s, now=None]"
     ]
    },
    {
     "name": "stdout",
     "output_type": "stream",
     "text": [
      "MoviePy - Writing audio in C:\\\\Users\\\\Aditya Kamath\\\\Downloads\\\\MP\\\\New Codes\\\\Final Dataset\\\\Audio\\\\Confident\\\\01_09_Confident.wav\n"
     ]
    },
    {
     "name": "stderr",
     "output_type": "stream",
     "text": [
      "                                                        \r"
     ]
    },
    {
     "name": "stdout",
     "output_type": "stream",
     "text": [
      "MoviePy - Done.\n"
     ]
    },
    {
     "name": "stderr",
     "output_type": "stream",
     "text": [
      "                                                                    "
     ]
    },
    {
     "name": "stdout",
     "output_type": "stream",
     "text": [
      "MoviePy - Writing audio in C:\\\\Users\\\\Aditya Kamath\\\\Downloads\\\\MP\\\\New Codes\\\\Final Dataset\\\\Audio\\\\Confident\\\\01_10_Confident.wav\n",
      "MoviePy - Done.\n"
     ]
    },
    {
     "name": "stderr",
     "output_type": "stream",
     "text": [
      "                                                                    "
     ]
    },
    {
     "name": "stdout",
     "output_type": "stream",
     "text": [
      "MoviePy - Writing audio in C:\\\\Users\\\\Aditya Kamath\\\\Downloads\\\\MP\\\\New Codes\\\\Final Dataset\\\\Audio\\\\Confident\\\\01_11_Confident.wav\n",
      "MoviePy - Done.\n"
     ]
    },
    {
     "name": "stderr",
     "output_type": "stream",
     "text": [
      "                                                                    "
     ]
    },
    {
     "name": "stdout",
     "output_type": "stream",
     "text": [
      "MoviePy - Writing audio in C:\\\\Users\\\\Aditya Kamath\\\\Downloads\\\\MP\\\\New Codes\\\\Final Dataset\\\\Audio\\\\Confident\\\\01_12_Confident.wav\n",
      "MoviePy - Done.\n"
     ]
    },
    {
     "name": "stderr",
     "output_type": "stream",
     "text": [
      "                                                                    "
     ]
    },
    {
     "name": "stdout",
     "output_type": "stream",
     "text": [
      "MoviePy - Writing audio in C:\\\\Users\\\\Aditya Kamath\\\\Downloads\\\\MP\\\\New Codes\\\\Final Dataset\\\\Audio\\\\Confident\\\\01_13_Confident.wav\n",
      "MoviePy - Done.\n"
     ]
    },
    {
     "name": "stderr",
     "output_type": "stream",
     "text": [
      "                                                                    "
     ]
    },
    {
     "name": "stdout",
     "output_type": "stream",
     "text": [
      "MoviePy - Writing audio in C:\\\\Users\\\\Aditya Kamath\\\\Downloads\\\\MP\\\\New Codes\\\\Final Dataset\\\\Audio\\\\Confident\\\\01_14_Confident.wav\n",
      "MoviePy - Done.\n"
     ]
    },
    {
     "name": "stderr",
     "output_type": "stream",
     "text": [
      "                                                                    "
     ]
    },
    {
     "name": "stdout",
     "output_type": "stream",
     "text": [
      "MoviePy - Writing audio in C:\\\\Users\\\\Aditya Kamath\\\\Downloads\\\\MP\\\\New Codes\\\\Final Dataset\\\\Audio\\\\Confident\\\\01_15_Confident.wav\n",
      "MoviePy - Done.\n"
     ]
    },
    {
     "name": "stderr",
     "output_type": "stream",
     "text": [
      "                                                                    "
     ]
    },
    {
     "name": "stdout",
     "output_type": "stream",
     "text": [
      "MoviePy - Writing audio in C:\\\\Users\\\\Aditya Kamath\\\\Downloads\\\\MP\\\\New Codes\\\\Final Dataset\\\\Audio\\\\Confident\\\\01_16_Confident.wav\n",
      "MoviePy - Done.\n"
     ]
    },
    {
     "name": "stderr",
     "output_type": "stream",
     "text": [
      "                                                                    "
     ]
    },
    {
     "name": "stdout",
     "output_type": "stream",
     "text": [
      "MoviePy - Writing audio in C:\\\\Users\\\\Aditya Kamath\\\\Downloads\\\\MP\\\\New Codes\\\\Final Dataset\\\\Audio\\\\Confident\\\\01_17_Confident.wav\n",
      "MoviePy - Done.\n"
     ]
    },
    {
     "name": "stderr",
     "output_type": "stream",
     "text": [
      "                                                                    "
     ]
    },
    {
     "name": "stdout",
     "output_type": "stream",
     "text": [
      "MoviePy - Writing audio in C:\\\\Users\\\\Aditya Kamath\\\\Downloads\\\\MP\\\\New Codes\\\\Final Dataset\\\\Audio\\\\Confident\\\\01_18_Confident.wav\n",
      "MoviePy - Done.\n"
     ]
    },
    {
     "name": "stderr",
     "output_type": "stream",
     "text": [
      "                                                                    "
     ]
    },
    {
     "name": "stdout",
     "output_type": "stream",
     "text": [
      "MoviePy - Writing audio in C:\\\\Users\\\\Aditya Kamath\\\\Downloads\\\\MP\\\\New Codes\\\\Final Dataset\\\\Audio\\\\Confident\\\\01_19_Confident.wav\n",
      "MoviePy - Done.\n"
     ]
    },
    {
     "name": "stderr",
     "output_type": "stream",
     "text": [
      "                                                        "
     ]
    },
    {
     "name": "stdout",
     "output_type": "stream",
     "text": [
      "MoviePy - Writing audio in C:\\\\Users\\\\Aditya Kamath\\\\Downloads\\\\MP\\\\New Codes\\\\Final Dataset\\\\Audio\\\\Confident\\\\01_20_Confident.wav\n",
      "MoviePy - Done.\n"
     ]
    },
    {
     "name": "stderr",
     "output_type": "stream",
     "text": [
      "chunk:   0%|          | 0/333 [00:00<?, ?it/s, now=None]"
     ]
    },
    {
     "name": "stdout",
     "output_type": "stream",
     "text": [
      "MoviePy - Writing audio in C:\\\\Users\\\\Aditya Kamath\\\\Downloads\\\\MP\\\\New Codes\\\\Final Dataset\\\\Audio\\\\Confident\\\\01_21_Confident.wav\n"
     ]
    },
    {
     "name": "stderr",
     "output_type": "stream",
     "text": [
      "                                                                    \r"
     ]
    },
    {
     "name": "stdout",
     "output_type": "stream",
     "text": [
      "MoviePy - Done.\n"
     ]
    },
    {
     "name": "stderr",
     "output_type": "stream",
     "text": [
      "                                                                    "
     ]
    },
    {
     "name": "stdout",
     "output_type": "stream",
     "text": [
      "MoviePy - Writing audio in C:\\\\Users\\\\Aditya Kamath\\\\Downloads\\\\MP\\\\New Codes\\\\Final Dataset\\\\Audio\\\\Confident\\\\01_22_Confident.wav\n"
     ]
    },
    {
     "name": "stderr",
     "output_type": "stream",
     "text": [
      "\r"
     ]
    },
    {
     "name": "stdout",
     "output_type": "stream",
     "text": [
      "MoviePy - Done.\n"
     ]
    },
    {
     "name": "stderr",
     "output_type": "stream",
     "text": [
      "                                                                    "
     ]
    },
    {
     "name": "stdout",
     "output_type": "stream",
     "text": [
      "MoviePy - Writing audio in C:\\\\Users\\\\Aditya Kamath\\\\Downloads\\\\MP\\\\New Codes\\\\Final Dataset\\\\Audio\\\\Confident\\\\01_23_Confident.wav\n",
      "MoviePy - Done.\n"
     ]
    },
    {
     "name": "stderr",
     "output_type": "stream",
     "text": [
      "                                                        "
     ]
    },
    {
     "name": "stdout",
     "output_type": "stream",
     "text": [
      "MoviePy - Writing audio in C:\\\\Users\\\\Aditya Kamath\\\\Downloads\\\\MP\\\\New Codes\\\\Final Dataset\\\\Audio\\\\Confident\\\\01_24_confident.wav\n",
      "MoviePy - Done.\n"
     ]
    },
    {
     "name": "stderr",
     "output_type": "stream",
     "text": [
      "                                                        "
     ]
    },
    {
     "name": "stdout",
     "output_type": "stream",
     "text": [
      "MoviePy - Writing audio in C:\\\\Users\\\\Aditya Kamath\\\\Downloads\\\\MP\\\\New Codes\\\\Final Dataset\\\\Audio\\\\Confident\\\\01_25_Confident.wav\n",
      "MoviePy - Done.\n"
     ]
    },
    {
     "name": "stderr",
     "output_type": "stream",
     "text": [
      "                                                                    "
     ]
    },
    {
     "name": "stdout",
     "output_type": "stream",
     "text": [
      "MoviePy - Writing audio in C:\\\\Users\\\\Aditya Kamath\\\\Downloads\\\\MP\\\\New Codes\\\\Final Dataset\\\\Audio\\\\Confident\\\\01_26_Confident.wav\n",
      "MoviePy - Done.\n"
     ]
    },
    {
     "name": "stderr",
     "output_type": "stream",
     "text": [
      "                                                        "
     ]
    },
    {
     "name": "stdout",
     "output_type": "stream",
     "text": [
      "MoviePy - Writing audio in C:\\\\Users\\\\Aditya Kamath\\\\Downloads\\\\MP\\\\New Codes\\\\Final Dataset\\\\Audio\\\\Confident\\\\02_01_Confident.wav\n",
      "MoviePy - Done.\n"
     ]
    },
    {
     "name": "stderr",
     "output_type": "stream",
     "text": [
      "                                                        "
     ]
    },
    {
     "name": "stdout",
     "output_type": "stream",
     "text": [
      "MoviePy - Writing audio in C:\\\\Users\\\\Aditya Kamath\\\\Downloads\\\\MP\\\\New Codes\\\\Final Dataset\\\\Audio\\\\Confident\\\\02_02_Confident.wav\n",
      "MoviePy - Done.\n"
     ]
    },
    {
     "name": "stderr",
     "output_type": "stream",
     "text": [
      "                                                                    "
     ]
    },
    {
     "name": "stdout",
     "output_type": "stream",
     "text": [
      "MoviePy - Writing audio in C:\\\\Users\\\\Aditya Kamath\\\\Downloads\\\\MP\\\\New Codes\\\\Final Dataset\\\\Audio\\\\Confident\\\\02_03_Confident.wav\n",
      "MoviePy - Done.\n"
     ]
    },
    {
     "name": "stderr",
     "output_type": "stream",
     "text": [
      "                                                        "
     ]
    },
    {
     "name": "stdout",
     "output_type": "stream",
     "text": [
      "MoviePy - Writing audio in C:\\\\Users\\\\Aditya Kamath\\\\Downloads\\\\MP\\\\New Codes\\\\Final Dataset\\\\Audio\\\\Confident\\\\02_04_Confident.wav\n",
      "MoviePy - Done.\n"
     ]
    },
    {
     "name": "stderr",
     "output_type": "stream",
     "text": [
      "                                                                    "
     ]
    },
    {
     "name": "stdout",
     "output_type": "stream",
     "text": [
      "MoviePy - Writing audio in C:\\\\Users\\\\Aditya Kamath\\\\Downloads\\\\MP\\\\New Codes\\\\Final Dataset\\\\Audio\\\\Confident\\\\02_05_Confident.wav\n",
      "MoviePy - Done.\n"
     ]
    },
    {
     "name": "stderr",
     "output_type": "stream",
     "text": [
      "                                                                    "
     ]
    },
    {
     "name": "stdout",
     "output_type": "stream",
     "text": [
      "MoviePy - Writing audio in C:\\\\Users\\\\Aditya Kamath\\\\Downloads\\\\MP\\\\New Codes\\\\Final Dataset\\\\Audio\\\\Confident\\\\02_06_Confident.wav\n",
      "MoviePy - Done.\n"
     ]
    },
    {
     "name": "stderr",
     "output_type": "stream",
     "text": [
      "chunk:   0%|          | 0/133 [00:00<?, ?it/s, now=None]"
     ]
    },
    {
     "name": "stdout",
     "output_type": "stream",
     "text": [
      "MoviePy - Writing audio in C:\\\\Users\\\\Aditya Kamath\\\\Downloads\\\\MP\\\\New Codes\\\\Final Dataset\\\\Audio\\\\Confident\\\\02_07_Confident.wav\n"
     ]
    },
    {
     "name": "stderr",
     "output_type": "stream",
     "text": [
      "                                                        \r"
     ]
    },
    {
     "name": "stdout",
     "output_type": "stream",
     "text": [
      "MoviePy - Done.\n"
     ]
    },
    {
     "name": "stderr",
     "output_type": "stream",
     "text": [
      "                                                                    "
     ]
    },
    {
     "name": "stdout",
     "output_type": "stream",
     "text": [
      "MoviePy - Writing audio in C:\\\\Users\\\\Aditya Kamath\\\\Downloads\\\\MP\\\\New Codes\\\\Final Dataset\\\\Audio\\\\Confident\\\\02_08_Confident.wav\n",
      "MoviePy - Done.\n"
     ]
    },
    {
     "name": "stderr",
     "output_type": "stream",
     "text": [
      "                                                        "
     ]
    },
    {
     "name": "stdout",
     "output_type": "stream",
     "text": [
      "MoviePy - Writing audio in C:\\\\Users\\\\Aditya Kamath\\\\Downloads\\\\MP\\\\New Codes\\\\Final Dataset\\\\Audio\\\\Confident\\\\02_09_Confident.wav\n",
      "MoviePy - Done.\n"
     ]
    },
    {
     "name": "stderr",
     "output_type": "stream",
     "text": [
      "                                                                    "
     ]
    },
    {
     "name": "stdout",
     "output_type": "stream",
     "text": [
      "MoviePy - Writing audio in C:\\\\Users\\\\Aditya Kamath\\\\Downloads\\\\MP\\\\New Codes\\\\Final Dataset\\\\Audio\\\\Confident\\\\02_10_Confident.wav\n",
      "MoviePy - Done.\n"
     ]
    },
    {
     "name": "stderr",
     "output_type": "stream",
     "text": [
      "                                                                    "
     ]
    },
    {
     "name": "stdout",
     "output_type": "stream",
     "text": [
      "MoviePy - Writing audio in C:\\\\Users\\\\Aditya Kamath\\\\Downloads\\\\MP\\\\New Codes\\\\Final Dataset\\\\Audio\\\\Confident\\\\02_11_Confident.wav\n",
      "MoviePy - Done.\n"
     ]
    },
    {
     "name": "stderr",
     "output_type": "stream",
     "text": [
      "                                                                    "
     ]
    },
    {
     "name": "stdout",
     "output_type": "stream",
     "text": [
      "MoviePy - Writing audio in C:\\\\Users\\\\Aditya Kamath\\\\Downloads\\\\MP\\\\New Codes\\\\Final Dataset\\\\Audio\\\\Confident\\\\02_12_Confident.wav\n",
      "MoviePy - Done.\n"
     ]
    },
    {
     "name": "stderr",
     "output_type": "stream",
     "text": [
      "                                                                    "
     ]
    },
    {
     "name": "stdout",
     "output_type": "stream",
     "text": [
      "MoviePy - Writing audio in C:\\\\Users\\\\Aditya Kamath\\\\Downloads\\\\MP\\\\New Codes\\\\Final Dataset\\\\Audio\\\\Confident\\\\02_13_Confident.wav\n",
      "MoviePy - Done.\n"
     ]
    },
    {
     "name": "stderr",
     "output_type": "stream",
     "text": [
      "                                                        "
     ]
    },
    {
     "name": "stdout",
     "output_type": "stream",
     "text": [
      "MoviePy - Writing audio in C:\\\\Users\\\\Aditya Kamath\\\\Downloads\\\\MP\\\\New Codes\\\\Final Dataset\\\\Audio\\\\Confident\\\\02_14_Confident.wav\n",
      "MoviePy - Done.\n"
     ]
    },
    {
     "name": "stderr",
     "output_type": "stream",
     "text": [
      "                                                                    "
     ]
    },
    {
     "name": "stdout",
     "output_type": "stream",
     "text": [
      "MoviePy - Writing audio in C:\\\\Users\\\\Aditya Kamath\\\\Downloads\\\\MP\\\\New Codes\\\\Final Dataset\\\\Audio\\\\Confident\\\\02_15_Confident.wav\n",
      "MoviePy - Done.\n"
     ]
    },
    {
     "name": "stderr",
     "output_type": "stream",
     "text": [
      "                                                                    "
     ]
    },
    {
     "name": "stdout",
     "output_type": "stream",
     "text": [
      "MoviePy - Writing audio in C:\\\\Users\\\\Aditya Kamath\\\\Downloads\\\\MP\\\\New Codes\\\\Final Dataset\\\\Audio\\\\Confident\\\\02_16_Confident.wav\n",
      "MoviePy - Done.\n"
     ]
    },
    {
     "name": "stderr",
     "output_type": "stream",
     "text": [
      "                                                                    "
     ]
    },
    {
     "name": "stdout",
     "output_type": "stream",
     "text": [
      "MoviePy - Writing audio in C:\\\\Users\\\\Aditya Kamath\\\\Downloads\\\\MP\\\\New Codes\\\\Final Dataset\\\\Audio\\\\Confident\\\\02_17_Confident.wav\n",
      "MoviePy - Done.\n"
     ]
    },
    {
     "name": "stderr",
     "output_type": "stream",
     "text": [
      "                                                                    "
     ]
    },
    {
     "name": "stdout",
     "output_type": "stream",
     "text": [
      "MoviePy - Writing audio in C:\\\\Users\\\\Aditya Kamath\\\\Downloads\\\\MP\\\\New Codes\\\\Final Dataset\\\\Audio\\\\Confident\\\\02_18_Confident.wav\n",
      "MoviePy - Done.\n"
     ]
    },
    {
     "name": "stderr",
     "output_type": "stream",
     "text": [
      "chunk:   0%|          | 0/246 [00:00<?, ?it/s, now=None]"
     ]
    },
    {
     "name": "stdout",
     "output_type": "stream",
     "text": [
      "MoviePy - Writing audio in C:\\\\Users\\\\Aditya Kamath\\\\Downloads\\\\MP\\\\New Codes\\\\Final Dataset\\\\Audio\\\\Confident\\\\02_19_Confident.wav\n"
     ]
    },
    {
     "name": "stderr",
     "output_type": "stream",
     "text": [
      "                                                        \r"
     ]
    },
    {
     "name": "stdout",
     "output_type": "stream",
     "text": [
      "MoviePy - Done.\n"
     ]
    },
    {
     "name": "stderr",
     "output_type": "stream",
     "text": [
      "                                                        "
     ]
    },
    {
     "name": "stdout",
     "output_type": "stream",
     "text": [
      "MoviePy - Writing audio in C:\\\\Users\\\\Aditya Kamath\\\\Downloads\\\\MP\\\\New Codes\\\\Final Dataset\\\\Audio\\\\Confident\\\\02_20_Confident.wav\n",
      "MoviePy - Done.\n"
     ]
    },
    {
     "name": "stderr",
     "output_type": "stream",
     "text": [
      "                                                                    "
     ]
    },
    {
     "name": "stdout",
     "output_type": "stream",
     "text": [
      "MoviePy - Writing audio in C:\\\\Users\\\\Aditya Kamath\\\\Downloads\\\\MP\\\\New Codes\\\\Final Dataset\\\\Audio\\\\Confident\\\\02_21_Confident.wav\n",
      "MoviePy - Done.\n"
     ]
    },
    {
     "name": "stderr",
     "output_type": "stream",
     "text": [
      "                                                                    "
     ]
    },
    {
     "name": "stdout",
     "output_type": "stream",
     "text": [
      "MoviePy - Writing audio in C:\\\\Users\\\\Aditya Kamath\\\\Downloads\\\\MP\\\\New Codes\\\\Final Dataset\\\\Audio\\\\Confident\\\\02_22_Confident.wav\n",
      "MoviePy - Done.\n"
     ]
    },
    {
     "name": "stderr",
     "output_type": "stream",
     "text": [
      "                                                                    "
     ]
    },
    {
     "name": "stdout",
     "output_type": "stream",
     "text": [
      "MoviePy - Writing audio in C:\\\\Users\\\\Aditya Kamath\\\\Downloads\\\\MP\\\\New Codes\\\\Final Dataset\\\\Audio\\\\Confident\\\\02_23_Confident.wav\n",
      "MoviePy - Done.\n"
     ]
    },
    {
     "name": "stderr",
     "output_type": "stream",
     "text": [
      "                                                        "
     ]
    },
    {
     "name": "stdout",
     "output_type": "stream",
     "text": [
      "MoviePy - Writing audio in C:\\\\Users\\\\Aditya Kamath\\\\Downloads\\\\MP\\\\New Codes\\\\Final Dataset\\\\Audio\\\\Confident\\\\02_24_Confident.wav\n",
      "MoviePy - Done.\n"
     ]
    },
    {
     "name": "stderr",
     "output_type": "stream",
     "text": [
      "                                                        "
     ]
    },
    {
     "name": "stdout",
     "output_type": "stream",
     "text": [
      "MoviePy - Writing audio in C:\\\\Users\\\\Aditya Kamath\\\\Downloads\\\\MP\\\\New Codes\\\\Final Dataset\\\\Audio\\\\Confident\\\\02_25_Confident.wav\n",
      "MoviePy - Done.\n"
     ]
    },
    {
     "name": "stderr",
     "output_type": "stream",
     "text": [
      "                                                        "
     ]
    },
    {
     "name": "stdout",
     "output_type": "stream",
     "text": [
      "MoviePy - Writing audio in C:\\\\Users\\\\Aditya Kamath\\\\Downloads\\\\MP\\\\New Codes\\\\Final Dataset\\\\Audio\\\\Confident\\\\02_26_Confident.wav\n",
      "MoviePy - Done.\n"
     ]
    },
    {
     "name": "stderr",
     "output_type": "stream",
     "text": [
      "                                                        "
     ]
    },
    {
     "name": "stdout",
     "output_type": "stream",
     "text": [
      "MoviePy - Writing audio in C:\\\\Users\\\\Aditya Kamath\\\\Downloads\\\\MP\\\\New Codes\\\\Final Dataset\\\\Audio\\\\Confident\\\\03_01_Confident.wav\n",
      "MoviePy - Done.\n"
     ]
    },
    {
     "name": "stderr",
     "output_type": "stream",
     "text": [
      "                                                        "
     ]
    },
    {
     "name": "stdout",
     "output_type": "stream",
     "text": [
      "MoviePy - Writing audio in C:\\\\Users\\\\Aditya Kamath\\\\Downloads\\\\MP\\\\New Codes\\\\Final Dataset\\\\Audio\\\\Confident\\\\03_02_Confident.wav\n",
      "MoviePy - Done.\n"
     ]
    },
    {
     "name": "stderr",
     "output_type": "stream",
     "text": [
      "                                                                    "
     ]
    },
    {
     "name": "stdout",
     "output_type": "stream",
     "text": [
      "MoviePy - Writing audio in C:\\\\Users\\\\Aditya Kamath\\\\Downloads\\\\MP\\\\New Codes\\\\Final Dataset\\\\Audio\\\\Confident\\\\03_03_Confident.wav\n",
      "MoviePy - Done.\n"
     ]
    },
    {
     "name": "stderr",
     "output_type": "stream",
     "text": [
      "                                                                    "
     ]
    },
    {
     "name": "stdout",
     "output_type": "stream",
     "text": [
      "MoviePy - Writing audio in C:\\\\Users\\\\Aditya Kamath\\\\Downloads\\\\MP\\\\New Codes\\\\Final Dataset\\\\Audio\\\\Confident\\\\03_04_Confident.wav\n",
      "MoviePy - Done.\n"
     ]
    },
    {
     "name": "stderr",
     "output_type": "stream",
     "text": [
      "chunk:  60%|█████▉    | 119/200 [00:00<00:00, 1189.93it/s, now=None]"
     ]
    },
    {
     "name": "stdout",
     "output_type": "stream",
     "text": [
      "MoviePy - Writing audio in C:\\\\Users\\\\Aditya Kamath\\\\Downloads\\\\MP\\\\New Codes\\\\Final Dataset\\\\Audio\\\\Confident\\\\03_05_Confident.wav\n"
     ]
    },
    {
     "name": "stderr",
     "output_type": "stream",
     "text": [
      "                                                                    \r"
     ]
    },
    {
     "name": "stdout",
     "output_type": "stream",
     "text": [
      "MoviePy - Done.\n"
     ]
    },
    {
     "name": "stderr",
     "output_type": "stream",
     "text": [
      "                                                                    "
     ]
    },
    {
     "name": "stdout",
     "output_type": "stream",
     "text": [
      "MoviePy - Writing audio in C:\\\\Users\\\\Aditya Kamath\\\\Downloads\\\\MP\\\\New Codes\\\\Final Dataset\\\\Audio\\\\Confident\\\\03_06_Confident.wav\n",
      "MoviePy - Done.\n"
     ]
    },
    {
     "name": "stderr",
     "output_type": "stream",
     "text": [
      "                                                        "
     ]
    },
    {
     "name": "stdout",
     "output_type": "stream",
     "text": [
      "MoviePy - Writing audio in C:\\\\Users\\\\Aditya Kamath\\\\Downloads\\\\MP\\\\New Codes\\\\Final Dataset\\\\Audio\\\\Confident\\\\03_07_Confident.wav\n",
      "MoviePy - Done.\n"
     ]
    },
    {
     "name": "stderr",
     "output_type": "stream",
     "text": [
      "                                                                    "
     ]
    },
    {
     "name": "stdout",
     "output_type": "stream",
     "text": [
      "MoviePy - Writing audio in C:\\\\Users\\\\Aditya Kamath\\\\Downloads\\\\MP\\\\New Codes\\\\Final Dataset\\\\Audio\\\\Confident\\\\03_08_Confident.wav\n",
      "MoviePy - Done.\n"
     ]
    },
    {
     "name": "stderr",
     "output_type": "stream",
     "text": [
      "                                                                    "
     ]
    },
    {
     "name": "stdout",
     "output_type": "stream",
     "text": [
      "MoviePy - Writing audio in C:\\\\Users\\\\Aditya Kamath\\\\Downloads\\\\MP\\\\New Codes\\\\Final Dataset\\\\Audio\\\\Confident\\\\03_09_Confident.wav\n",
      "MoviePy - Done.\n"
     ]
    },
    {
     "name": "stderr",
     "output_type": "stream",
     "text": [
      "                                                                    "
     ]
    },
    {
     "name": "stdout",
     "output_type": "stream",
     "text": [
      "MoviePy - Writing audio in C:\\\\Users\\\\Aditya Kamath\\\\Downloads\\\\MP\\\\New Codes\\\\Final Dataset\\\\Audio\\\\Confident\\\\03_10_Confident.wav\n",
      "MoviePy - Done.\n"
     ]
    },
    {
     "name": "stderr",
     "output_type": "stream",
     "text": [
      "                                                                    "
     ]
    },
    {
     "name": "stdout",
     "output_type": "stream",
     "text": [
      "MoviePy - Writing audio in C:\\\\Users\\\\Aditya Kamath\\\\Downloads\\\\MP\\\\New Codes\\\\Final Dataset\\\\Audio\\\\Confident\\\\03_11_Confident.wav\n",
      "MoviePy - Done.\n"
     ]
    },
    {
     "name": "stderr",
     "output_type": "stream",
     "text": [
      "                                                                    "
     ]
    },
    {
     "name": "stdout",
     "output_type": "stream",
     "text": [
      "MoviePy - Writing audio in C:\\\\Users\\\\Aditya Kamath\\\\Downloads\\\\MP\\\\New Codes\\\\Final Dataset\\\\Audio\\\\Confident\\\\03_12_Confident.wav\n",
      "MoviePy - Done.\n"
     ]
    },
    {
     "name": "stderr",
     "output_type": "stream",
     "text": [
      "                                                                    "
     ]
    },
    {
     "name": "stdout",
     "output_type": "stream",
     "text": [
      "MoviePy - Writing audio in C:\\\\Users\\\\Aditya Kamath\\\\Downloads\\\\MP\\\\New Codes\\\\Final Dataset\\\\Audio\\\\Confident\\\\03_13_Confident.wav\n",
      "MoviePy - Done.\n"
     ]
    },
    {
     "name": "stderr",
     "output_type": "stream",
     "text": [
      "                                                                    "
     ]
    },
    {
     "name": "stdout",
     "output_type": "stream",
     "text": [
      "MoviePy - Writing audio in C:\\\\Users\\\\Aditya Kamath\\\\Downloads\\\\MP\\\\New Codes\\\\Final Dataset\\\\Audio\\\\Confident\\\\03_14_Confident.wav\n"
     ]
    },
    {
     "name": "stderr",
     "output_type": "stream",
     "text": [
      "\r"
     ]
    },
    {
     "name": "stdout",
     "output_type": "stream",
     "text": [
      "MoviePy - Done.\n"
     ]
    },
    {
     "name": "stderr",
     "output_type": "stream",
     "text": [
      "                                                                    "
     ]
    },
    {
     "name": "stdout",
     "output_type": "stream",
     "text": [
      "MoviePy - Writing audio in C:\\\\Users\\\\Aditya Kamath\\\\Downloads\\\\MP\\\\New Codes\\\\Final Dataset\\\\Audio\\\\Confident\\\\03_15_Confident.wav\n",
      "MoviePy - Done.\n"
     ]
    },
    {
     "name": "stderr",
     "output_type": "stream",
     "text": [
      "                                                                    "
     ]
    },
    {
     "name": "stdout",
     "output_type": "stream",
     "text": [
      "MoviePy - Writing audio in C:\\\\Users\\\\Aditya Kamath\\\\Downloads\\\\MP\\\\New Codes\\\\Final Dataset\\\\Audio\\\\Confident\\\\03_16_Confident.wav\n"
     ]
    },
    {
     "name": "stderr",
     "output_type": "stream",
     "text": [
      "\r"
     ]
    },
    {
     "name": "stdout",
     "output_type": "stream",
     "text": [
      "MoviePy - Done.\n"
     ]
    },
    {
     "name": "stderr",
     "output_type": "stream",
     "text": [
      "chunk:  82%|████████▏ | 182/221 [00:00<00:00, 1802.77it/s, now=None]"
     ]
    },
    {
     "name": "stdout",
     "output_type": "stream",
     "text": [
      "MoviePy - Writing audio in C:\\\\Users\\\\Aditya Kamath\\\\Downloads\\\\MP\\\\New Codes\\\\Final Dataset\\\\Audio\\\\Confident\\\\03_17_Confident.wav\n"
     ]
    },
    {
     "name": "stderr",
     "output_type": "stream",
     "text": [
      "                                                                    \r"
     ]
    },
    {
     "name": "stdout",
     "output_type": "stream",
     "text": [
      "MoviePy - Done.\n"
     ]
    },
    {
     "name": "stderr",
     "output_type": "stream",
     "text": [
      "                                                                    "
     ]
    },
    {
     "name": "stdout",
     "output_type": "stream",
     "text": [
      "MoviePy - Writing audio in C:\\\\Users\\\\Aditya Kamath\\\\Downloads\\\\MP\\\\New Codes\\\\Final Dataset\\\\Audio\\\\Confident\\\\03_18_Confident.wav\n",
      "MoviePy - Done.\n"
     ]
    },
    {
     "name": "stderr",
     "output_type": "stream",
     "text": [
      "                                                                    "
     ]
    },
    {
     "name": "stdout",
     "output_type": "stream",
     "text": [
      "MoviePy - Writing audio in C:\\\\Users\\\\Aditya Kamath\\\\Downloads\\\\MP\\\\New Codes\\\\Final Dataset\\\\Audio\\\\Confident\\\\03_19_Confident.wav\n",
      "MoviePy - Done.\n"
     ]
    },
    {
     "name": "stderr",
     "output_type": "stream",
     "text": [
      "                                                                    "
     ]
    },
    {
     "name": "stdout",
     "output_type": "stream",
     "text": [
      "MoviePy - Writing audio in C:\\\\Users\\\\Aditya Kamath\\\\Downloads\\\\MP\\\\New Codes\\\\Final Dataset\\\\Audio\\\\Confident\\\\03_20_Confident.wav\n",
      "MoviePy - Done.\n"
     ]
    },
    {
     "name": "stderr",
     "output_type": "stream",
     "text": [
      "                                                                    "
     ]
    },
    {
     "name": "stdout",
     "output_type": "stream",
     "text": [
      "MoviePy - Writing audio in C:\\\\Users\\\\Aditya Kamath\\\\Downloads\\\\MP\\\\New Codes\\\\Final Dataset\\\\Audio\\\\Confident\\\\03_21_Confident.wav\n",
      "MoviePy - Done.\n"
     ]
    },
    {
     "name": "stderr",
     "output_type": "stream",
     "text": [
      "                                                                    "
     ]
    },
    {
     "name": "stdout",
     "output_type": "stream",
     "text": [
      "MoviePy - Writing audio in C:\\\\Users\\\\Aditya Kamath\\\\Downloads\\\\MP\\\\New Codes\\\\Final Dataset\\\\Audio\\\\Confident\\\\03_22_Confident.wav\n",
      "MoviePy - Done.\n"
     ]
    },
    {
     "name": "stderr",
     "output_type": "stream",
     "text": [
      "                                                                    "
     ]
    },
    {
     "name": "stdout",
     "output_type": "stream",
     "text": [
      "MoviePy - Writing audio in C:\\\\Users\\\\Aditya Kamath\\\\Downloads\\\\MP\\\\New Codes\\\\Final Dataset\\\\Audio\\\\Confident\\\\03_23_Confident.wav\n",
      "MoviePy - Done.\n"
     ]
    },
    {
     "name": "stderr",
     "output_type": "stream",
     "text": [
      "                                                        "
     ]
    },
    {
     "name": "stdout",
     "output_type": "stream",
     "text": [
      "MoviePy - Writing audio in C:\\\\Users\\\\Aditya Kamath\\\\Downloads\\\\MP\\\\New Codes\\\\Final Dataset\\\\Audio\\\\Confident\\\\03_24_Confident.wav\n",
      "MoviePy - Done.\n"
     ]
    },
    {
     "name": "stderr",
     "output_type": "stream",
     "text": [
      "                                                        "
     ]
    },
    {
     "name": "stdout",
     "output_type": "stream",
     "text": [
      "MoviePy - Writing audio in C:\\\\Users\\\\Aditya Kamath\\\\Downloads\\\\MP\\\\New Codes\\\\Final Dataset\\\\Audio\\\\Confident\\\\03_25_Confident.wav\n",
      "MoviePy - Done.\n"
     ]
    },
    {
     "name": "stderr",
     "output_type": "stream",
     "text": [
      "                                                                    "
     ]
    },
    {
     "name": "stdout",
     "output_type": "stream",
     "text": [
      "MoviePy - Writing audio in C:\\\\Users\\\\Aditya Kamath\\\\Downloads\\\\MP\\\\New Codes\\\\Final Dataset\\\\Audio\\\\Confident\\\\03_26_Confident.wav\n",
      "MoviePy - Done.\n"
     ]
    },
    {
     "name": "stderr",
     "output_type": "stream",
     "text": [
      "                                                                    "
     ]
    },
    {
     "name": "stdout",
     "output_type": "stream",
     "text": [
      "MoviePy - Writing audio in C:\\\\Users\\\\Aditya Kamath\\\\Downloads\\\\MP\\\\New Codes\\\\Final Dataset\\\\Audio\\\\Confident\\\\04_01_Confident.wav\n",
      "MoviePy - Done.\n"
     ]
    },
    {
     "name": "stderr",
     "output_type": "stream",
     "text": [
      "                                                                    "
     ]
    },
    {
     "name": "stdout",
     "output_type": "stream",
     "text": [
      "MoviePy - Writing audio in C:\\\\Users\\\\Aditya Kamath\\\\Downloads\\\\MP\\\\New Codes\\\\Final Dataset\\\\Audio\\\\Confident\\\\04_02_Confident.wav\n",
      "MoviePy - Done.\n"
     ]
    },
    {
     "name": "stderr",
     "output_type": "stream",
     "text": [
      "chunk:  52%|█████▏    | 153/296 [00:00<00:00, 1433.89it/s, now=None]"
     ]
    },
    {
     "name": "stdout",
     "output_type": "stream",
     "text": [
      "MoviePy - Writing audio in C:\\\\Users\\\\Aditya Kamath\\\\Downloads\\\\MP\\\\New Codes\\\\Final Dataset\\\\Audio\\\\Confident\\\\04_03_Confident.wav\n"
     ]
    },
    {
     "name": "stderr",
     "output_type": "stream",
     "text": [
      "                                                                    \r"
     ]
    },
    {
     "name": "stdout",
     "output_type": "stream",
     "text": [
      "MoviePy - Done.\n"
     ]
    },
    {
     "name": "stderr",
     "output_type": "stream",
     "text": [
      "                                                                    "
     ]
    },
    {
     "name": "stdout",
     "output_type": "stream",
     "text": [
      "MoviePy - Writing audio in C:\\\\Users\\\\Aditya Kamath\\\\Downloads\\\\MP\\\\New Codes\\\\Final Dataset\\\\Audio\\\\Confident\\\\04_04_Confident.wav\n",
      "MoviePy - Done.\n"
     ]
    },
    {
     "name": "stderr",
     "output_type": "stream",
     "text": [
      "                                                                    "
     ]
    },
    {
     "name": "stdout",
     "output_type": "stream",
     "text": [
      "MoviePy - Writing audio in C:\\\\Users\\\\Aditya Kamath\\\\Downloads\\\\MP\\\\New Codes\\\\Final Dataset\\\\Audio\\\\Confident\\\\04_05_Confident.wav\n",
      "MoviePy - Done.\n"
     ]
    },
    {
     "name": "stderr",
     "output_type": "stream",
     "text": [
      "                                                                    "
     ]
    },
    {
     "name": "stdout",
     "output_type": "stream",
     "text": [
      "MoviePy - Writing audio in C:\\\\Users\\\\Aditya Kamath\\\\Downloads\\\\MP\\\\New Codes\\\\Final Dataset\\\\Audio\\\\Confident\\\\04_06_Confident.wav\n",
      "MoviePy - Done.\n"
     ]
    },
    {
     "name": "stderr",
     "output_type": "stream",
     "text": [
      "                                                                    "
     ]
    },
    {
     "name": "stdout",
     "output_type": "stream",
     "text": [
      "MoviePy - Writing audio in C:\\\\Users\\\\Aditya Kamath\\\\Downloads\\\\MP\\\\New Codes\\\\Final Dataset\\\\Audio\\\\Confident\\\\04_07_Confident.wav\n",
      "MoviePy - Done.\n"
     ]
    },
    {
     "name": "stderr",
     "output_type": "stream",
     "text": [
      "                                                                    "
     ]
    },
    {
     "name": "stdout",
     "output_type": "stream",
     "text": [
      "MoviePy - Writing audio in C:\\\\Users\\\\Aditya Kamath\\\\Downloads\\\\MP\\\\New Codes\\\\Final Dataset\\\\Audio\\\\Confident\\\\04_08_Confident.wav\n"
     ]
    },
    {
     "name": "stderr",
     "output_type": "stream",
     "text": [
      "\r"
     ]
    },
    {
     "name": "stdout",
     "output_type": "stream",
     "text": [
      "MoviePy - Done.\n"
     ]
    },
    {
     "name": "stderr",
     "output_type": "stream",
     "text": [
      "                                                                    "
     ]
    },
    {
     "name": "stdout",
     "output_type": "stream",
     "text": [
      "MoviePy - Writing audio in C:\\\\Users\\\\Aditya Kamath\\\\Downloads\\\\MP\\\\New Codes\\\\Final Dataset\\\\Audio\\\\Confident\\\\04_09_Confident.wav\n",
      "MoviePy - Done.\n"
     ]
    },
    {
     "name": "stderr",
     "output_type": "stream",
     "text": [
      "                                                                    "
     ]
    },
    {
     "name": "stdout",
     "output_type": "stream",
     "text": [
      "MoviePy - Writing audio in C:\\\\Users\\\\Aditya Kamath\\\\Downloads\\\\MP\\\\New Codes\\\\Final Dataset\\\\Audio\\\\Confident\\\\04_10_Confident.wav\n",
      "MoviePy - Done.\n"
     ]
    },
    {
     "name": "stderr",
     "output_type": "stream",
     "text": [
      "                                                                    "
     ]
    },
    {
     "name": "stdout",
     "output_type": "stream",
     "text": [
      "MoviePy - Writing audio in C:\\\\Users\\\\Aditya Kamath\\\\Downloads\\\\MP\\\\New Codes\\\\Final Dataset\\\\Audio\\\\Confident\\\\04_11_Confident.wav\n",
      "MoviePy - Done.\n"
     ]
    },
    {
     "name": "stderr",
     "output_type": "stream",
     "text": [
      "                                                                    "
     ]
    },
    {
     "name": "stdout",
     "output_type": "stream",
     "text": [
      "MoviePy - Writing audio in C:\\\\Users\\\\Aditya Kamath\\\\Downloads\\\\MP\\\\New Codes\\\\Final Dataset\\\\Audio\\\\Confident\\\\04_12_Confident.wav\n",
      "MoviePy - Done.\n"
     ]
    },
    {
     "name": "stderr",
     "output_type": "stream",
     "text": [
      "                                                                    "
     ]
    },
    {
     "name": "stdout",
     "output_type": "stream",
     "text": [
      "MoviePy - Writing audio in C:\\\\Users\\\\Aditya Kamath\\\\Downloads\\\\MP\\\\New Codes\\\\Final Dataset\\\\Audio\\\\Confident\\\\04_13_Confident.wav\n",
      "MoviePy - Done.\n"
     ]
    },
    {
     "name": "stderr",
     "output_type": "stream",
     "text": [
      "                                                                    "
     ]
    },
    {
     "name": "stdout",
     "output_type": "stream",
     "text": [
      "MoviePy - Writing audio in C:\\\\Users\\\\Aditya Kamath\\\\Downloads\\\\MP\\\\New Codes\\\\Final Dataset\\\\Audio\\\\Confident\\\\04_14_Confident.wav\n"
     ]
    },
    {
     "name": "stderr",
     "output_type": "stream",
     "text": [
      "\r"
     ]
    },
    {
     "name": "stdout",
     "output_type": "stream",
     "text": [
      "MoviePy - Done.\n"
     ]
    },
    {
     "name": "stderr",
     "output_type": "stream",
     "text": [
      "chunk:  40%|███▉      | 128/321 [00:00<00:00, 1272.93it/s, now=None]"
     ]
    },
    {
     "name": "stdout",
     "output_type": "stream",
     "text": [
      "MoviePy - Writing audio in C:\\\\Users\\\\Aditya Kamath\\\\Downloads\\\\MP\\\\New Codes\\\\Final Dataset\\\\Audio\\\\Confident\\\\04_15_Confident.wav\n"
     ]
    },
    {
     "name": "stderr",
     "output_type": "stream",
     "text": [
      "                                                                    \r"
     ]
    },
    {
     "name": "stdout",
     "output_type": "stream",
     "text": [
      "MoviePy - Done.\n"
     ]
    },
    {
     "name": "stderr",
     "output_type": "stream",
     "text": [
      "                                                                    "
     ]
    },
    {
     "name": "stdout",
     "output_type": "stream",
     "text": [
      "MoviePy - Writing audio in C:\\\\Users\\\\Aditya Kamath\\\\Downloads\\\\MP\\\\New Codes\\\\Final Dataset\\\\Audio\\\\Confident\\\\04_16_Confident.wav\n",
      "MoviePy - Done.\n"
     ]
    },
    {
     "name": "stderr",
     "output_type": "stream",
     "text": [
      "                                                                    "
     ]
    },
    {
     "name": "stdout",
     "output_type": "stream",
     "text": [
      "MoviePy - Writing audio in C:\\\\Users\\\\Aditya Kamath\\\\Downloads\\\\MP\\\\New Codes\\\\Final Dataset\\\\Audio\\\\Confident\\\\04_17_Confident.wav\n",
      "MoviePy - Done.\n"
     ]
    },
    {
     "name": "stderr",
     "output_type": "stream",
     "text": [
      "                                                                    "
     ]
    },
    {
     "name": "stdout",
     "output_type": "stream",
     "text": [
      "MoviePy - Writing audio in C:\\\\Users\\\\Aditya Kamath\\\\Downloads\\\\MP\\\\New Codes\\\\Final Dataset\\\\Audio\\\\Confident\\\\04_18_Confident.wav\n",
      "MoviePy - Done.\n"
     ]
    },
    {
     "name": "stderr",
     "output_type": "stream",
     "text": [
      "                                                                    "
     ]
    },
    {
     "name": "stdout",
     "output_type": "stream",
     "text": [
      "MoviePy - Writing audio in C:\\\\Users\\\\Aditya Kamath\\\\Downloads\\\\MP\\\\New Codes\\\\Final Dataset\\\\Audio\\\\Confident\\\\04_19_Confident.wav\n",
      "MoviePy - Done.\n"
     ]
    },
    {
     "name": "stderr",
     "output_type": "stream",
     "text": [
      "                                                                    "
     ]
    },
    {
     "name": "stdout",
     "output_type": "stream",
     "text": [
      "MoviePy - Writing audio in C:\\\\Users\\\\Aditya Kamath\\\\Downloads\\\\MP\\\\New Codes\\\\Final Dataset\\\\Audio\\\\Confident\\\\04_20_Confident.wav\n",
      "MoviePy - Done.\n"
     ]
    },
    {
     "name": "stderr",
     "output_type": "stream",
     "text": [
      "                                                                    "
     ]
    },
    {
     "name": "stdout",
     "output_type": "stream",
     "text": [
      "MoviePy - Writing audio in C:\\\\Users\\\\Aditya Kamath\\\\Downloads\\\\MP\\\\New Codes\\\\Final Dataset\\\\Audio\\\\Confident\\\\04_21_Confident.wav\n",
      "MoviePy - Done.\n"
     ]
    },
    {
     "name": "stderr",
     "output_type": "stream",
     "text": [
      "                                                                    "
     ]
    },
    {
     "name": "stdout",
     "output_type": "stream",
     "text": [
      "MoviePy - Writing audio in C:\\\\Users\\\\Aditya Kamath\\\\Downloads\\\\MP\\\\New Codes\\\\Final Dataset\\\\Audio\\\\Confident\\\\04_22_Confident.wav\n"
     ]
    },
    {
     "name": "stderr",
     "output_type": "stream",
     "text": [
      "\r"
     ]
    },
    {
     "name": "stdout",
     "output_type": "stream",
     "text": [
      "MoviePy - Done.\n"
     ]
    },
    {
     "name": "stderr",
     "output_type": "stream",
     "text": [
      "                                                                    "
     ]
    },
    {
     "name": "stdout",
     "output_type": "stream",
     "text": [
      "MoviePy - Writing audio in C:\\\\Users\\\\Aditya Kamath\\\\Downloads\\\\MP\\\\New Codes\\\\Final Dataset\\\\Audio\\\\Confident\\\\04_23_Confident.wav\n"
     ]
    },
    {
     "name": "stderr",
     "output_type": "stream",
     "text": [
      "\r"
     ]
    },
    {
     "name": "stdout",
     "output_type": "stream",
     "text": [
      "MoviePy - Done.\n"
     ]
    },
    {
     "name": "stderr",
     "output_type": "stream",
     "text": [
      "                                                                    "
     ]
    },
    {
     "name": "stdout",
     "output_type": "stream",
     "text": [
      "MoviePy - Writing audio in C:\\\\Users\\\\Aditya Kamath\\\\Downloads\\\\MP\\\\New Codes\\\\Final Dataset\\\\Audio\\\\Confident\\\\04_24_Confident.wav\n",
      "MoviePy - Done.\n"
     ]
    },
    {
     "name": "stderr",
     "output_type": "stream",
     "text": [
      "                                                                    "
     ]
    },
    {
     "name": "stdout",
     "output_type": "stream",
     "text": [
      "MoviePy - Writing audio in C:\\\\Users\\\\Aditya Kamath\\\\Downloads\\\\MP\\\\New Codes\\\\Final Dataset\\\\Audio\\\\Confident\\\\04_25_Confident.wav\n",
      "MoviePy - Done.\n"
     ]
    },
    {
     "name": "stderr",
     "output_type": "stream",
     "text": [
      "                                                                    "
     ]
    },
    {
     "name": "stdout",
     "output_type": "stream",
     "text": [
      "MoviePy - Writing audio in C:\\\\Users\\\\Aditya Kamath\\\\Downloads\\\\MP\\\\New Codes\\\\Final Dataset\\\\Audio\\\\Confident\\\\04_26_Confident.wav\n",
      "MoviePy - Done.\n"
     ]
    },
    {
     "name": "stderr",
     "output_type": "stream",
     "text": [
      "chunk:   0%|          | 0/221 [00:00<?, ?it/s, now=None]"
     ]
    },
    {
     "name": "stdout",
     "output_type": "stream",
     "text": [
      "MoviePy - Writing audio in C:\\\\Users\\\\Aditya Kamath\\\\Downloads\\\\MP\\\\New Codes\\\\Final Dataset\\\\Audio\\\\Confident\\\\05_01_Confident.wav\n"
     ]
    },
    {
     "name": "stderr",
     "output_type": "stream",
     "text": [
      "                                                                \r"
     ]
    },
    {
     "name": "stdout",
     "output_type": "stream",
     "text": [
      "MoviePy - Done.\n"
     ]
    },
    {
     "name": "stderr",
     "output_type": "stream",
     "text": [
      "                                                        "
     ]
    },
    {
     "name": "stdout",
     "output_type": "stream",
     "text": [
      "MoviePy - Writing audio in C:\\\\Users\\\\Aditya Kamath\\\\Downloads\\\\MP\\\\New Codes\\\\Final Dataset\\\\Audio\\\\Confident\\\\05_02_Confident.wav\n",
      "MoviePy - Done.\n"
     ]
    },
    {
     "name": "stderr",
     "output_type": "stream",
     "text": [
      "                                                                    "
     ]
    },
    {
     "name": "stdout",
     "output_type": "stream",
     "text": [
      "MoviePy - Writing audio in C:\\\\Users\\\\Aditya Kamath\\\\Downloads\\\\MP\\\\New Codes\\\\Final Dataset\\\\Audio\\\\Confident\\\\05_03_Confident.wav\n",
      "MoviePy - Done.\n"
     ]
    },
    {
     "name": "stderr",
     "output_type": "stream",
     "text": [
      "                                                                    "
     ]
    },
    {
     "name": "stdout",
     "output_type": "stream",
     "text": [
      "MoviePy - Writing audio in C:\\\\Users\\\\Aditya Kamath\\\\Downloads\\\\MP\\\\New Codes\\\\Final Dataset\\\\Audio\\\\Confident\\\\05_04_Confident.wav\n",
      "MoviePy - Done.\n"
     ]
    },
    {
     "name": "stderr",
     "output_type": "stream",
     "text": [
      "                                                        "
     ]
    },
    {
     "name": "stdout",
     "output_type": "stream",
     "text": [
      "MoviePy - Writing audio in C:\\\\Users\\\\Aditya Kamath\\\\Downloads\\\\MP\\\\New Codes\\\\Final Dataset\\\\Audio\\\\Confident\\\\05_05_Confident.wav\n",
      "MoviePy - Done.\n"
     ]
    },
    {
     "name": "stderr",
     "output_type": "stream",
     "text": [
      "                                                                    "
     ]
    },
    {
     "name": "stdout",
     "output_type": "stream",
     "text": [
      "MoviePy - Writing audio in C:\\\\Users\\\\Aditya Kamath\\\\Downloads\\\\MP\\\\New Codes\\\\Final Dataset\\\\Audio\\\\Confident\\\\05_06_Confident.wav\n",
      "MoviePy - Done.\n"
     ]
    },
    {
     "name": "stderr",
     "output_type": "stream",
     "text": [
      "                                                        "
     ]
    },
    {
     "name": "stdout",
     "output_type": "stream",
     "text": [
      "MoviePy - Writing audio in C:\\\\Users\\\\Aditya Kamath\\\\Downloads\\\\MP\\\\New Codes\\\\Final Dataset\\\\Audio\\\\Confident\\\\05_07_Confident.wav\n",
      "MoviePy - Done.\n"
     ]
    },
    {
     "name": "stderr",
     "output_type": "stream",
     "text": [
      "                                                        "
     ]
    },
    {
     "name": "stdout",
     "output_type": "stream",
     "text": [
      "MoviePy - Writing audio in C:\\\\Users\\\\Aditya Kamath\\\\Downloads\\\\MP\\\\New Codes\\\\Final Dataset\\\\Audio\\\\Confident\\\\05_08_Confident.wav\n",
      "MoviePy - Done.\n"
     ]
    },
    {
     "name": "stderr",
     "output_type": "stream",
     "text": [
      "                                                                    "
     ]
    },
    {
     "name": "stdout",
     "output_type": "stream",
     "text": [
      "MoviePy - Writing audio in C:\\\\Users\\\\Aditya Kamath\\\\Downloads\\\\MP\\\\New Codes\\\\Final Dataset\\\\Audio\\\\Confident\\\\05_09_Confident.wav\n",
      "MoviePy - Done.\n"
     ]
    },
    {
     "name": "stderr",
     "output_type": "stream",
     "text": [
      "                                                                    "
     ]
    },
    {
     "name": "stdout",
     "output_type": "stream",
     "text": [
      "MoviePy - Writing audio in C:\\\\Users\\\\Aditya Kamath\\\\Downloads\\\\MP\\\\New Codes\\\\Final Dataset\\\\Audio\\\\Confident\\\\05_10_Confident.wav\n",
      "MoviePy - Done.\n"
     ]
    },
    {
     "name": "stderr",
     "output_type": "stream",
     "text": [
      "                                                                    "
     ]
    },
    {
     "name": "stdout",
     "output_type": "stream",
     "text": [
      "MoviePy - Writing audio in C:\\\\Users\\\\Aditya Kamath\\\\Downloads\\\\MP\\\\New Codes\\\\Final Dataset\\\\Audio\\\\Confident\\\\05_11_Confident.wav\n",
      "MoviePy - Done.\n"
     ]
    },
    {
     "name": "stderr",
     "output_type": "stream",
     "text": [
      "                                                                    "
     ]
    },
    {
     "name": "stdout",
     "output_type": "stream",
     "text": [
      "MoviePy - Writing audio in C:\\\\Users\\\\Aditya Kamath\\\\Downloads\\\\MP\\\\New Codes\\\\Final Dataset\\\\Audio\\\\Confident\\\\05_12_Confident.wav\n",
      "MoviePy - Done.\n"
     ]
    },
    {
     "name": "stderr",
     "output_type": "stream",
     "text": [
      "chunk:  80%|████████  | 179/223 [00:00<00:00, 1782.95it/s, now=None]"
     ]
    },
    {
     "name": "stdout",
     "output_type": "stream",
     "text": [
      "MoviePy - Writing audio in C:\\\\Users\\\\Aditya Kamath\\\\Downloads\\\\MP\\\\New Codes\\\\Final Dataset\\\\Audio\\\\Confident\\\\05_13_Confident.wav\n"
     ]
    },
    {
     "name": "stderr",
     "output_type": "stream",
     "text": [
      "                                                                    \r"
     ]
    },
    {
     "name": "stdout",
     "output_type": "stream",
     "text": [
      "MoviePy - Done.\n"
     ]
    },
    {
     "name": "stderr",
     "output_type": "stream",
     "text": [
      "                                                                    "
     ]
    },
    {
     "name": "stdout",
     "output_type": "stream",
     "text": [
      "MoviePy - Writing audio in C:\\\\Users\\\\Aditya Kamath\\\\Downloads\\\\MP\\\\New Codes\\\\Final Dataset\\\\Audio\\\\Confident\\\\05_14_Confident.wav\n",
      "MoviePy - Done.\n"
     ]
    },
    {
     "name": "stderr",
     "output_type": "stream",
     "text": [
      "                                                                    "
     ]
    },
    {
     "name": "stdout",
     "output_type": "stream",
     "text": [
      "MoviePy - Writing audio in C:\\\\Users\\\\Aditya Kamath\\\\Downloads\\\\MP\\\\New Codes\\\\Final Dataset\\\\Audio\\\\Confident\\\\05_15_Confident.wav\n",
      "MoviePy - Done.\n"
     ]
    },
    {
     "name": "stderr",
     "output_type": "stream",
     "text": [
      "                                                                    "
     ]
    },
    {
     "name": "stdout",
     "output_type": "stream",
     "text": [
      "MoviePy - Writing audio in C:\\\\Users\\\\Aditya Kamath\\\\Downloads\\\\MP\\\\New Codes\\\\Final Dataset\\\\Audio\\\\Confident\\\\05_16_Confident.wav\n",
      "MoviePy - Done.\n"
     ]
    },
    {
     "name": "stderr",
     "output_type": "stream",
     "text": [
      "                                                                    "
     ]
    },
    {
     "name": "stdout",
     "output_type": "stream",
     "text": [
      "MoviePy - Writing audio in C:\\\\Users\\\\Aditya Kamath\\\\Downloads\\\\MP\\\\New Codes\\\\Final Dataset\\\\Audio\\\\Confident\\\\05_17_Confident.wav\n",
      "MoviePy - Done.\n"
     ]
    },
    {
     "name": "stderr",
     "output_type": "stream",
     "text": [
      "                                                                    "
     ]
    },
    {
     "name": "stdout",
     "output_type": "stream",
     "text": [
      "MoviePy - Writing audio in C:\\\\Users\\\\Aditya Kamath\\\\Downloads\\\\MP\\\\New Codes\\\\Final Dataset\\\\Audio\\\\Confident\\\\05_18_Confident.wav\n",
      "MoviePy - Done.\n"
     ]
    },
    {
     "name": "stderr",
     "output_type": "stream",
     "text": [
      "                                                                    "
     ]
    },
    {
     "name": "stdout",
     "output_type": "stream",
     "text": [
      "MoviePy - Writing audio in C:\\\\Users\\\\Aditya Kamath\\\\Downloads\\\\MP\\\\New Codes\\\\Final Dataset\\\\Audio\\\\Confident\\\\05_19_Confident.wav\n",
      "MoviePy - Done.\n"
     ]
    },
    {
     "name": "stderr",
     "output_type": "stream",
     "text": [
      "                                                        "
     ]
    },
    {
     "name": "stdout",
     "output_type": "stream",
     "text": [
      "MoviePy - Writing audio in C:\\\\Users\\\\Aditya Kamath\\\\Downloads\\\\MP\\\\New Codes\\\\Final Dataset\\\\Audio\\\\Confident\\\\05_20_Confident.wav\n",
      "MoviePy - Done.\n"
     ]
    },
    {
     "name": "stderr",
     "output_type": "stream",
     "text": [
      "                                                                    "
     ]
    },
    {
     "name": "stdout",
     "output_type": "stream",
     "text": [
      "MoviePy - Writing audio in C:\\\\Users\\\\Aditya Kamath\\\\Downloads\\\\MP\\\\New Codes\\\\Final Dataset\\\\Audio\\\\Confident\\\\05_21_Confident.wav\n",
      "MoviePy - Done.\n"
     ]
    },
    {
     "name": "stderr",
     "output_type": "stream",
     "text": [
      "chunk:  33%|███▎      | 204/621 [00:00<00:00, 1869.08it/s, now=None]"
     ]
    },
    {
     "name": "stdout",
     "output_type": "stream",
     "text": [
      "MoviePy - Writing audio in C:\\\\Users\\\\Aditya Kamath\\\\Downloads\\\\MP\\\\New Codes\\\\Final Dataset\\\\Audio\\\\Confident\\\\05_22_Confident.wav\n"
     ]
    },
    {
     "name": "stderr",
     "output_type": "stream",
     "text": [
      "                                                                    \r"
     ]
    },
    {
     "name": "stdout",
     "output_type": "stream",
     "text": [
      "MoviePy - Done.\n"
     ]
    },
    {
     "name": "stderr",
     "output_type": "stream",
     "text": [
      "                                                                    "
     ]
    },
    {
     "name": "stdout",
     "output_type": "stream",
     "text": [
      "MoviePy - Writing audio in C:\\\\Users\\\\Aditya Kamath\\\\Downloads\\\\MP\\\\New Codes\\\\Final Dataset\\\\Audio\\\\Confident\\\\05_23_Confident.wav\n",
      "MoviePy - Done.\n"
     ]
    },
    {
     "name": "stderr",
     "output_type": "stream",
     "text": [
      "                                                        "
     ]
    },
    {
     "name": "stdout",
     "output_type": "stream",
     "text": [
      "MoviePy - Writing audio in C:\\\\Users\\\\Aditya Kamath\\\\Downloads\\\\MP\\\\New Codes\\\\Final Dataset\\\\Audio\\\\Confident\\\\05_24_Confident.wav\n",
      "MoviePy - Done.\n"
     ]
    },
    {
     "name": "stderr",
     "output_type": "stream",
     "text": [
      "chunk:   0%|          | 0/165 [00:00<?, ?it/s, now=None]"
     ]
    },
    {
     "name": "stdout",
     "output_type": "stream",
     "text": [
      "MoviePy - Writing audio in C:\\\\Users\\\\Aditya Kamath\\\\Downloads\\\\MP\\\\New Codes\\\\Final Dataset\\\\Audio\\\\Confident\\\\05_25_Confident.wav\n"
     ]
    },
    {
     "name": "stderr",
     "output_type": "stream",
     "text": [
      "                                                                \r"
     ]
    },
    {
     "name": "stdout",
     "output_type": "stream",
     "text": [
      "MoviePy - Done.\n"
     ]
    },
    {
     "name": "stderr",
     "output_type": "stream",
     "text": [
      "                                                                    "
     ]
    },
    {
     "name": "stdout",
     "output_type": "stream",
     "text": [
      "MoviePy - Writing audio in C:\\\\Users\\\\Aditya Kamath\\\\Downloads\\\\MP\\\\New Codes\\\\Final Dataset\\\\Audio\\\\Confident\\\\05_26_Confident.wav\n",
      "MoviePy - Done.\n"
     ]
    },
    {
     "name": "stderr",
     "output_type": "stream",
     "text": [
      "                                                        "
     ]
    },
    {
     "name": "stdout",
     "output_type": "stream",
     "text": [
      "MoviePy - Writing audio in C:\\\\Users\\\\Aditya Kamath\\\\Downloads\\\\MP\\\\New Codes\\\\Final Dataset\\\\Audio\\\\Nervous\\\\01_01_Nervous.wav\n",
      "MoviePy - Done.\n"
     ]
    },
    {
     "name": "stderr",
     "output_type": "stream",
     "text": [
      "                                                                    "
     ]
    },
    {
     "name": "stdout",
     "output_type": "stream",
     "text": [
      "MoviePy - Writing audio in C:\\\\Users\\\\Aditya Kamath\\\\Downloads\\\\MP\\\\New Codes\\\\Final Dataset\\\\Audio\\\\Nervous\\\\01_02_Nervous.wav\n",
      "MoviePy - Done.\n"
     ]
    },
    {
     "name": "stderr",
     "output_type": "stream",
     "text": [
      "                                                                    "
     ]
    },
    {
     "name": "stdout",
     "output_type": "stream",
     "text": [
      "MoviePy - Writing audio in C:\\\\Users\\\\Aditya Kamath\\\\Downloads\\\\MP\\\\New Codes\\\\Final Dataset\\\\Audio\\\\Nervous\\\\01_03_Nervous.wav\n",
      "MoviePy - Done.\n"
     ]
    },
    {
     "name": "stderr",
     "output_type": "stream",
     "text": [
      "                                                                    "
     ]
    },
    {
     "name": "stdout",
     "output_type": "stream",
     "text": [
      "MoviePy - Writing audio in C:\\\\Users\\\\Aditya Kamath\\\\Downloads\\\\MP\\\\New Codes\\\\Final Dataset\\\\Audio\\\\Nervous\\\\01_04_Nervous.wav\n"
     ]
    },
    {
     "name": "stderr",
     "output_type": "stream",
     "text": [
      "\r"
     ]
    },
    {
     "name": "stdout",
     "output_type": "stream",
     "text": [
      "MoviePy - Done.\n"
     ]
    },
    {
     "name": "stderr",
     "output_type": "stream",
     "text": [
      "                                                                    "
     ]
    },
    {
     "name": "stdout",
     "output_type": "stream",
     "text": [
      "MoviePy - Writing audio in C:\\\\Users\\\\Aditya Kamath\\\\Downloads\\\\MP\\\\New Codes\\\\Final Dataset\\\\Audio\\\\Nervous\\\\01_05_Nervous.wav\n"
     ]
    },
    {
     "name": "stderr",
     "output_type": "stream",
     "text": [
      "\r"
     ]
    },
    {
     "name": "stdout",
     "output_type": "stream",
     "text": [
      "MoviePy - Done.\n"
     ]
    },
    {
     "name": "stderr",
     "output_type": "stream",
     "text": [
      "                                                                    "
     ]
    },
    {
     "name": "stdout",
     "output_type": "stream",
     "text": [
      "MoviePy - Writing audio in C:\\\\Users\\\\Aditya Kamath\\\\Downloads\\\\MP\\\\New Codes\\\\Final Dataset\\\\Audio\\\\Nervous\\\\01_06_Nervous.wav\n",
      "MoviePy - Done.\n"
     ]
    },
    {
     "name": "stderr",
     "output_type": "stream",
     "text": [
      "                                                                    "
     ]
    },
    {
     "name": "stdout",
     "output_type": "stream",
     "text": [
      "MoviePy - Writing audio in C:\\\\Users\\\\Aditya Kamath\\\\Downloads\\\\MP\\\\New Codes\\\\Final Dataset\\\\Audio\\\\Nervous\\\\01_07_Nervous.wav\n",
      "MoviePy - Done.\n"
     ]
    },
    {
     "name": "stderr",
     "output_type": "stream",
     "text": [
      "                                                                    "
     ]
    },
    {
     "name": "stdout",
     "output_type": "stream",
     "text": [
      "MoviePy - Writing audio in C:\\\\Users\\\\Aditya Kamath\\\\Downloads\\\\MP\\\\New Codes\\\\Final Dataset\\\\Audio\\\\Nervous\\\\01_08_Nervous.wav\n"
     ]
    },
    {
     "name": "stderr",
     "output_type": "stream",
     "text": [
      "\r"
     ]
    },
    {
     "name": "stdout",
     "output_type": "stream",
     "text": [
      "MoviePy - Done.\n"
     ]
    },
    {
     "name": "stderr",
     "output_type": "stream",
     "text": [
      "chunk:  86%|████████▋ | 459/532 [00:00<00:00, 2339.87it/s, now=None]"
     ]
    },
    {
     "name": "stdout",
     "output_type": "stream",
     "text": [
      "MoviePy - Writing audio in C:\\\\Users\\\\Aditya Kamath\\\\Downloads\\\\MP\\\\New Codes\\\\Final Dataset\\\\Audio\\\\Nervous\\\\01_09_Nervous.wav\n"
     ]
    },
    {
     "name": "stderr",
     "output_type": "stream",
     "text": [
      "                                                                    \r"
     ]
    },
    {
     "name": "stdout",
     "output_type": "stream",
     "text": [
      "MoviePy - Done.\n"
     ]
    },
    {
     "name": "stderr",
     "output_type": "stream",
     "text": [
      "                                                                    "
     ]
    },
    {
     "name": "stdout",
     "output_type": "stream",
     "text": [
      "MoviePy - Writing audio in C:\\\\Users\\\\Aditya Kamath\\\\Downloads\\\\MP\\\\New Codes\\\\Final Dataset\\\\Audio\\\\Nervous\\\\01_10_Nervous.wav\n"
     ]
    },
    {
     "name": "stderr",
     "output_type": "stream",
     "text": [
      "\r"
     ]
    },
    {
     "name": "stdout",
     "output_type": "stream",
     "text": [
      "MoviePy - Done.\n"
     ]
    },
    {
     "name": "stderr",
     "output_type": "stream",
     "text": [
      "chunk:   0%|          | 0/286 [00:00<?, ?it/s, now=None]"
     ]
    },
    {
     "name": "stdout",
     "output_type": "stream",
     "text": [
      "MoviePy - Writing audio in C:\\\\Users\\\\Aditya Kamath\\\\Downloads\\\\MP\\\\New Codes\\\\Final Dataset\\\\Audio\\\\Nervous\\\\01_11_Nervous.wav\n"
     ]
    },
    {
     "name": "stderr",
     "output_type": "stream",
     "text": [
      "                                                                    \r"
     ]
    },
    {
     "name": "stdout",
     "output_type": "stream",
     "text": [
      "MoviePy - Done.\n"
     ]
    },
    {
     "name": "stderr",
     "output_type": "stream",
     "text": [
      "chunk:  95%|█████████▍| 411/434 [00:00<00:00, 2051.18it/s, now=None]"
     ]
    },
    {
     "name": "stdout",
     "output_type": "stream",
     "text": [
      "MoviePy - Writing audio in C:\\\\Users\\\\Aditya Kamath\\\\Downloads\\\\MP\\\\New Codes\\\\Final Dataset\\\\Audio\\\\Nervous\\\\01_12_Nervous.wav\n"
     ]
    },
    {
     "name": "stderr",
     "output_type": "stream",
     "text": [
      "                                                                    \r"
     ]
    },
    {
     "name": "stdout",
     "output_type": "stream",
     "text": [
      "MoviePy - Done.\n"
     ]
    },
    {
     "name": "stderr",
     "output_type": "stream",
     "text": [
      "                                                                    "
     ]
    },
    {
     "name": "stdout",
     "output_type": "stream",
     "text": [
      "MoviePy - Writing audio in C:\\\\Users\\\\Aditya Kamath\\\\Downloads\\\\MP\\\\New Codes\\\\Final Dataset\\\\Audio\\\\Nervous\\\\01_13_Nervous.wav\n",
      "MoviePy - Done.\n"
     ]
    },
    {
     "name": "stderr",
     "output_type": "stream",
     "text": [
      "                                                                    "
     ]
    },
    {
     "name": "stdout",
     "output_type": "stream",
     "text": [
      "MoviePy - Writing audio in C:\\\\Users\\\\Aditya Kamath\\\\Downloads\\\\MP\\\\New Codes\\\\Final Dataset\\\\Audio\\\\Nervous\\\\01_14_Nervous.wav\n",
      "MoviePy - Done.\n"
     ]
    },
    {
     "name": "stderr",
     "output_type": "stream",
     "text": [
      "chunk:  41%|████      | 204/496 [00:00<00:00, 1979.01it/s, now=None]"
     ]
    },
    {
     "name": "stdout",
     "output_type": "stream",
     "text": [
      "MoviePy - Writing audio in C:\\\\Users\\\\Aditya Kamath\\\\Downloads\\\\MP\\\\New Codes\\\\Final Dataset\\\\Audio\\\\Nervous\\\\01_15_Nervous.wav\n"
     ]
    },
    {
     "name": "stderr",
     "output_type": "stream",
     "text": [
      "                                                                    \r"
     ]
    },
    {
     "name": "stdout",
     "output_type": "stream",
     "text": [
      "MoviePy - Done.\n"
     ]
    },
    {
     "name": "stderr",
     "output_type": "stream",
     "text": [
      "                                                                    "
     ]
    },
    {
     "name": "stdout",
     "output_type": "stream",
     "text": [
      "MoviePy - Writing audio in C:\\\\Users\\\\Aditya Kamath\\\\Downloads\\\\MP\\\\New Codes\\\\Final Dataset\\\\Audio\\\\Nervous\\\\01_16_Nervous.wav\n",
      "MoviePy - Done.\n"
     ]
    },
    {
     "name": "stderr",
     "output_type": "stream",
     "text": [
      "                                                                    "
     ]
    },
    {
     "name": "stdout",
     "output_type": "stream",
     "text": [
      "MoviePy - Writing audio in C:\\\\Users\\\\Aditya Kamath\\\\Downloads\\\\MP\\\\New Codes\\\\Final Dataset\\\\Audio\\\\Nervous\\\\01_17_Nervous.wav\n",
      "MoviePy - Done.\n"
     ]
    },
    {
     "name": "stderr",
     "output_type": "stream",
     "text": [
      "                                                                    "
     ]
    },
    {
     "name": "stdout",
     "output_type": "stream",
     "text": [
      "MoviePy - Writing audio in C:\\\\Users\\\\Aditya Kamath\\\\Downloads\\\\MP\\\\New Codes\\\\Final Dataset\\\\Audio\\\\Nervous\\\\01_18_Nervous.wav\n",
      "MoviePy - Done.\n"
     ]
    },
    {
     "name": "stderr",
     "output_type": "stream",
     "text": [
      "                                                                    "
     ]
    },
    {
     "name": "stdout",
     "output_type": "stream",
     "text": [
      "MoviePy - Writing audio in C:\\\\Users\\\\Aditya Kamath\\\\Downloads\\\\MP\\\\New Codes\\\\Final Dataset\\\\Audio\\\\Nervous\\\\01_19_Nervous.wav\n",
      "MoviePy - Done.\n"
     ]
    },
    {
     "name": "stderr",
     "output_type": "stream",
     "text": [
      "                                                                    "
     ]
    },
    {
     "name": "stdout",
     "output_type": "stream",
     "text": [
      "MoviePy - Writing audio in C:\\\\Users\\\\Aditya Kamath\\\\Downloads\\\\MP\\\\New Codes\\\\Final Dataset\\\\Audio\\\\Nervous\\\\01_20_Nervous.wav\n",
      "MoviePy - Done.\n"
     ]
    },
    {
     "name": "stderr",
     "output_type": "stream",
     "text": [
      "                                                                    "
     ]
    },
    {
     "name": "stdout",
     "output_type": "stream",
     "text": [
      "MoviePy - Writing audio in C:\\\\Users\\\\Aditya Kamath\\\\Downloads\\\\MP\\\\New Codes\\\\Final Dataset\\\\Audio\\\\Nervous\\\\01_21_Nervous.wav\n"
     ]
    },
    {
     "name": "stderr",
     "output_type": "stream",
     "text": [
      "\r"
     ]
    },
    {
     "name": "stdout",
     "output_type": "stream",
     "text": [
      "MoviePy - Done.\n"
     ]
    },
    {
     "name": "stderr",
     "output_type": "stream",
     "text": [
      "                                                                    "
     ]
    },
    {
     "name": "stdout",
     "output_type": "stream",
     "text": [
      "MoviePy - Writing audio in C:\\\\Users\\\\Aditya Kamath\\\\Downloads\\\\MP\\\\New Codes\\\\Final Dataset\\\\Audio\\\\Nervous\\\\01_22_Nervous.wav\n"
     ]
    },
    {
     "name": "stderr",
     "output_type": "stream",
     "text": [
      "\r"
     ]
    },
    {
     "name": "stdout",
     "output_type": "stream",
     "text": [
      "MoviePy - Done.\n"
     ]
    },
    {
     "name": "stderr",
     "output_type": "stream",
     "text": [
      "chunk:  23%|██▎       | 123/539 [00:00<00:00, 1223.00it/s, now=None]"
     ]
    },
    {
     "name": "stdout",
     "output_type": "stream",
     "text": [
      "MoviePy - Writing audio in C:\\\\Users\\\\Aditya Kamath\\\\Downloads\\\\MP\\\\New Codes\\\\Final Dataset\\\\Audio\\\\Nervous\\\\01_23_Nervous.wav\n"
     ]
    },
    {
     "name": "stderr",
     "output_type": "stream",
     "text": [
      "                                                                    \r"
     ]
    },
    {
     "name": "stdout",
     "output_type": "stream",
     "text": [
      "MoviePy - Done.\n"
     ]
    },
    {
     "name": "stderr",
     "output_type": "stream",
     "text": [
      "                                                                    "
     ]
    },
    {
     "name": "stdout",
     "output_type": "stream",
     "text": [
      "MoviePy - Writing audio in C:\\\\Users\\\\Aditya Kamath\\\\Downloads\\\\MP\\\\New Codes\\\\Final Dataset\\\\Audio\\\\Nervous\\\\01_24_Nervous.wav\n"
     ]
    },
    {
     "name": "stderr",
     "output_type": "stream",
     "text": [
      "\r"
     ]
    },
    {
     "name": "stdout",
     "output_type": "stream",
     "text": [
      "MoviePy - Done.\n"
     ]
    },
    {
     "name": "stderr",
     "output_type": "stream",
     "text": [
      "                                                                    "
     ]
    },
    {
     "name": "stdout",
     "output_type": "stream",
     "text": [
      "MoviePy - Writing audio in C:\\\\Users\\\\Aditya Kamath\\\\Downloads\\\\MP\\\\New Codes\\\\Final Dataset\\\\Audio\\\\Nervous\\\\01_25_Nervous.wav\n",
      "MoviePy - Done.\n"
     ]
    },
    {
     "name": "stderr",
     "output_type": "stream",
     "text": [
      "                                                                    "
     ]
    },
    {
     "name": "stdout",
     "output_type": "stream",
     "text": [
      "MoviePy - Writing audio in C:\\\\Users\\\\Aditya Kamath\\\\Downloads\\\\MP\\\\New Codes\\\\Final Dataset\\\\Audio\\\\Nervous\\\\01_26_Nervous.wav\n"
     ]
    },
    {
     "name": "stderr",
     "output_type": "stream",
     "text": [
      "\r"
     ]
    },
    {
     "name": "stdout",
     "output_type": "stream",
     "text": [
      "MoviePy - Done.\n"
     ]
    },
    {
     "name": "stderr",
     "output_type": "stream",
     "text": [
      "chunk:  92%|█████████▏| 342/371 [00:00<00:00, 1791.41it/s, now=None]"
     ]
    },
    {
     "name": "stdout",
     "output_type": "stream",
     "text": [
      "MoviePy - Writing audio in C:\\\\Users\\\\Aditya Kamath\\\\Downloads\\\\MP\\\\New Codes\\\\Final Dataset\\\\Audio\\\\Nervous\\\\02_01_Nervous.wav\n"
     ]
    },
    {
     "name": "stderr",
     "output_type": "stream",
     "text": [
      "                                                                    \r"
     ]
    },
    {
     "name": "stdout",
     "output_type": "stream",
     "text": [
      "MoviePy - Done.\n"
     ]
    },
    {
     "name": "stderr",
     "output_type": "stream",
     "text": [
      "                                                                    "
     ]
    },
    {
     "name": "stdout",
     "output_type": "stream",
     "text": [
      "MoviePy - Writing audio in C:\\\\Users\\\\Aditya Kamath\\\\Downloads\\\\MP\\\\New Codes\\\\Final Dataset\\\\Audio\\\\Nervous\\\\02_02_Nervous.wav\n",
      "MoviePy - Done.\n"
     ]
    },
    {
     "name": "stderr",
     "output_type": "stream",
     "text": [
      "                                                                    "
     ]
    },
    {
     "name": "stdout",
     "output_type": "stream",
     "text": [
      "MoviePy - Writing audio in C:\\\\Users\\\\Aditya Kamath\\\\Downloads\\\\MP\\\\New Codes\\\\Final Dataset\\\\Audio\\\\Nervous\\\\02_03_Nervous.wav\n"
     ]
    },
    {
     "name": "stderr",
     "output_type": "stream",
     "text": [
      "\r"
     ]
    },
    {
     "name": "stdout",
     "output_type": "stream",
     "text": [
      "MoviePy - Done.\n"
     ]
    },
    {
     "name": "stderr",
     "output_type": "stream",
     "text": [
      "chunk:  75%|███████▍  | 239/320 [00:00<00:00, 1273.06it/s, now=None]"
     ]
    },
    {
     "name": "stdout",
     "output_type": "stream",
     "text": [
      "MoviePy - Writing audio in C:\\\\Users\\\\Aditya Kamath\\\\Downloads\\\\MP\\\\New Codes\\\\Final Dataset\\\\Audio\\\\Nervous\\\\02_04_Nervous.wav\n"
     ]
    },
    {
     "name": "stderr",
     "output_type": "stream",
     "text": [
      "                                                                    \r"
     ]
    },
    {
     "name": "stdout",
     "output_type": "stream",
     "text": [
      "MoviePy - Done.\n"
     ]
    },
    {
     "name": "stderr",
     "output_type": "stream",
     "text": [
      "chunk:  28%|██▊       | 102/361 [00:00<00:00, 991.82it/s, now=None]"
     ]
    },
    {
     "name": "stdout",
     "output_type": "stream",
     "text": [
      "MoviePy - Writing audio in C:\\\\Users\\\\Aditya Kamath\\\\Downloads\\\\MP\\\\New Codes\\\\Final Dataset\\\\Audio\\\\Nervous\\\\02_05_Nervous.wav\n"
     ]
    },
    {
     "name": "stderr",
     "output_type": "stream",
     "text": [
      "                                                                    \r"
     ]
    },
    {
     "name": "stdout",
     "output_type": "stream",
     "text": [
      "MoviePy - Done.\n"
     ]
    },
    {
     "name": "stderr",
     "output_type": "stream",
     "text": [
      "chunk:   9%|▉         | 31/348 [00:00<00:01, 310.00it/s, now=None]"
     ]
    },
    {
     "name": "stdout",
     "output_type": "stream",
     "text": [
      "MoviePy - Writing audio in C:\\\\Users\\\\Aditya Kamath\\\\Downloads\\\\MP\\\\New Codes\\\\Final Dataset\\\\Audio\\\\Nervous\\\\02_06_Nervous.wav\n"
     ]
    },
    {
     "name": "stderr",
     "output_type": "stream",
     "text": [
      "                                                                    \r"
     ]
    },
    {
     "name": "stdout",
     "output_type": "stream",
     "text": [
      "MoviePy - Done.\n"
     ]
    },
    {
     "name": "stderr",
     "output_type": "stream",
     "text": [
      "chunk:  99%|█████████▊| 271/275 [00:00<00:00, 1461.84it/s, now=None]"
     ]
    },
    {
     "name": "stdout",
     "output_type": "stream",
     "text": [
      "MoviePy - Writing audio in C:\\\\Users\\\\Aditya Kamath\\\\Downloads\\\\MP\\\\New Codes\\\\Final Dataset\\\\Audio\\\\Nervous\\\\02_07_Nervous.wav\n"
     ]
    },
    {
     "name": "stderr",
     "output_type": "stream",
     "text": [
      "                                                                    \r"
     ]
    },
    {
     "name": "stdout",
     "output_type": "stream",
     "text": [
      "MoviePy - Done.\n"
     ]
    },
    {
     "name": "stderr",
     "output_type": "stream",
     "text": [
      "chunk:  62%|██████▏   | 223/359 [00:00<00:00, 1238.61it/s, now=None]"
     ]
    },
    {
     "name": "stdout",
     "output_type": "stream",
     "text": [
      "MoviePy - Writing audio in C:\\\\Users\\\\Aditya Kamath\\\\Downloads\\\\MP\\\\New Codes\\\\Final Dataset\\\\Audio\\\\Nervous\\\\02_08_Nervous.wav\n"
     ]
    },
    {
     "name": "stderr",
     "output_type": "stream",
     "text": [
      "                                                                    \r"
     ]
    },
    {
     "name": "stdout",
     "output_type": "stream",
     "text": [
      "MoviePy - Done.\n"
     ]
    },
    {
     "name": "stderr",
     "output_type": "stream",
     "text": [
      "chunk:   0%|          | 0/352 [00:00<?, ?it/s, now=None]"
     ]
    },
    {
     "name": "stdout",
     "output_type": "stream",
     "text": [
      "MoviePy - Writing audio in C:\\\\Users\\\\Aditya Kamath\\\\Downloads\\\\MP\\\\New Codes\\\\Final Dataset\\\\Audio\\\\Nervous\\\\02_09_Nervous.wav\n"
     ]
    },
    {
     "name": "stderr",
     "output_type": "stream",
     "text": [
      "                                                                   \r"
     ]
    },
    {
     "name": "stdout",
     "output_type": "stream",
     "text": [
      "MoviePy - Done.\n"
     ]
    },
    {
     "name": "stderr",
     "output_type": "stream",
     "text": [
      "chunk:  28%|██▊       | 135/475 [00:00<00:00, 1337.16it/s, now=None]"
     ]
    },
    {
     "name": "stdout",
     "output_type": "stream",
     "text": [
      "MoviePy - Writing audio in C:\\\\Users\\\\Aditya Kamath\\\\Downloads\\\\MP\\\\New Codes\\\\Final Dataset\\\\Audio\\\\Nervous\\\\02_10_Nervous.wav\n"
     ]
    },
    {
     "name": "stderr",
     "output_type": "stream",
     "text": [
      "                                                                    \r"
     ]
    },
    {
     "name": "stdout",
     "output_type": "stream",
     "text": [
      "MoviePy - Done.\n"
     ]
    },
    {
     "name": "stderr",
     "output_type": "stream",
     "text": [
      "chunk:  27%|██▋       | 102/384 [00:00<00:00, 995.10it/s, now=None]"
     ]
    },
    {
     "name": "stdout",
     "output_type": "stream",
     "text": [
      "MoviePy - Writing audio in C:\\\\Users\\\\Aditya Kamath\\\\Downloads\\\\MP\\\\New Codes\\\\Final Dataset\\\\Audio\\\\Nervous\\\\02_11_Nervous.wav\n"
     ]
    },
    {
     "name": "stderr",
     "output_type": "stream",
     "text": [
      "                                                                    \r"
     ]
    },
    {
     "name": "stdout",
     "output_type": "stream",
     "text": [
      "MoviePy - Done.\n"
     ]
    },
    {
     "name": "stderr",
     "output_type": "stream",
     "text": [
      "                                                                    "
     ]
    },
    {
     "name": "stdout",
     "output_type": "stream",
     "text": [
      "MoviePy - Writing audio in C:\\\\Users\\\\Aditya Kamath\\\\Downloads\\\\MP\\\\New Codes\\\\Final Dataset\\\\Audio\\\\Nervous\\\\02_12_Nervous.wav\n"
     ]
    },
    {
     "name": "stderr",
     "output_type": "stream",
     "text": [
      "\r"
     ]
    },
    {
     "name": "stdout",
     "output_type": "stream",
     "text": [
      "MoviePy - Done.\n"
     ]
    },
    {
     "name": "stderr",
     "output_type": "stream",
     "text": [
      "                                                                    "
     ]
    },
    {
     "name": "stdout",
     "output_type": "stream",
     "text": [
      "MoviePy - Writing audio in C:\\\\Users\\\\Aditya Kamath\\\\Downloads\\\\MP\\\\New Codes\\\\Final Dataset\\\\Audio\\\\Nervous\\\\02_13_Nervous.wav\n",
      "MoviePy - Done.\n"
     ]
    },
    {
     "name": "stderr",
     "output_type": "stream",
     "text": [
      "                                                                    "
     ]
    },
    {
     "name": "stdout",
     "output_type": "stream",
     "text": [
      "MoviePy - Writing audio in C:\\\\Users\\\\Aditya Kamath\\\\Downloads\\\\MP\\\\New Codes\\\\Final Dataset\\\\Audio\\\\Nervous\\\\02_14_Nervous.wav\n"
     ]
    },
    {
     "name": "stderr",
     "output_type": "stream",
     "text": [
      "\r"
     ]
    },
    {
     "name": "stdout",
     "output_type": "stream",
     "text": [
      "MoviePy - Done.\n"
     ]
    },
    {
     "name": "stderr",
     "output_type": "stream",
     "text": [
      "chunk:  15%|█▍        | 75/503 [00:00<00:00, 747.08it/s, now=None]"
     ]
    },
    {
     "name": "stdout",
     "output_type": "stream",
     "text": [
      "MoviePy - Writing audio in C:\\\\Users\\\\Aditya Kamath\\\\Downloads\\\\MP\\\\New Codes\\\\Final Dataset\\\\Audio\\\\Nervous\\\\02_15_Nervous.wav\n"
     ]
    },
    {
     "name": "stderr",
     "output_type": "stream",
     "text": [
      "                                                                    \r"
     ]
    },
    {
     "name": "stdout",
     "output_type": "stream",
     "text": [
      "MoviePy - Done.\n"
     ]
    },
    {
     "name": "stderr",
     "output_type": "stream",
     "text": [
      "chunk:  17%|█▋        | 102/604 [00:00<00:00, 973.84it/s, now=None]"
     ]
    },
    {
     "name": "stdout",
     "output_type": "stream",
     "text": [
      "MoviePy - Writing audio in C:\\\\Users\\\\Aditya Kamath\\\\Downloads\\\\MP\\\\New Codes\\\\Final Dataset\\\\Audio\\\\Nervous\\\\02_16_Nervous.wav\n"
     ]
    },
    {
     "name": "stderr",
     "output_type": "stream",
     "text": [
      "                                                                    \r"
     ]
    },
    {
     "name": "stdout",
     "output_type": "stream",
     "text": [
      "MoviePy - Done.\n"
     ]
    },
    {
     "name": "stderr",
     "output_type": "stream",
     "text": [
      "chunk:  97%|█████████▋| 289/298 [00:00<00:00, 1534.99it/s, now=None]"
     ]
    },
    {
     "name": "stdout",
     "output_type": "stream",
     "text": [
      "MoviePy - Writing audio in C:\\\\Users\\\\Aditya Kamath\\\\Downloads\\\\MP\\\\New Codes\\\\Final Dataset\\\\Audio\\\\Nervous\\\\02_17_Nervous.wav\n"
     ]
    },
    {
     "name": "stderr",
     "output_type": "stream",
     "text": [
      "                                                                    \r"
     ]
    },
    {
     "name": "stdout",
     "output_type": "stream",
     "text": [
      "MoviePy - Done.\n"
     ]
    },
    {
     "name": "stderr",
     "output_type": "stream",
     "text": [
      "chunk:  27%|██▋       | 106/389 [00:00<00:00, 1052.29it/s, now=None]"
     ]
    },
    {
     "name": "stdout",
     "output_type": "stream",
     "text": [
      "MoviePy - Writing audio in C:\\\\Users\\\\Aditya Kamath\\\\Downloads\\\\MP\\\\New Codes\\\\Final Dataset\\\\Audio\\\\Nervous\\\\02_18_Nervous.wav\n"
     ]
    },
    {
     "name": "stderr",
     "output_type": "stream",
     "text": [
      "                                                                    \r"
     ]
    },
    {
     "name": "stdout",
     "output_type": "stream",
     "text": [
      "MoviePy - Done.\n"
     ]
    },
    {
     "name": "stderr",
     "output_type": "stream",
     "text": [
      "chunk:  34%|███▍      | 154/455 [00:00<00:00, 1529.38it/s, now=None]"
     ]
    },
    {
     "name": "stdout",
     "output_type": "stream",
     "text": [
      "MoviePy - Writing audio in C:\\\\Users\\\\Aditya Kamath\\\\Downloads\\\\MP\\\\New Codes\\\\Final Dataset\\\\Audio\\\\Nervous\\\\02_19_Nervous.wav\n"
     ]
    },
    {
     "name": "stderr",
     "output_type": "stream",
     "text": [
      "                                                                    \r"
     ]
    },
    {
     "name": "stdout",
     "output_type": "stream",
     "text": [
      "MoviePy - Done.\n"
     ]
    },
    {
     "name": "stderr",
     "output_type": "stream",
     "text": [
      "                                                                    "
     ]
    },
    {
     "name": "stdout",
     "output_type": "stream",
     "text": [
      "MoviePy - Writing audio in C:\\\\Users\\\\Aditya Kamath\\\\Downloads\\\\MP\\\\New Codes\\\\Final Dataset\\\\Audio\\\\Nervous\\\\02_20_Nervous.wav\n",
      "MoviePy - Done.\n"
     ]
    },
    {
     "name": "stderr",
     "output_type": "stream",
     "text": [
      "chunk:   0%|          | 2/413 [00:00<00:34, 11.87it/s, now=None]"
     ]
    },
    {
     "name": "stdout",
     "output_type": "stream",
     "text": [
      "MoviePy - Writing audio in C:\\\\Users\\\\Aditya Kamath\\\\Downloads\\\\MP\\\\New Codes\\\\Final Dataset\\\\Audio\\\\Nervous\\\\02_21_Nervous.wav\n"
     ]
    },
    {
     "name": "stderr",
     "output_type": "stream",
     "text": [
      "                                                                    \r"
     ]
    },
    {
     "name": "stdout",
     "output_type": "stream",
     "text": [
      "MoviePy - Done.\n"
     ]
    },
    {
     "name": "stderr",
     "output_type": "stream",
     "text": [
      "chunk:  33%|███▎      | 165/498 [00:00<00:00, 1647.81it/s, now=None]"
     ]
    },
    {
     "name": "stdout",
     "output_type": "stream",
     "text": [
      "MoviePy - Writing audio in C:\\\\Users\\\\Aditya Kamath\\\\Downloads\\\\MP\\\\New Codes\\\\Final Dataset\\\\Audio\\\\Nervous\\\\02_22_Nervous.wav\n"
     ]
    },
    {
     "name": "stderr",
     "output_type": "stream",
     "text": [
      "                                                                    \r"
     ]
    },
    {
     "name": "stdout",
     "output_type": "stream",
     "text": [
      "MoviePy - Done.\n"
     ]
    },
    {
     "name": "stderr",
     "output_type": "stream",
     "text": [
      "chunk:  52%|█████▏    | 273/522 [00:00<00:00, 1428.21it/s, now=None]"
     ]
    },
    {
     "name": "stdout",
     "output_type": "stream",
     "text": [
      "MoviePy - Writing audio in C:\\\\Users\\\\Aditya Kamath\\\\Downloads\\\\MP\\\\New Codes\\\\Final Dataset\\\\Audio\\\\Nervous\\\\02_23_Nervous.wav\n"
     ]
    },
    {
     "name": "stderr",
     "output_type": "stream",
     "text": [
      "                                                                    \r"
     ]
    },
    {
     "name": "stdout",
     "output_type": "stream",
     "text": [
      "MoviePy - Done.\n"
     ]
    },
    {
     "name": "stderr",
     "output_type": "stream",
     "text": [
      "                                                                   "
     ]
    },
    {
     "name": "stdout",
     "output_type": "stream",
     "text": [
      "MoviePy - Writing audio in C:\\\\Users\\\\Aditya Kamath\\\\Downloads\\\\MP\\\\New Codes\\\\Final Dataset\\\\Audio\\\\Nervous\\\\02_24_Nervous.wav\n"
     ]
    },
    {
     "name": "stderr",
     "output_type": "stream",
     "text": [
      "\r"
     ]
    },
    {
     "name": "stdout",
     "output_type": "stream",
     "text": [
      "MoviePy - Done.\n"
     ]
    },
    {
     "name": "stderr",
     "output_type": "stream",
     "text": [
      "                                                                    "
     ]
    },
    {
     "name": "stdout",
     "output_type": "stream",
     "text": [
      "MoviePy - Writing audio in C:\\\\Users\\\\Aditya Kamath\\\\Downloads\\\\MP\\\\New Codes\\\\Final Dataset\\\\Audio\\\\Nervous\\\\02_25_Nervous.wav\n",
      "MoviePy - Done.\n"
     ]
    },
    {
     "name": "stderr",
     "output_type": "stream",
     "text": [
      "                                                                    "
     ]
    },
    {
     "name": "stdout",
     "output_type": "stream",
     "text": [
      "MoviePy - Writing audio in C:\\\\Users\\\\Aditya Kamath\\\\Downloads\\\\MP\\\\New Codes\\\\Final Dataset\\\\Audio\\\\Nervous\\\\02_26_Nervous.wav\n",
      "MoviePy - Done.\n"
     ]
    },
    {
     "name": "stderr",
     "output_type": "stream",
     "text": [
      "chunk:  24%|██▍       | 98/410 [00:00<00:00, 971.53it/s, now=None]"
     ]
    },
    {
     "name": "stdout",
     "output_type": "stream",
     "text": [
      "MoviePy - Writing audio in C:\\\\Users\\\\Aditya Kamath\\\\Downloads\\\\MP\\\\New Codes\\\\Final Dataset\\\\Audio\\\\Nervous\\\\03_01_Nervous.wav\n"
     ]
    },
    {
     "name": "stderr",
     "output_type": "stream",
     "text": [
      "                                                                    \r"
     ]
    },
    {
     "name": "stdout",
     "output_type": "stream",
     "text": [
      "MoviePy - Done.\n"
     ]
    },
    {
     "name": "stderr",
     "output_type": "stream",
     "text": [
      "                                                                    "
     ]
    },
    {
     "name": "stdout",
     "output_type": "stream",
     "text": [
      "MoviePy - Writing audio in C:\\\\Users\\\\Aditya Kamath\\\\Downloads\\\\MP\\\\New Codes\\\\Final Dataset\\\\Audio\\\\Nervous\\\\03_02_Nervous.wav\n",
      "MoviePy - Done.\n"
     ]
    },
    {
     "name": "stderr",
     "output_type": "stream",
     "text": [
      "                                                                    "
     ]
    },
    {
     "name": "stdout",
     "output_type": "stream",
     "text": [
      "MoviePy - Writing audio in C:\\\\Users\\\\Aditya Kamath\\\\Downloads\\\\MP\\\\New Codes\\\\Final Dataset\\\\Audio\\\\Nervous\\\\03_03_Nervous.wav\n",
      "MoviePy - Done.\n"
     ]
    },
    {
     "name": "stderr",
     "output_type": "stream",
     "text": [
      "                                                                    "
     ]
    },
    {
     "name": "stdout",
     "output_type": "stream",
     "text": [
      "MoviePy - Writing audio in C:\\\\Users\\\\Aditya Kamath\\\\Downloads\\\\MP\\\\New Codes\\\\Final Dataset\\\\Audio\\\\Nervous\\\\03_04_Nervous.wav\n"
     ]
    },
    {
     "name": "stderr",
     "output_type": "stream",
     "text": [
      "\r"
     ]
    },
    {
     "name": "stdout",
     "output_type": "stream",
     "text": [
      "MoviePy - Done.\n"
     ]
    },
    {
     "name": "stderr",
     "output_type": "stream",
     "text": [
      "                                                                    "
     ]
    },
    {
     "name": "stdout",
     "output_type": "stream",
     "text": [
      "MoviePy - Writing audio in C:\\\\Users\\\\Aditya Kamath\\\\Downloads\\\\MP\\\\New Codes\\\\Final Dataset\\\\Audio\\\\Nervous\\\\03_05_Nervous.wav\n"
     ]
    },
    {
     "name": "stderr",
     "output_type": "stream",
     "text": [
      "\r"
     ]
    },
    {
     "name": "stdout",
     "output_type": "stream",
     "text": [
      "MoviePy - Done.\n"
     ]
    },
    {
     "name": "stderr",
     "output_type": "stream",
     "text": [
      "                                                                    "
     ]
    },
    {
     "name": "stdout",
     "output_type": "stream",
     "text": [
      "MoviePy - Writing audio in C:\\\\Users\\\\Aditya Kamath\\\\Downloads\\\\MP\\\\New Codes\\\\Final Dataset\\\\Audio\\\\Nervous\\\\03_06_Nervous.wav\n"
     ]
    },
    {
     "name": "stderr",
     "output_type": "stream",
     "text": [
      "\r"
     ]
    },
    {
     "name": "stdout",
     "output_type": "stream",
     "text": [
      "MoviePy - Done.\n"
     ]
    },
    {
     "name": "stderr",
     "output_type": "stream",
     "text": [
      "                                                                    "
     ]
    },
    {
     "name": "stdout",
     "output_type": "stream",
     "text": [
      "MoviePy - Writing audio in C:\\\\Users\\\\Aditya Kamath\\\\Downloads\\\\MP\\\\New Codes\\\\Final Dataset\\\\Audio\\\\Nervous\\\\03_07_Nervous.wav\n"
     ]
    },
    {
     "name": "stderr",
     "output_type": "stream",
     "text": [
      "\r"
     ]
    },
    {
     "name": "stdout",
     "output_type": "stream",
     "text": [
      "MoviePy - Done.\n"
     ]
    },
    {
     "name": "stderr",
     "output_type": "stream",
     "text": [
      "chunk:  95%|█████████▍| 393/415 [00:00<00:00, 2016.28it/s, now=None]"
     ]
    },
    {
     "name": "stdout",
     "output_type": "stream",
     "text": [
      "MoviePy - Writing audio in C:\\\\Users\\\\Aditya Kamath\\\\Downloads\\\\MP\\\\New Codes\\\\Final Dataset\\\\Audio\\\\Nervous\\\\03_08_Nervous.wav\n"
     ]
    },
    {
     "name": "stderr",
     "output_type": "stream",
     "text": [
      "                                                                    \r"
     ]
    },
    {
     "name": "stdout",
     "output_type": "stream",
     "text": [
      "MoviePy - Done.\n"
     ]
    },
    {
     "name": "stderr",
     "output_type": "stream",
     "text": [
      "chunk:  36%|███▋      | 163/449 [00:00<00:00, 1409.96it/s, now=None]"
     ]
    },
    {
     "name": "stdout",
     "output_type": "stream",
     "text": [
      "MoviePy - Writing audio in C:\\\\Users\\\\Aditya Kamath\\\\Downloads\\\\MP\\\\New Codes\\\\Final Dataset\\\\Audio\\\\Nervous\\\\03_09_Nervous.wav\n"
     ]
    },
    {
     "name": "stderr",
     "output_type": "stream",
     "text": [
      "                                                                    \r"
     ]
    },
    {
     "name": "stdout",
     "output_type": "stream",
     "text": [
      "MoviePy - Done.\n"
     ]
    },
    {
     "name": "stderr",
     "output_type": "stream",
     "text": [
      "chunk:  33%|███▎      | 153/466 [00:00<00:00, 1473.12it/s, now=None]"
     ]
    },
    {
     "name": "stdout",
     "output_type": "stream",
     "text": [
      "MoviePy - Writing audio in C:\\\\Users\\\\Aditya Kamath\\\\Downloads\\\\MP\\\\New Codes\\\\Final Dataset\\\\Audio\\\\Nervous\\\\03_10_Nervous.wav\n"
     ]
    },
    {
     "name": "stderr",
     "output_type": "stream",
     "text": [
      "                                                                    \r"
     ]
    },
    {
     "name": "stdout",
     "output_type": "stream",
     "text": [
      "MoviePy - Done.\n"
     ]
    },
    {
     "name": "stderr",
     "output_type": "stream",
     "text": [
      "                                                                    "
     ]
    },
    {
     "name": "stdout",
     "output_type": "stream",
     "text": [
      "MoviePy - Writing audio in C:\\\\Users\\\\Aditya Kamath\\\\Downloads\\\\MP\\\\New Codes\\\\Final Dataset\\\\Audio\\\\Nervous\\\\03_11_Nervous.wav\n",
      "MoviePy - Done.\n"
     ]
    },
    {
     "name": "stderr",
     "output_type": "stream",
     "text": [
      "chunk:  40%|████      | 180/449 [00:00<00:00, 1647.93it/s, now=None]"
     ]
    },
    {
     "name": "stdout",
     "output_type": "stream",
     "text": [
      "MoviePy - Writing audio in C:\\\\Users\\\\Aditya Kamath\\\\Downloads\\\\MP\\\\New Codes\\\\Final Dataset\\\\Audio\\\\Nervous\\\\03_12_Nervous.wav\n"
     ]
    },
    {
     "name": "stderr",
     "output_type": "stream",
     "text": [
      "                                                                    \r"
     ]
    },
    {
     "name": "stdout",
     "output_type": "stream",
     "text": [
      "MoviePy - Done.\n"
     ]
    },
    {
     "name": "stderr",
     "output_type": "stream",
     "text": [
      "                                                                    "
     ]
    },
    {
     "name": "stdout",
     "output_type": "stream",
     "text": [
      "MoviePy - Writing audio in C:\\\\Users\\\\Aditya Kamath\\\\Downloads\\\\MP\\\\New Codes\\\\Final Dataset\\\\Audio\\\\Nervous\\\\03_13_Nervous.wav\n"
     ]
    },
    {
     "name": "stderr",
     "output_type": "stream",
     "text": [
      "\r"
     ]
    },
    {
     "name": "stdout",
     "output_type": "stream",
     "text": [
      "MoviePy - Done.\n"
     ]
    },
    {
     "name": "stderr",
     "output_type": "stream",
     "text": [
      "                                                                    "
     ]
    },
    {
     "name": "stdout",
     "output_type": "stream",
     "text": [
      "MoviePy - Writing audio in C:\\\\Users\\\\Aditya Kamath\\\\Downloads\\\\MP\\\\New Codes\\\\Final Dataset\\\\Audio\\\\Nervous\\\\03_14_Nervous.wav\n",
      "MoviePy - Done.\n"
     ]
    },
    {
     "name": "stderr",
     "output_type": "stream",
     "text": [
      "                                                                    "
     ]
    },
    {
     "name": "stdout",
     "output_type": "stream",
     "text": [
      "MoviePy - Writing audio in C:\\\\Users\\\\Aditya Kamath\\\\Downloads\\\\MP\\\\New Codes\\\\Final Dataset\\\\Audio\\\\Nervous\\\\03_15_Nervous.wav\n",
      "MoviePy - Done.\n"
     ]
    },
    {
     "name": "stderr",
     "output_type": "stream",
     "text": [
      "chunk:  76%|███████▋  | 561/734 [00:00<00:00, 2914.26it/s, now=None]"
     ]
    },
    {
     "name": "stdout",
     "output_type": "stream",
     "text": [
      "MoviePy - Writing audio in C:\\\\Users\\\\Aditya Kamath\\\\Downloads\\\\MP\\\\New Codes\\\\Final Dataset\\\\Audio\\\\Nervous\\\\03_16_Nervous.wav\n"
     ]
    },
    {
     "name": "stderr",
     "output_type": "stream",
     "text": [
      "                                                                    \r"
     ]
    },
    {
     "name": "stdout",
     "output_type": "stream",
     "text": [
      "MoviePy - Done.\n"
     ]
    },
    {
     "name": "stderr",
     "output_type": "stream",
     "text": [
      "                                                                    "
     ]
    },
    {
     "name": "stdout",
     "output_type": "stream",
     "text": [
      "MoviePy - Writing audio in C:\\\\Users\\\\Aditya Kamath\\\\Downloads\\\\MP\\\\New Codes\\\\Final Dataset\\\\Audio\\\\Nervous\\\\03_17_Nervous.wav\n",
      "MoviePy - Done.\n"
     ]
    },
    {
     "name": "stderr",
     "output_type": "stream",
     "text": [
      "                                                                    "
     ]
    },
    {
     "name": "stdout",
     "output_type": "stream",
     "text": [
      "MoviePy - Writing audio in C:\\\\Users\\\\Aditya Kamath\\\\Downloads\\\\MP\\\\New Codes\\\\Final Dataset\\\\Audio\\\\Nervous\\\\03_18_Nervous.wav\n",
      "MoviePy - Done.\n"
     ]
    },
    {
     "name": "stderr",
     "output_type": "stream",
     "text": [
      "chunk:   0%|          | 0/402 [00:00<?, ?it/s, now=None]"
     ]
    },
    {
     "name": "stdout",
     "output_type": "stream",
     "text": [
      "MoviePy - Writing audio in C:\\\\Users\\\\Aditya Kamath\\\\Downloads\\\\MP\\\\New Codes\\\\Final Dataset\\\\Audio\\\\Nervous\\\\03_19_Nervous.wav\n"
     ]
    },
    {
     "name": "stderr",
     "output_type": "stream",
     "text": [
      "                                                                    \r"
     ]
    },
    {
     "name": "stdout",
     "output_type": "stream",
     "text": [
      "MoviePy - Done.\n"
     ]
    },
    {
     "name": "stderr",
     "output_type": "stream",
     "text": [
      "                                                                    "
     ]
    },
    {
     "name": "stdout",
     "output_type": "stream",
     "text": [
      "MoviePy - Writing audio in C:\\\\Users\\\\Aditya Kamath\\\\Downloads\\\\MP\\\\New Codes\\\\Final Dataset\\\\Audio\\\\Nervous\\\\03_20_Nervous.wav\n",
      "MoviePy - Done.\n"
     ]
    },
    {
     "name": "stderr",
     "output_type": "stream",
     "text": [
      "                                                                    "
     ]
    },
    {
     "name": "stdout",
     "output_type": "stream",
     "text": [
      "MoviePy - Writing audio in C:\\\\Users\\\\Aditya Kamath\\\\Downloads\\\\MP\\\\New Codes\\\\Final Dataset\\\\Audio\\\\Nervous\\\\03_21_Nervous.wav\n",
      "MoviePy - Done.\n"
     ]
    },
    {
     "name": "stderr",
     "output_type": "stream",
     "text": [
      "                                                                    "
     ]
    },
    {
     "name": "stdout",
     "output_type": "stream",
     "text": [
      "MoviePy - Writing audio in C:\\\\Users\\\\Aditya Kamath\\\\Downloads\\\\MP\\\\New Codes\\\\Final Dataset\\\\Audio\\\\Nervous\\\\03_22_Nervous.wav\n",
      "MoviePy - Done.\n"
     ]
    },
    {
     "name": "stderr",
     "output_type": "stream",
     "text": [
      "chunk:  30%|██▉       | 179/602 [00:00<00:00, 1784.58it/s, now=None]"
     ]
    },
    {
     "name": "stdout",
     "output_type": "stream",
     "text": [
      "MoviePy - Writing audio in C:\\\\Users\\\\Aditya Kamath\\\\Downloads\\\\MP\\\\New Codes\\\\Final Dataset\\\\Audio\\\\Nervous\\\\03_23_Nervous.wav\n"
     ]
    },
    {
     "name": "stderr",
     "output_type": "stream",
     "text": [
      "                                                                    \r"
     ]
    },
    {
     "name": "stdout",
     "output_type": "stream",
     "text": [
      "MoviePy - Done.\n"
     ]
    },
    {
     "name": "stderr",
     "output_type": "stream",
     "text": [
      "                                                                  "
     ]
    },
    {
     "name": "stdout",
     "output_type": "stream",
     "text": [
      "MoviePy - Writing audio in C:\\\\Users\\\\Aditya Kamath\\\\Downloads\\\\MP\\\\New Codes\\\\Final Dataset\\\\Audio\\\\Nervous\\\\03_24_Nervous.wav\n"
     ]
    },
    {
     "name": "stderr",
     "output_type": "stream",
     "text": [
      "\r"
     ]
    },
    {
     "name": "stdout",
     "output_type": "stream",
     "text": [
      "MoviePy - Done.\n"
     ]
    },
    {
     "name": "stderr",
     "output_type": "stream",
     "text": [
      "                                                                    "
     ]
    },
    {
     "name": "stdout",
     "output_type": "stream",
     "text": [
      "MoviePy - Writing audio in C:\\\\Users\\\\Aditya Kamath\\\\Downloads\\\\MP\\\\New Codes\\\\Final Dataset\\\\Audio\\\\Nervous\\\\03_25_Nervous.wav\n",
      "MoviePy - Done.\n"
     ]
    },
    {
     "name": "stderr",
     "output_type": "stream",
     "text": [
      "                                                                    "
     ]
    },
    {
     "name": "stdout",
     "output_type": "stream",
     "text": [
      "MoviePy - Writing audio in C:\\\\Users\\\\Aditya Kamath\\\\Downloads\\\\MP\\\\New Codes\\\\Final Dataset\\\\Audio\\\\Nervous\\\\03_26_Nervous.wav\n"
     ]
    },
    {
     "name": "stderr",
     "output_type": "stream",
     "text": [
      "\r"
     ]
    },
    {
     "name": "stdout",
     "output_type": "stream",
     "text": [
      "MoviePy - Done.\n"
     ]
    },
    {
     "name": "stderr",
     "output_type": "stream",
     "text": [
      "chunk:  41%|████      | 204/502 [00:00<00:00, 1907.00it/s, now=None]"
     ]
    },
    {
     "name": "stdout",
     "output_type": "stream",
     "text": [
      "MoviePy - Writing audio in C:\\\\Users\\\\Aditya Kamath\\\\Downloads\\\\MP\\\\New Codes\\\\Final Dataset\\\\Audio\\\\Nervous\\\\04_01_Nervous.wav\n"
     ]
    },
    {
     "name": "stderr",
     "output_type": "stream",
     "text": [
      "                                                                    \r"
     ]
    },
    {
     "name": "stdout",
     "output_type": "stream",
     "text": [
      "MoviePy - Done.\n"
     ]
    },
    {
     "name": "stderr",
     "output_type": "stream",
     "text": [
      "                                                                    "
     ]
    },
    {
     "name": "stdout",
     "output_type": "stream",
     "text": [
      "MoviePy - Writing audio in C:\\\\Users\\\\Aditya Kamath\\\\Downloads\\\\MP\\\\New Codes\\\\Final Dataset\\\\Audio\\\\Nervous\\\\04_02_Nervous.wav\n",
      "MoviePy - Done.\n"
     ]
    },
    {
     "name": "stderr",
     "output_type": "stream",
     "text": [
      "chunk:  76%|███████▋  | 318/417 [00:00<00:00, 1663.88it/s, now=None]"
     ]
    },
    {
     "name": "stdout",
     "output_type": "stream",
     "text": [
      "MoviePy - Writing audio in C:\\\\Users\\\\Aditya Kamath\\\\Downloads\\\\MP\\\\New Codes\\\\Final Dataset\\\\Audio\\\\Nervous\\\\04_03_Nervous.wav\n"
     ]
    },
    {
     "name": "stderr",
     "output_type": "stream",
     "text": [
      "                                                                    \r"
     ]
    },
    {
     "name": "stdout",
     "output_type": "stream",
     "text": [
      "MoviePy - Done.\n"
     ]
    },
    {
     "name": "stderr",
     "output_type": "stream",
     "text": [
      "chunk:  55%|█████▍    | 291/531 [00:00<00:00, 1543.46it/s, now=None]"
     ]
    },
    {
     "name": "stdout",
     "output_type": "stream",
     "text": [
      "MoviePy - Writing audio in C:\\\\Users\\\\Aditya Kamath\\\\Downloads\\\\MP\\\\New Codes\\\\Final Dataset\\\\Audio\\\\Nervous\\\\04_04_Nervous.wav\n"
     ]
    },
    {
     "name": "stderr",
     "output_type": "stream",
     "text": [
      "                                                                    \r"
     ]
    },
    {
     "name": "stdout",
     "output_type": "stream",
     "text": [
      "MoviePy - Done.\n"
     ]
    },
    {
     "name": "stderr",
     "output_type": "stream",
     "text": [
      "chunk:  64%|██████▍   | 306/477 [00:00<00:00, 1569.85it/s, now=None]"
     ]
    },
    {
     "name": "stdout",
     "output_type": "stream",
     "text": [
      "MoviePy - Writing audio in C:\\\\Users\\\\Aditya Kamath\\\\Downloads\\\\MP\\\\New Codes\\\\Final Dataset\\\\Audio\\\\Nervous\\\\04_05_Nervous.wav\n"
     ]
    },
    {
     "name": "stderr",
     "output_type": "stream",
     "text": [
      "                                                                    \r"
     ]
    },
    {
     "name": "stdout",
     "output_type": "stream",
     "text": [
      "MoviePy - Done.\n"
     ]
    },
    {
     "name": "stderr",
     "output_type": "stream",
     "text": [
      "chunk:  85%|████████▌ | 357/418 [00:00<00:00, 1769.39it/s, now=None]"
     ]
    },
    {
     "name": "stdout",
     "output_type": "stream",
     "text": [
      "MoviePy - Writing audio in C:\\\\Users\\\\Aditya Kamath\\\\Downloads\\\\MP\\\\New Codes\\\\Final Dataset\\\\Audio\\\\Nervous\\\\04_06_Nervous.wav\n"
     ]
    },
    {
     "name": "stderr",
     "output_type": "stream",
     "text": [
      "                                                                    \r"
     ]
    },
    {
     "name": "stdout",
     "output_type": "stream",
     "text": [
      "MoviePy - Done.\n"
     ]
    },
    {
     "name": "stderr",
     "output_type": "stream",
     "text": [
      "chunk:  22%|██▏       | 105/479 [00:00<00:00, 1039.69it/s, now=None]"
     ]
    },
    {
     "name": "stdout",
     "output_type": "stream",
     "text": [
      "MoviePy - Writing audio in C:\\\\Users\\\\Aditya Kamath\\\\Downloads\\\\MP\\\\New Codes\\\\Final Dataset\\\\Audio\\\\Nervous\\\\04_07_Nervous.wav\n"
     ]
    },
    {
     "name": "stderr",
     "output_type": "stream",
     "text": [
      "                                                                    \r"
     ]
    },
    {
     "name": "stdout",
     "output_type": "stream",
     "text": [
      "MoviePy - Done.\n"
     ]
    },
    {
     "name": "stderr",
     "output_type": "stream",
     "text": [
      "chunk:  57%|█████▋    | 313/546 [00:00<00:00, 1626.60it/s, now=None]"
     ]
    },
    {
     "name": "stdout",
     "output_type": "stream",
     "text": [
      "MoviePy - Writing audio in C:\\\\Users\\\\Aditya Kamath\\\\Downloads\\\\MP\\\\New Codes\\\\Final Dataset\\\\Audio\\\\Nervous\\\\04_08_Nervous.wav\n"
     ]
    },
    {
     "name": "stderr",
     "output_type": "stream",
     "text": [
      "                                                                    \r"
     ]
    },
    {
     "name": "stdout",
     "output_type": "stream",
     "text": [
      "MoviePy - Done.\n"
     ]
    },
    {
     "name": "stderr",
     "output_type": "stream",
     "text": [
      "chunk:  19%|█▊        | 102/547 [00:00<00:00, 1007.48it/s, now=None]"
     ]
    },
    {
     "name": "stdout",
     "output_type": "stream",
     "text": [
      "MoviePy - Writing audio in C:\\\\Users\\\\Aditya Kamath\\\\Downloads\\\\MP\\\\New Codes\\\\Final Dataset\\\\Audio\\\\Nervous\\\\04_09_Nervous.wav\n"
     ]
    },
    {
     "name": "stderr",
     "output_type": "stream",
     "text": [
      "                                                                    \r"
     ]
    },
    {
     "name": "stdout",
     "output_type": "stream",
     "text": [
      "MoviePy - Done.\n"
     ]
    },
    {
     "name": "stderr",
     "output_type": "stream",
     "text": [
      "chunk:  11%|█         | 102/939 [00:00<00:00, 994.84it/s, now=None]"
     ]
    },
    {
     "name": "stdout",
     "output_type": "stream",
     "text": [
      "MoviePy - Writing audio in C:\\\\Users\\\\Aditya Kamath\\\\Downloads\\\\MP\\\\New Codes\\\\Final Dataset\\\\Audio\\\\Nervous\\\\04_10_Nervous.wav\n"
     ]
    },
    {
     "name": "stderr",
     "output_type": "stream",
     "text": [
      "                                                                    \r"
     ]
    },
    {
     "name": "stdout",
     "output_type": "stream",
     "text": [
      "MoviePy - Done.\n"
     ]
    },
    {
     "name": "stderr",
     "output_type": "stream",
     "text": [
      "chunk:  49%|████▉     | 255/518 [00:00<00:00, 1338.98it/s, now=None]"
     ]
    },
    {
     "name": "stdout",
     "output_type": "stream",
     "text": [
      "MoviePy - Writing audio in C:\\\\Users\\\\Aditya Kamath\\\\Downloads\\\\MP\\\\New Codes\\\\Final Dataset\\\\Audio\\\\Nervous\\\\04_11_Nervous.wav\n"
     ]
    },
    {
     "name": "stderr",
     "output_type": "stream",
     "text": [
      "                                                                    \r"
     ]
    },
    {
     "name": "stdout",
     "output_type": "stream",
     "text": [
      "MoviePy - Done.\n"
     ]
    },
    {
     "name": "stderr",
     "output_type": "stream",
     "text": [
      "chunk:  24%|██▍       | 121/497 [00:00<00:00, 1206.26it/s, now=None]"
     ]
    },
    {
     "name": "stdout",
     "output_type": "stream",
     "text": [
      "MoviePy - Writing audio in C:\\\\Users\\\\Aditya Kamath\\\\Downloads\\\\MP\\\\New Codes\\\\Final Dataset\\\\Audio\\\\Nervous\\\\04_12_Nervous.wav\n"
     ]
    },
    {
     "name": "stderr",
     "output_type": "stream",
     "text": [
      "                                                                    \r"
     ]
    },
    {
     "name": "stdout",
     "output_type": "stream",
     "text": [
      "MoviePy - Done.\n"
     ]
    },
    {
     "name": "stderr",
     "output_type": "stream",
     "text": [
      "chunk:  23%|██▎       | 113/496 [00:00<00:00, 1023.05it/s, now=None]"
     ]
    },
    {
     "name": "stdout",
     "output_type": "stream",
     "text": [
      "MoviePy - Writing audio in C:\\\\Users\\\\Aditya Kamath\\\\Downloads\\\\MP\\\\New Codes\\\\Final Dataset\\\\Audio\\\\Nervous\\\\04_13_Nervous.wav\n"
     ]
    },
    {
     "name": "stderr",
     "output_type": "stream",
     "text": [
      "                                                                    \r"
     ]
    },
    {
     "name": "stdout",
     "output_type": "stream",
     "text": [
      "MoviePy - Done.\n"
     ]
    },
    {
     "name": "stderr",
     "output_type": "stream",
     "text": [
      "chunk:  20%|██        | 125/619 [00:00<00:00, 1237.88it/s, now=None]"
     ]
    },
    {
     "name": "stdout",
     "output_type": "stream",
     "text": [
      "MoviePy - Writing audio in C:\\\\Users\\\\Aditya Kamath\\\\Downloads\\\\MP\\\\New Codes\\\\Final Dataset\\\\Audio\\\\Nervous\\\\04_14_Nervous.wav\n"
     ]
    },
    {
     "name": "stderr",
     "output_type": "stream",
     "text": [
      "                                                                    \r"
     ]
    },
    {
     "name": "stdout",
     "output_type": "stream",
     "text": [
      "MoviePy - Done.\n"
     ]
    },
    {
     "name": "stderr",
     "output_type": "stream",
     "text": [
      "chunk:  26%|██▋       | 135/512 [00:00<00:00, 1345.92it/s, now=None]"
     ]
    },
    {
     "name": "stdout",
     "output_type": "stream",
     "text": [
      "MoviePy - Writing audio in C:\\\\Users\\\\Aditya Kamath\\\\Downloads\\\\MP\\\\New Codes\\\\Final Dataset\\\\Audio\\\\Nervous\\\\04_15_Nervous.wav\n"
     ]
    },
    {
     "name": "stderr",
     "output_type": "stream",
     "text": [
      "                                                                    \r"
     ]
    },
    {
     "name": "stdout",
     "output_type": "stream",
     "text": [
      "MoviePy - Done.\n"
     ]
    },
    {
     "name": "stderr",
     "output_type": "stream",
     "text": [
      "chunk:  40%|███▉      | 194/491 [00:00<00:00, 1922.05it/s, now=None]"
     ]
    },
    {
     "name": "stdout",
     "output_type": "stream",
     "text": [
      "MoviePy - Writing audio in C:\\\\Users\\\\Aditya Kamath\\\\Downloads\\\\MP\\\\New Codes\\\\Final Dataset\\\\Audio\\\\Nervous\\\\04_16_Nervous.wav\n"
     ]
    },
    {
     "name": "stderr",
     "output_type": "stream",
     "text": [
      "                                                                    \r"
     ]
    },
    {
     "name": "stdout",
     "output_type": "stream",
     "text": [
      "MoviePy - Done.\n"
     ]
    },
    {
     "name": "stderr",
     "output_type": "stream",
     "text": [
      "chunk:  44%|████▎     | 199/456 [00:00<00:00, 1776.78it/s, now=None]"
     ]
    },
    {
     "name": "stdout",
     "output_type": "stream",
     "text": [
      "MoviePy - Writing audio in C:\\\\Users\\\\Aditya Kamath\\\\Downloads\\\\MP\\\\New Codes\\\\Final Dataset\\\\Audio\\\\Nervous\\\\04_17_Nervous.wav\n"
     ]
    },
    {
     "name": "stderr",
     "output_type": "stream",
     "text": [
      "                                                                    \r"
     ]
    },
    {
     "name": "stdout",
     "output_type": "stream",
     "text": [
      "MoviePy - Done.\n"
     ]
    },
    {
     "name": "stderr",
     "output_type": "stream",
     "text": [
      "chunk:  44%|████▍     | 204/460 [00:00<00:00, 1810.85it/s, now=None]"
     ]
    },
    {
     "name": "stdout",
     "output_type": "stream",
     "text": [
      "MoviePy - Writing audio in C:\\\\Users\\\\Aditya Kamath\\\\Downloads\\\\MP\\\\New Codes\\\\Final Dataset\\\\Audio\\\\Nervous\\\\04_18_Nervous.wav\n"
     ]
    },
    {
     "name": "stderr",
     "output_type": "stream",
     "text": [
      "                                                                    \r"
     ]
    },
    {
     "name": "stdout",
     "output_type": "stream",
     "text": [
      "MoviePy - Done.\n"
     ]
    },
    {
     "name": "stderr",
     "output_type": "stream",
     "text": [
      "chunk:  28%|██▊       | 184/666 [00:00<00:00, 1839.30it/s, now=None]"
     ]
    },
    {
     "name": "stdout",
     "output_type": "stream",
     "text": [
      "MoviePy - Writing audio in C:\\\\Users\\\\Aditya Kamath\\\\Downloads\\\\MP\\\\New Codes\\\\Final Dataset\\\\Audio\\\\Nervous\\\\04_19_Nervous.wav\n"
     ]
    },
    {
     "name": "stderr",
     "output_type": "stream",
     "text": [
      "                                                                    \r"
     ]
    },
    {
     "name": "stdout",
     "output_type": "stream",
     "text": [
      "MoviePy - Done.\n"
     ]
    },
    {
     "name": "stderr",
     "output_type": "stream",
     "text": [
      "                                                                    "
     ]
    },
    {
     "name": "stdout",
     "output_type": "stream",
     "text": [
      "MoviePy - Writing audio in C:\\\\Users\\\\Aditya Kamath\\\\Downloads\\\\MP\\\\New Codes\\\\Final Dataset\\\\Audio\\\\Nervous\\\\04_20_Nervous.wav\n"
     ]
    },
    {
     "name": "stderr",
     "output_type": "stream",
     "text": [
      "\r"
     ]
    },
    {
     "name": "stdout",
     "output_type": "stream",
     "text": [
      "MoviePy - Done.\n"
     ]
    },
    {
     "name": "stderr",
     "output_type": "stream",
     "text": [
      "                                                                    "
     ]
    },
    {
     "name": "stdout",
     "output_type": "stream",
     "text": [
      "MoviePy - Writing audio in C:\\\\Users\\\\Aditya Kamath\\\\Downloads\\\\MP\\\\New Codes\\\\Final Dataset\\\\Audio\\\\Nervous\\\\04_21_Nervous.wav\n"
     ]
    },
    {
     "name": "stderr",
     "output_type": "stream",
     "text": [
      "\r"
     ]
    },
    {
     "name": "stdout",
     "output_type": "stream",
     "text": [
      "MoviePy - Done.\n"
     ]
    },
    {
     "name": "stderr",
     "output_type": "stream",
     "text": [
      "                                                                    "
     ]
    },
    {
     "name": "stdout",
     "output_type": "stream",
     "text": [
      "MoviePy - Writing audio in C:\\\\Users\\\\Aditya Kamath\\\\Downloads\\\\MP\\\\New Codes\\\\Final Dataset\\\\Audio\\\\Nervous\\\\04_22_Nervous.wav\n"
     ]
    },
    {
     "name": "stderr",
     "output_type": "stream",
     "text": [
      "\r"
     ]
    },
    {
     "name": "stdout",
     "output_type": "stream",
     "text": [
      "MoviePy - Done.\n"
     ]
    },
    {
     "name": "stderr",
     "output_type": "stream",
     "text": [
      "chunk:  36%|███▌      | 202/560 [00:00<00:00, 2001.56it/s, now=None]"
     ]
    },
    {
     "name": "stdout",
     "output_type": "stream",
     "text": [
      "MoviePy - Writing audio in C:\\\\Users\\\\Aditya Kamath\\\\Downloads\\\\MP\\\\New Codes\\\\Final Dataset\\\\Audio\\\\Nervous\\\\04_23_Nervous.wav\n"
     ]
    },
    {
     "name": "stderr",
     "output_type": "stream",
     "text": [
      "                                                                    \r"
     ]
    },
    {
     "name": "stdout",
     "output_type": "stream",
     "text": [
      "MoviePy - Done.\n"
     ]
    },
    {
     "name": "stderr",
     "output_type": "stream",
     "text": [
      "chunk:  79%|███████▉  | 473/596 [00:00<00:00, 2408.71it/s, now=None]"
     ]
    },
    {
     "name": "stdout",
     "output_type": "stream",
     "text": [
      "MoviePy - Writing audio in C:\\\\Users\\\\Aditya Kamath\\\\Downloads\\\\MP\\\\New Codes\\\\Final Dataset\\\\Audio\\\\Nervous\\\\04_24_Nervous.wav\n"
     ]
    },
    {
     "name": "stderr",
     "output_type": "stream",
     "text": [
      "                                                                    \r"
     ]
    },
    {
     "name": "stdout",
     "output_type": "stream",
     "text": [
      "MoviePy - Done.\n"
     ]
    },
    {
     "name": "stderr",
     "output_type": "stream",
     "text": [
      "                                                                    "
     ]
    },
    {
     "name": "stdout",
     "output_type": "stream",
     "text": [
      "MoviePy - Writing audio in C:\\\\Users\\\\Aditya Kamath\\\\Downloads\\\\MP\\\\New Codes\\\\Final Dataset\\\\Audio\\\\Nervous\\\\04_25_Nervous.wav\n",
      "MoviePy - Done.\n"
     ]
    },
    {
     "name": "stderr",
     "output_type": "stream",
     "text": [
      "                                                                    "
     ]
    },
    {
     "name": "stdout",
     "output_type": "stream",
     "text": [
      "MoviePy - Writing audio in C:\\\\Users\\\\Aditya Kamath\\\\Downloads\\\\MP\\\\New Codes\\\\Final Dataset\\\\Audio\\\\Nervous\\\\04_26_Nervous.wav\n",
      "MoviePy - Done.\n"
     ]
    },
    {
     "name": "stderr",
     "output_type": "stream",
     "text": [
      "                                                                    "
     ]
    },
    {
     "name": "stdout",
     "output_type": "stream",
     "text": [
      "MoviePy - Writing audio in C:\\\\Users\\\\Aditya Kamath\\\\Downloads\\\\MP\\\\New Codes\\\\Final Dataset\\\\Audio\\\\Nervous\\\\05_01_Nervous.wav\n",
      "MoviePy - Done.\n"
     ]
    },
    {
     "name": "stderr",
     "output_type": "stream",
     "text": [
      "                                                                    "
     ]
    },
    {
     "name": "stdout",
     "output_type": "stream",
     "text": [
      "MoviePy - Writing audio in C:\\\\Users\\\\Aditya Kamath\\\\Downloads\\\\MP\\\\New Codes\\\\Final Dataset\\\\Audio\\\\Nervous\\\\05_02_Nervous.wav\n",
      "MoviePy - Done.\n"
     ]
    },
    {
     "name": "stderr",
     "output_type": "stream",
     "text": [
      "                                                                    "
     ]
    },
    {
     "name": "stdout",
     "output_type": "stream",
     "text": [
      "MoviePy - Writing audio in C:\\\\Users\\\\Aditya Kamath\\\\Downloads\\\\MP\\\\New Codes\\\\Final Dataset\\\\Audio\\\\Nervous\\\\05_03_Nervous.wav\n"
     ]
    },
    {
     "name": "stderr",
     "output_type": "stream",
     "text": [
      "\r"
     ]
    },
    {
     "name": "stdout",
     "output_type": "stream",
     "text": [
      "MoviePy - Done.\n"
     ]
    },
    {
     "name": "stderr",
     "output_type": "stream",
     "text": [
      "                                                                    "
     ]
    },
    {
     "name": "stdout",
     "output_type": "stream",
     "text": [
      "MoviePy - Writing audio in C:\\\\Users\\\\Aditya Kamath\\\\Downloads\\\\MP\\\\New Codes\\\\Final Dataset\\\\Audio\\\\Nervous\\\\05_04_Nervous.wav\n",
      "MoviePy - Done.\n"
     ]
    },
    {
     "name": "stderr",
     "output_type": "stream",
     "text": [
      "                                                                    "
     ]
    },
    {
     "name": "stdout",
     "output_type": "stream",
     "text": [
      "MoviePy - Writing audio in C:\\\\Users\\\\Aditya Kamath\\\\Downloads\\\\MP\\\\New Codes\\\\Final Dataset\\\\Audio\\\\Nervous\\\\05_05_Nervous.wav\n"
     ]
    },
    {
     "name": "stderr",
     "output_type": "stream",
     "text": [
      "\r"
     ]
    },
    {
     "name": "stdout",
     "output_type": "stream",
     "text": [
      "MoviePy - Done.\n"
     ]
    },
    {
     "name": "stderr",
     "output_type": "stream",
     "text": [
      "                                                                    "
     ]
    },
    {
     "name": "stdout",
     "output_type": "stream",
     "text": [
      "MoviePy - Writing audio in C:\\\\Users\\\\Aditya Kamath\\\\Downloads\\\\MP\\\\New Codes\\\\Final Dataset\\\\Audio\\\\Nervous\\\\05_06_Nervous.wav\n"
     ]
    },
    {
     "name": "stderr",
     "output_type": "stream",
     "text": [
      "\r"
     ]
    },
    {
     "name": "stdout",
     "output_type": "stream",
     "text": [
      "MoviePy - Done.\n"
     ]
    },
    {
     "name": "stderr",
     "output_type": "stream",
     "text": [
      "                                                                    "
     ]
    },
    {
     "name": "stdout",
     "output_type": "stream",
     "text": [
      "MoviePy - Writing audio in C:\\\\Users\\\\Aditya Kamath\\\\Downloads\\\\MP\\\\New Codes\\\\Final Dataset\\\\Audio\\\\Nervous\\\\05_07_Nervous.wav\n",
      "MoviePy - Done.\n"
     ]
    },
    {
     "name": "stderr",
     "output_type": "stream",
     "text": [
      "                                                                    "
     ]
    },
    {
     "name": "stdout",
     "output_type": "stream",
     "text": [
      "MoviePy - Writing audio in C:\\\\Users\\\\Aditya Kamath\\\\Downloads\\\\MP\\\\New Codes\\\\Final Dataset\\\\Audio\\\\Nervous\\\\05_08_Nervous.wav\n",
      "MoviePy - Done.\n"
     ]
    },
    {
     "name": "stderr",
     "output_type": "stream",
     "text": [
      "                                                                    "
     ]
    },
    {
     "name": "stdout",
     "output_type": "stream",
     "text": [
      "MoviePy - Writing audio in C:\\\\Users\\\\Aditya Kamath\\\\Downloads\\\\MP\\\\New Codes\\\\Final Dataset\\\\Audio\\\\Nervous\\\\05_09_Nervous.wav\n",
      "MoviePy - Done.\n"
     ]
    },
    {
     "name": "stderr",
     "output_type": "stream",
     "text": [
      "chunk:  30%|██▉       | 214/715 [00:00<00:00, 2074.08it/s, now=None]"
     ]
    },
    {
     "name": "stdout",
     "output_type": "stream",
     "text": [
      "MoviePy - Writing audio in C:\\\\Users\\\\Aditya Kamath\\\\Downloads\\\\MP\\\\New Codes\\\\Final Dataset\\\\Audio\\\\Nervous\\\\05_10_Nervous.wav\n"
     ]
    },
    {
     "name": "stderr",
     "output_type": "stream",
     "text": [
      "                                                                    \r"
     ]
    },
    {
     "name": "stdout",
     "output_type": "stream",
     "text": [
      "MoviePy - Done.\n"
     ]
    },
    {
     "name": "stderr",
     "output_type": "stream",
     "text": [
      "                                                                    "
     ]
    },
    {
     "name": "stdout",
     "output_type": "stream",
     "text": [
      "MoviePy - Writing audio in C:\\\\Users\\\\Aditya Kamath\\\\Downloads\\\\MP\\\\New Codes\\\\Final Dataset\\\\Audio\\\\Nervous\\\\05_11_Nervous.wav\n",
      "MoviePy - Done.\n"
     ]
    },
    {
     "name": "stderr",
     "output_type": "stream",
     "text": [
      "                                                                    "
     ]
    },
    {
     "name": "stdout",
     "output_type": "stream",
     "text": [
      "MoviePy - Writing audio in C:\\\\Users\\\\Aditya Kamath\\\\Downloads\\\\MP\\\\New Codes\\\\Final Dataset\\\\Audio\\\\Nervous\\\\05_12_Nervous.wav\n",
      "MoviePy - Done.\n"
     ]
    },
    {
     "name": "stderr",
     "output_type": "stream",
     "text": [
      "                                                                    "
     ]
    },
    {
     "name": "stdout",
     "output_type": "stream",
     "text": [
      "MoviePy - Writing audio in C:\\\\Users\\\\Aditya Kamath\\\\Downloads\\\\MP\\\\New Codes\\\\Final Dataset\\\\Audio\\\\Nervous\\\\05_13_Nervous.wav\n",
      "MoviePy - Done.\n"
     ]
    },
    {
     "name": "stderr",
     "output_type": "stream",
     "text": [
      "                                                                    "
     ]
    },
    {
     "name": "stdout",
     "output_type": "stream",
     "text": [
      "MoviePy - Writing audio in C:\\\\Users\\\\Aditya Kamath\\\\Downloads\\\\MP\\\\New Codes\\\\Final Dataset\\\\Audio\\\\Nervous\\\\05_14_Nervous.wav\n",
      "MoviePy - Done.\n"
     ]
    },
    {
     "name": "stderr",
     "output_type": "stream",
     "text": [
      "chunk:  47%|████▋     | 224/479 [00:00<00:00, 1938.37it/s, now=None]"
     ]
    },
    {
     "name": "stdout",
     "output_type": "stream",
     "text": [
      "MoviePy - Writing audio in C:\\\\Users\\\\Aditya Kamath\\\\Downloads\\\\MP\\\\New Codes\\\\Final Dataset\\\\Audio\\\\Nervous\\\\05_15_Nervous.wav\n"
     ]
    },
    {
     "name": "stderr",
     "output_type": "stream",
     "text": [
      "                                                                    \r"
     ]
    },
    {
     "name": "stdout",
     "output_type": "stream",
     "text": [
      "MoviePy - Done.\n"
     ]
    },
    {
     "name": "stderr",
     "output_type": "stream",
     "text": [
      "                                                                    "
     ]
    },
    {
     "name": "stdout",
     "output_type": "stream",
     "text": [
      "MoviePy - Writing audio in C:\\\\Users\\\\Aditya Kamath\\\\Downloads\\\\MP\\\\New Codes\\\\Final Dataset\\\\Audio\\\\Nervous\\\\05_16_Nervous.wav\n",
      "MoviePy - Done.\n"
     ]
    },
    {
     "name": "stderr",
     "output_type": "stream",
     "text": [
      "                                                                    "
     ]
    },
    {
     "name": "stdout",
     "output_type": "stream",
     "text": [
      "MoviePy - Writing audio in C:\\\\Users\\\\Aditya Kamath\\\\Downloads\\\\MP\\\\New Codes\\\\Final Dataset\\\\Audio\\\\Nervous\\\\05_17_Nervous.wav\n",
      "MoviePy - Done.\n"
     ]
    },
    {
     "name": "stderr",
     "output_type": "stream",
     "text": [
      "                                                                    "
     ]
    },
    {
     "name": "stdout",
     "output_type": "stream",
     "text": [
      "MoviePy - Writing audio in C:\\\\Users\\\\Aditya Kamath\\\\Downloads\\\\MP\\\\New Codes\\\\Final Dataset\\\\Audio\\\\Nervous\\\\05_18_Nervous.wav\n"
     ]
    },
    {
     "name": "stderr",
     "output_type": "stream",
     "text": [
      "\r"
     ]
    },
    {
     "name": "stdout",
     "output_type": "stream",
     "text": [
      "MoviePy - Done.\n"
     ]
    },
    {
     "name": "stderr",
     "output_type": "stream",
     "text": [
      "                                                                    "
     ]
    },
    {
     "name": "stdout",
     "output_type": "stream",
     "text": [
      "MoviePy - Writing audio in C:\\\\Users\\\\Aditya Kamath\\\\Downloads\\\\MP\\\\New Codes\\\\Final Dataset\\\\Audio\\\\Nervous\\\\05_19_Nervous.wav\n",
      "MoviePy - Done.\n"
     ]
    },
    {
     "name": "stderr",
     "output_type": "stream",
     "text": [
      "                                                                  "
     ]
    },
    {
     "name": "stdout",
     "output_type": "stream",
     "text": [
      "MoviePy - Writing audio in C:\\\\Users\\\\Aditya Kamath\\\\Downloads\\\\MP\\\\New Codes\\\\Final Dataset\\\\Audio\\\\Nervous\\\\05_20_Nervous.wav\n",
      "MoviePy - Done.\n"
     ]
    },
    {
     "name": "stderr",
     "output_type": "stream",
     "text": [
      "                                                                    "
     ]
    },
    {
     "name": "stdout",
     "output_type": "stream",
     "text": [
      "MoviePy - Writing audio in C:\\\\Users\\\\Aditya Kamath\\\\Downloads\\\\MP\\\\New Codes\\\\Final Dataset\\\\Audio\\\\Nervous\\\\05_21_Nervous.wav\n"
     ]
    },
    {
     "name": "stderr",
     "output_type": "stream",
     "text": [
      "\r"
     ]
    },
    {
     "name": "stdout",
     "output_type": "stream",
     "text": [
      "MoviePy - Done.\n"
     ]
    },
    {
     "name": "stderr",
     "output_type": "stream",
     "text": [
      "chunk:  34%|███▍      | 183/535 [00:00<00:00, 1826.48it/s, now=None]"
     ]
    },
    {
     "name": "stdout",
     "output_type": "stream",
     "text": [
      "MoviePy - Writing audio in C:\\\\Users\\\\Aditya Kamath\\\\Downloads\\\\MP\\\\New Codes\\\\Final Dataset\\\\Audio\\\\Nervous\\\\05_22_Nervous.wav\n"
     ]
    },
    {
     "name": "stderr",
     "output_type": "stream",
     "text": [
      "                                                                    \r"
     ]
    },
    {
     "name": "stdout",
     "output_type": "stream",
     "text": [
      "MoviePy - Done.\n"
     ]
    },
    {
     "name": "stderr",
     "output_type": "stream",
     "text": [
      "                                                                    "
     ]
    },
    {
     "name": "stdout",
     "output_type": "stream",
     "text": [
      "MoviePy - Writing audio in C:\\\\Users\\\\Aditya Kamath\\\\Downloads\\\\MP\\\\New Codes\\\\Final Dataset\\\\Audio\\\\Nervous\\\\05_23_Nervous.wav\n",
      "MoviePy - Done.\n"
     ]
    },
    {
     "name": "stderr",
     "output_type": "stream",
     "text": [
      "chunk:  35%|███▌      | 153/435 [00:00<00:00, 1503.12it/s, now=None]"
     ]
    },
    {
     "name": "stdout",
     "output_type": "stream",
     "text": [
      "MoviePy - Writing audio in C:\\\\Users\\\\Aditya Kamath\\\\Downloads\\\\MP\\\\New Codes\\\\Final Dataset\\\\Audio\\\\Nervous\\\\05_24_Nervous.wav\n"
     ]
    },
    {
     "name": "stderr",
     "output_type": "stream",
     "text": [
      "                                                                    \r"
     ]
    },
    {
     "name": "stdout",
     "output_type": "stream",
     "text": [
      "MoviePy - Done.\n"
     ]
    },
    {
     "name": "stderr",
     "output_type": "stream",
     "text": [
      "                                                                    "
     ]
    },
    {
     "name": "stdout",
     "output_type": "stream",
     "text": [
      "MoviePy - Writing audio in C:\\\\Users\\\\Aditya Kamath\\\\Downloads\\\\MP\\\\New Codes\\\\Final Dataset\\\\Audio\\\\Nervous\\\\05_25_Nervous.wav\n",
      "MoviePy - Done.\n"
     ]
    },
    {
     "name": "stderr",
     "output_type": "stream",
     "text": [
      "chunk:  95%|█████████▌| 357/375 [00:00<00:00, 1874.88it/s, now=None]"
     ]
    },
    {
     "name": "stdout",
     "output_type": "stream",
     "text": [
      "MoviePy - Writing audio in C:\\\\Users\\\\Aditya Kamath\\\\Downloads\\\\MP\\\\New Codes\\\\Final Dataset\\\\Audio\\\\Nervous\\\\05_26_Nervous.wav\n"
     ]
    },
    {
     "name": "stderr",
     "output_type": "stream",
     "text": [
      "                                                                    \r"
     ]
    },
    {
     "name": "stdout",
     "output_type": "stream",
     "text": [
      "MoviePy - Done.\n"
     ]
    },
    {
     "name": "stderr",
     "output_type": "stream",
     "text": [
      "chunk:  50%|█████     | 153/303 [00:00<00:00, 1308.07it/s, now=None]"
     ]
    },
    {
     "name": "stdout",
     "output_type": "stream",
     "text": [
      "MoviePy - Writing audio in C:\\\\Users\\\\Aditya Kamath\\\\Downloads\\\\MP\\\\New Codes\\\\Final Dataset\\\\Audio\\\\Neutral\\\\01_01_Neutral.wav\n"
     ]
    },
    {
     "name": "stderr",
     "output_type": "stream",
     "text": [
      "                                                                    \r"
     ]
    },
    {
     "name": "stdout",
     "output_type": "stream",
     "text": [
      "MoviePy - Done.\n"
     ]
    },
    {
     "name": "stderr",
     "output_type": "stream",
     "text": [
      "                                                                    "
     ]
    },
    {
     "name": "stdout",
     "output_type": "stream",
     "text": [
      "MoviePy - Writing audio in C:\\\\Users\\\\Aditya Kamath\\\\Downloads\\\\MP\\\\New Codes\\\\Final Dataset\\\\Audio\\\\Neutral\\\\01_02_Neutral.wav\n",
      "MoviePy - Done.\n"
     ]
    },
    {
     "name": "stderr",
     "output_type": "stream",
     "text": [
      "                                                                    "
     ]
    },
    {
     "name": "stdout",
     "output_type": "stream",
     "text": [
      "MoviePy - Writing audio in C:\\\\Users\\\\Aditya Kamath\\\\Downloads\\\\MP\\\\New Codes\\\\Final Dataset\\\\Audio\\\\Neutral\\\\01_03_Neutral.wav\n",
      "MoviePy - Done.\n"
     ]
    },
    {
     "name": "stderr",
     "output_type": "stream",
     "text": [
      "                                                                    "
     ]
    },
    {
     "name": "stdout",
     "output_type": "stream",
     "text": [
      "MoviePy - Writing audio in C:\\\\Users\\\\Aditya Kamath\\\\Downloads\\\\MP\\\\New Codes\\\\Final Dataset\\\\Audio\\\\Neutral\\\\01_04_Neutral.wav\n",
      "MoviePy - Done.\n"
     ]
    },
    {
     "name": "stderr",
     "output_type": "stream",
     "text": [
      "                                                                    "
     ]
    },
    {
     "name": "stdout",
     "output_type": "stream",
     "text": [
      "MoviePy - Writing audio in C:\\\\Users\\\\Aditya Kamath\\\\Downloads\\\\MP\\\\New Codes\\\\Final Dataset\\\\Audio\\\\Neutral\\\\01_05_Neutral.wav\n",
      "MoviePy - Done.\n"
     ]
    },
    {
     "name": "stderr",
     "output_type": "stream",
     "text": [
      "                                                                    "
     ]
    },
    {
     "name": "stdout",
     "output_type": "stream",
     "text": [
      "MoviePy - Writing audio in C:\\\\Users\\\\Aditya Kamath\\\\Downloads\\\\MP\\\\New Codes\\\\Final Dataset\\\\Audio\\\\Neutral\\\\01_06_Neutral.wav\n",
      "MoviePy - Done.\n"
     ]
    },
    {
     "name": "stderr",
     "output_type": "stream",
     "text": [
      "                                                                    "
     ]
    },
    {
     "name": "stdout",
     "output_type": "stream",
     "text": [
      "MoviePy - Writing audio in C:\\\\Users\\\\Aditya Kamath\\\\Downloads\\\\MP\\\\New Codes\\\\Final Dataset\\\\Audio\\\\Neutral\\\\01_07_Neutral.wav\n",
      "MoviePy - Done.\n"
     ]
    },
    {
     "name": "stderr",
     "output_type": "stream",
     "text": [
      "                                                                    "
     ]
    },
    {
     "name": "stdout",
     "output_type": "stream",
     "text": [
      "MoviePy - Writing audio in C:\\\\Users\\\\Aditya Kamath\\\\Downloads\\\\MP\\\\New Codes\\\\Final Dataset\\\\Audio\\\\Neutral\\\\01_08_Neutral.wav\n",
      "MoviePy - Done.\n"
     ]
    },
    {
     "name": "stderr",
     "output_type": "stream",
     "text": [
      "                                                                    "
     ]
    },
    {
     "name": "stdout",
     "output_type": "stream",
     "text": [
      "MoviePy - Writing audio in C:\\\\Users\\\\Aditya Kamath\\\\Downloads\\\\MP\\\\New Codes\\\\Final Dataset\\\\Audio\\\\Neutral\\\\01_09_Neutral.wav\n",
      "MoviePy - Done.\n"
     ]
    },
    {
     "name": "stderr",
     "output_type": "stream",
     "text": [
      "                                                                    "
     ]
    },
    {
     "name": "stdout",
     "output_type": "stream",
     "text": [
      "MoviePy - Writing audio in C:\\\\Users\\\\Aditya Kamath\\\\Downloads\\\\MP\\\\New Codes\\\\Final Dataset\\\\Audio\\\\Neutral\\\\01_10_Neutral.wav\n",
      "MoviePy - Done.\n"
     ]
    },
    {
     "name": "stderr",
     "output_type": "stream",
     "text": [
      "                                                                    "
     ]
    },
    {
     "name": "stdout",
     "output_type": "stream",
     "text": [
      "MoviePy - Writing audio in C:\\\\Users\\\\Aditya Kamath\\\\Downloads\\\\MP\\\\New Codes\\\\Final Dataset\\\\Audio\\\\Neutral\\\\01_11_Neutral.wav\n",
      "MoviePy - Done.\n"
     ]
    },
    {
     "name": "stderr",
     "output_type": "stream",
     "text": [
      "                                                                    "
     ]
    },
    {
     "name": "stdout",
     "output_type": "stream",
     "text": [
      "MoviePy - Writing audio in C:\\\\Users\\\\Aditya Kamath\\\\Downloads\\\\MP\\\\New Codes\\\\Final Dataset\\\\Audio\\\\Neutral\\\\01_12_Neutral.wav\n",
      "MoviePy - Done.\n"
     ]
    },
    {
     "name": "stderr",
     "output_type": "stream",
     "text": [
      "chunk:   0%|          | 0/232 [00:00<?, ?it/s, now=None]"
     ]
    },
    {
     "name": "stdout",
     "output_type": "stream",
     "text": [
      "MoviePy - Writing audio in C:\\\\Users\\\\Aditya Kamath\\\\Downloads\\\\MP\\\\New Codes\\\\Final Dataset\\\\Audio\\\\Neutral\\\\01_13_Neutral.wav\n"
     ]
    },
    {
     "name": "stderr",
     "output_type": "stream",
     "text": [
      "                                                                   \r"
     ]
    },
    {
     "name": "stdout",
     "output_type": "stream",
     "text": [
      "MoviePy - Done.\n"
     ]
    },
    {
     "name": "stderr",
     "output_type": "stream",
     "text": [
      "                                                                    "
     ]
    },
    {
     "name": "stdout",
     "output_type": "stream",
     "text": [
      "MoviePy - Writing audio in C:\\\\Users\\\\Aditya Kamath\\\\Downloads\\\\MP\\\\New Codes\\\\Final Dataset\\\\Audio\\\\Neutral\\\\01_14_Neutral.wav\n",
      "MoviePy - Done.\n"
     ]
    },
    {
     "name": "stderr",
     "output_type": "stream",
     "text": [
      "                                                                    "
     ]
    },
    {
     "name": "stdout",
     "output_type": "stream",
     "text": [
      "MoviePy - Writing audio in C:\\\\Users\\\\Aditya Kamath\\\\Downloads\\\\MP\\\\New Codes\\\\Final Dataset\\\\Audio\\\\Neutral\\\\01_15_Neutral.wav\n",
      "MoviePy - Done.\n"
     ]
    },
    {
     "name": "stderr",
     "output_type": "stream",
     "text": [
      "                                                                    "
     ]
    },
    {
     "name": "stdout",
     "output_type": "stream",
     "text": [
      "MoviePy - Writing audio in C:\\\\Users\\\\Aditya Kamath\\\\Downloads\\\\MP\\\\New Codes\\\\Final Dataset\\\\Audio\\\\Neutral\\\\01_16_Neutral.wav\n",
      "MoviePy - Done.\n"
     ]
    },
    {
     "name": "stderr",
     "output_type": "stream",
     "text": [
      "                                                                   "
     ]
    },
    {
     "name": "stdout",
     "output_type": "stream",
     "text": [
      "MoviePy - Writing audio in C:\\\\Users\\\\Aditya Kamath\\\\Downloads\\\\MP\\\\New Codes\\\\Final Dataset\\\\Audio\\\\Neutral\\\\01_17_Neutral.wav\n",
      "MoviePy - Done.\n"
     ]
    },
    {
     "name": "stderr",
     "output_type": "stream",
     "text": [
      "                                                                    "
     ]
    },
    {
     "name": "stdout",
     "output_type": "stream",
     "text": [
      "MoviePy - Writing audio in C:\\\\Users\\\\Aditya Kamath\\\\Downloads\\\\MP\\\\New Codes\\\\Final Dataset\\\\Audio\\\\Neutral\\\\01_18_Neutral.wav\n",
      "MoviePy - Done.\n"
     ]
    },
    {
     "name": "stderr",
     "output_type": "stream",
     "text": [
      "                                                                    "
     ]
    },
    {
     "name": "stdout",
     "output_type": "stream",
     "text": [
      "MoviePy - Writing audio in C:\\\\Users\\\\Aditya Kamath\\\\Downloads\\\\MP\\\\New Codes\\\\Final Dataset\\\\Audio\\\\Neutral\\\\01_19_Neutral.wav\n",
      "MoviePy - Done.\n"
     ]
    },
    {
     "name": "stderr",
     "output_type": "stream",
     "text": [
      "                                                                    "
     ]
    },
    {
     "name": "stdout",
     "output_type": "stream",
     "text": [
      "MoviePy - Writing audio in C:\\\\Users\\\\Aditya Kamath\\\\Downloads\\\\MP\\\\New Codes\\\\Final Dataset\\\\Audio\\\\Neutral\\\\01_20_Neutral.wav\n",
      "MoviePy - Done.\n"
     ]
    },
    {
     "name": "stderr",
     "output_type": "stream",
     "text": [
      "chunk:  31%|███       | 89/287 [00:00<00:00, 883.54it/s, now=None]"
     ]
    },
    {
     "name": "stdout",
     "output_type": "stream",
     "text": [
      "MoviePy - Writing audio in C:\\\\Users\\\\Aditya Kamath\\\\Downloads\\\\MP\\\\New Codes\\\\Final Dataset\\\\Audio\\\\Neutral\\\\01_21_Neutral.wav\n"
     ]
    },
    {
     "name": "stderr",
     "output_type": "stream",
     "text": [
      "                                                                    \r"
     ]
    },
    {
     "name": "stdout",
     "output_type": "stream",
     "text": [
      "MoviePy - Done.\n"
     ]
    },
    {
     "name": "stderr",
     "output_type": "stream",
     "text": [
      "chunk:  31%|███▏      | 102/324 [00:00<00:00, 1012.60it/s, now=None]"
     ]
    },
    {
     "name": "stdout",
     "output_type": "stream",
     "text": [
      "MoviePy - Writing audio in C:\\\\Users\\\\Aditya Kamath\\\\Downloads\\\\MP\\\\New Codes\\\\Final Dataset\\\\Audio\\\\Neutral\\\\01_22_Neutral.wav\n"
     ]
    },
    {
     "name": "stderr",
     "output_type": "stream",
     "text": [
      "                                                                    \r"
     ]
    },
    {
     "name": "stdout",
     "output_type": "stream",
     "text": [
      "MoviePy - Done.\n"
     ]
    },
    {
     "name": "stderr",
     "output_type": "stream",
     "text": [
      "                                                                   "
     ]
    },
    {
     "name": "stdout",
     "output_type": "stream",
     "text": [
      "MoviePy - Writing audio in C:\\\\Users\\\\Aditya Kamath\\\\Downloads\\\\MP\\\\New Codes\\\\Final Dataset\\\\Audio\\\\Neutral\\\\01_23_Neutral.wav\n",
      "MoviePy - Done.\n"
     ]
    },
    {
     "name": "stderr",
     "output_type": "stream",
     "text": [
      "                                                                    "
     ]
    },
    {
     "name": "stdout",
     "output_type": "stream",
     "text": [
      "MoviePy - Writing audio in C:\\\\Users\\\\Aditya Kamath\\\\Downloads\\\\MP\\\\New Codes\\\\Final Dataset\\\\Audio\\\\Neutral\\\\01_24_Neutral.wav\n",
      "MoviePy - Done.\n"
     ]
    },
    {
     "name": "stderr",
     "output_type": "stream",
     "text": [
      "chunk:   0%|          | 0/174 [00:00<?, ?it/s, now=None]"
     ]
    },
    {
     "name": "stdout",
     "output_type": "stream",
     "text": [
      "MoviePy - Writing audio in C:\\\\Users\\\\Aditya Kamath\\\\Downloads\\\\MP\\\\New Codes\\\\Final Dataset\\\\Audio\\\\Neutral\\\\01_25_Neutral.wav\n"
     ]
    },
    {
     "name": "stderr",
     "output_type": "stream",
     "text": [
      "                                                                \r"
     ]
    },
    {
     "name": "stdout",
     "output_type": "stream",
     "text": [
      "MoviePy - Done.\n"
     ]
    },
    {
     "name": "stderr",
     "output_type": "stream",
     "text": [
      "chunk:  30%|███       | 102/339 [00:00<00:00, 974.00it/s, now=None]"
     ]
    },
    {
     "name": "stdout",
     "output_type": "stream",
     "text": [
      "MoviePy - Writing audio in C:\\\\Users\\\\Aditya Kamath\\\\Downloads\\\\MP\\\\New Codes\\\\Final Dataset\\\\Audio\\\\Neutral\\\\01_26_Neutral.wav\n"
     ]
    },
    {
     "name": "stderr",
     "output_type": "stream",
     "text": [
      "                                                                    \r"
     ]
    },
    {
     "name": "stdout",
     "output_type": "stream",
     "text": [
      "MoviePy - Done.\n"
     ]
    },
    {
     "name": "stderr",
     "output_type": "stream",
     "text": [
      "                                                                    "
     ]
    },
    {
     "name": "stdout",
     "output_type": "stream",
     "text": [
      "MoviePy - Writing audio in C:\\\\Users\\\\Aditya Kamath\\\\Downloads\\\\MP\\\\New Codes\\\\Final Dataset\\\\Audio\\\\Neutral\\\\02_01_Neutral.wav\n",
      "MoviePy - Done.\n"
     ]
    },
    {
     "name": "stderr",
     "output_type": "stream",
     "text": [
      "                                                                    "
     ]
    },
    {
     "name": "stdout",
     "output_type": "stream",
     "text": [
      "MoviePy - Writing audio in C:\\\\Users\\\\Aditya Kamath\\\\Downloads\\\\MP\\\\New Codes\\\\Final Dataset\\\\Audio\\\\Neutral\\\\02_02_Neutral.wav\n",
      "MoviePy - Done.\n"
     ]
    },
    {
     "name": "stderr",
     "output_type": "stream",
     "text": [
      "                                                                    "
     ]
    },
    {
     "name": "stdout",
     "output_type": "stream",
     "text": [
      "MoviePy - Writing audio in C:\\\\Users\\\\Aditya Kamath\\\\Downloads\\\\MP\\\\New Codes\\\\Final Dataset\\\\Audio\\\\Neutral\\\\02_03_Neutral.wav\n",
      "MoviePy - Done.\n"
     ]
    },
    {
     "name": "stderr",
     "output_type": "stream",
     "text": [
      "                                                        "
     ]
    },
    {
     "name": "stdout",
     "output_type": "stream",
     "text": [
      "MoviePy - Writing audio in C:\\\\Users\\\\Aditya Kamath\\\\Downloads\\\\MP\\\\New Codes\\\\Final Dataset\\\\Audio\\\\Neutral\\\\02_04_Neutral.wav\n",
      "MoviePy - Done.\n"
     ]
    },
    {
     "name": "stderr",
     "output_type": "stream",
     "text": [
      "                                                                    "
     ]
    },
    {
     "name": "stdout",
     "output_type": "stream",
     "text": [
      "MoviePy - Writing audio in C:\\\\Users\\\\Aditya Kamath\\\\Downloads\\\\MP\\\\New Codes\\\\Final Dataset\\\\Audio\\\\Neutral\\\\02_05_Neutral.wav\n",
      "MoviePy - Done.\n"
     ]
    },
    {
     "name": "stderr",
     "output_type": "stream",
     "text": [
      "                                                                    "
     ]
    },
    {
     "name": "stdout",
     "output_type": "stream",
     "text": [
      "MoviePy - Writing audio in C:\\\\Users\\\\Aditya Kamath\\\\Downloads\\\\MP\\\\New Codes\\\\Final Dataset\\\\Audio\\\\Neutral\\\\02_06_Neutral.wav\n",
      "MoviePy - Done.\n"
     ]
    },
    {
     "name": "stderr",
     "output_type": "stream",
     "text": [
      "                                                        "
     ]
    },
    {
     "name": "stdout",
     "output_type": "stream",
     "text": [
      "MoviePy - Writing audio in C:\\\\Users\\\\Aditya Kamath\\\\Downloads\\\\MP\\\\New Codes\\\\Final Dataset\\\\Audio\\\\Neutral\\\\02_07_Neutral.wav\n",
      "MoviePy - Done.\n"
     ]
    },
    {
     "name": "stderr",
     "output_type": "stream",
     "text": [
      "                                                                    "
     ]
    },
    {
     "name": "stdout",
     "output_type": "stream",
     "text": [
      "MoviePy - Writing audio in C:\\\\Users\\\\Aditya Kamath\\\\Downloads\\\\MP\\\\New Codes\\\\Final Dataset\\\\Audio\\\\Neutral\\\\02_08_Neutral.wav\n",
      "MoviePy - Done.\n"
     ]
    },
    {
     "name": "stderr",
     "output_type": "stream",
     "text": [
      "                                                                    "
     ]
    },
    {
     "name": "stdout",
     "output_type": "stream",
     "text": [
      "MoviePy - Writing audio in C:\\\\Users\\\\Aditya Kamath\\\\Downloads\\\\MP\\\\New Codes\\\\Final Dataset\\\\Audio\\\\Neutral\\\\02_09_Neutral.wav\n",
      "MoviePy - Done.\n"
     ]
    },
    {
     "name": "stderr",
     "output_type": "stream",
     "text": [
      "                                                                    "
     ]
    },
    {
     "name": "stdout",
     "output_type": "stream",
     "text": [
      "MoviePy - Writing audio in C:\\\\Users\\\\Aditya Kamath\\\\Downloads\\\\MP\\\\New Codes\\\\Final Dataset\\\\Audio\\\\Neutral\\\\02_10_Neutral.wav\n",
      "MoviePy - Done.\n"
     ]
    },
    {
     "name": "stderr",
     "output_type": "stream",
     "text": [
      "chunk:   0%|          | 0/240 [00:00<?, ?it/s, now=None]"
     ]
    },
    {
     "name": "stdout",
     "output_type": "stream",
     "text": [
      "MoviePy - Writing audio in C:\\\\Users\\\\Aditya Kamath\\\\Downloads\\\\MP\\\\New Codes\\\\Final Dataset\\\\Audio\\\\Neutral\\\\02_11_Neutral.wav\n"
     ]
    },
    {
     "name": "stderr",
     "output_type": "stream",
     "text": [
      "                                                                \r"
     ]
    },
    {
     "name": "stdout",
     "output_type": "stream",
     "text": [
      "MoviePy - Done.\n"
     ]
    },
    {
     "name": "stderr",
     "output_type": "stream",
     "text": [
      "                                                                    "
     ]
    },
    {
     "name": "stdout",
     "output_type": "stream",
     "text": [
      "MoviePy - Writing audio in C:\\\\Users\\\\Aditya Kamath\\\\Downloads\\\\MP\\\\New Codes\\\\Final Dataset\\\\Audio\\\\Neutral\\\\02_12_Neutral.wav\n",
      "MoviePy - Done.\n"
     ]
    },
    {
     "name": "stderr",
     "output_type": "stream",
     "text": [
      "                                                                    "
     ]
    },
    {
     "name": "stdout",
     "output_type": "stream",
     "text": [
      "MoviePy - Writing audio in C:\\\\Users\\\\Aditya Kamath\\\\Downloads\\\\MP\\\\New Codes\\\\Final Dataset\\\\Audio\\\\Neutral\\\\02_13_Neutral.wav\n",
      "MoviePy - Done.\n"
     ]
    },
    {
     "name": "stderr",
     "output_type": "stream",
     "text": [
      "                                                        "
     ]
    },
    {
     "name": "stdout",
     "output_type": "stream",
     "text": [
      "MoviePy - Writing audio in C:\\\\Users\\\\Aditya Kamath\\\\Downloads\\\\MP\\\\New Codes\\\\Final Dataset\\\\Audio\\\\Neutral\\\\02_14_Neutral.wav\n",
      "MoviePy - Done.\n"
     ]
    },
    {
     "name": "stderr",
     "output_type": "stream",
     "text": [
      "                                                                    "
     ]
    },
    {
     "name": "stdout",
     "output_type": "stream",
     "text": [
      "MoviePy - Writing audio in C:\\\\Users\\\\Aditya Kamath\\\\Downloads\\\\MP\\\\New Codes\\\\Final Dataset\\\\Audio\\\\Neutral\\\\02_15_Neutral.wav\n",
      "MoviePy - Done.\n"
     ]
    },
    {
     "name": "stderr",
     "output_type": "stream",
     "text": [
      "                                                                    "
     ]
    },
    {
     "name": "stdout",
     "output_type": "stream",
     "text": [
      "MoviePy - Writing audio in C:\\\\Users\\\\Aditya Kamath\\\\Downloads\\\\MP\\\\New Codes\\\\Final Dataset\\\\Audio\\\\Neutral\\\\02_16_Neutral.wav\n",
      "MoviePy - Done.\n"
     ]
    },
    {
     "name": "stderr",
     "output_type": "stream",
     "text": [
      "                                                                    "
     ]
    },
    {
     "name": "stdout",
     "output_type": "stream",
     "text": [
      "MoviePy - Writing audio in C:\\\\Users\\\\Aditya Kamath\\\\Downloads\\\\MP\\\\New Codes\\\\Final Dataset\\\\Audio\\\\Neutral\\\\02_17_Neutral.wav\n",
      "MoviePy - Done.\n"
     ]
    },
    {
     "name": "stderr",
     "output_type": "stream",
     "text": [
      "                                                                    "
     ]
    },
    {
     "name": "stdout",
     "output_type": "stream",
     "text": [
      "MoviePy - Writing audio in C:\\\\Users\\\\Aditya Kamath\\\\Downloads\\\\MP\\\\New Codes\\\\Final Dataset\\\\Audio\\\\Neutral\\\\02_18_Neutral.wav\n",
      "MoviePy - Done.\n"
     ]
    },
    {
     "name": "stderr",
     "output_type": "stream",
     "text": [
      "                                                                    "
     ]
    },
    {
     "name": "stdout",
     "output_type": "stream",
     "text": [
      "MoviePy - Writing audio in C:\\\\Users\\\\Aditya Kamath\\\\Downloads\\\\MP\\\\New Codes\\\\Final Dataset\\\\Audio\\\\Neutral\\\\02_19_Neutral.wav\n",
      "MoviePy - Done.\n"
     ]
    },
    {
     "name": "stderr",
     "output_type": "stream",
     "text": [
      "                                                        "
     ]
    },
    {
     "name": "stdout",
     "output_type": "stream",
     "text": [
      "MoviePy - Writing audio in C:\\\\Users\\\\Aditya Kamath\\\\Downloads\\\\MP\\\\New Codes\\\\Final Dataset\\\\Audio\\\\Neutral\\\\02_20_Neutral.wav\n",
      "MoviePy - Done.\n"
     ]
    },
    {
     "name": "stderr",
     "output_type": "stream",
     "text": [
      "                                                                    "
     ]
    },
    {
     "name": "stdout",
     "output_type": "stream",
     "text": [
      "MoviePy - Writing audio in C:\\\\Users\\\\Aditya Kamath\\\\Downloads\\\\MP\\\\New Codes\\\\Final Dataset\\\\Audio\\\\Neutral\\\\02_21_Neutral.wav\n",
      "MoviePy - Done.\n"
     ]
    },
    {
     "name": "stderr",
     "output_type": "stream",
     "text": [
      "                                                        "
     ]
    },
    {
     "name": "stdout",
     "output_type": "stream",
     "text": [
      "MoviePy - Writing audio in C:\\\\Users\\\\Aditya Kamath\\\\Downloads\\\\MP\\\\New Codes\\\\Final Dataset\\\\Audio\\\\Neutral\\\\02_22_Neutral.wav\n",
      "MoviePy - Done.\n"
     ]
    },
    {
     "name": "stderr",
     "output_type": "stream",
     "text": [
      "chunk:  99%|█████████▊| 207/210 [00:00<00:00, 2052.14it/s, now=None]"
     ]
    },
    {
     "name": "stdout",
     "output_type": "stream",
     "text": [
      "MoviePy - Writing audio in C:\\\\Users\\\\Aditya Kamath\\\\Downloads\\\\MP\\\\New Codes\\\\Final Dataset\\\\Audio\\\\Neutral\\\\02_23_Neutral.wav\n"
     ]
    },
    {
     "name": "stderr",
     "output_type": "stream",
     "text": [
      "                                                                    \r"
     ]
    },
    {
     "name": "stdout",
     "output_type": "stream",
     "text": [
      "MoviePy - Done.\n"
     ]
    },
    {
     "name": "stderr",
     "output_type": "stream",
     "text": [
      "                                                        "
     ]
    },
    {
     "name": "stdout",
     "output_type": "stream",
     "text": [
      "MoviePy - Writing audio in C:\\\\Users\\\\Aditya Kamath\\\\Downloads\\\\MP\\\\New Codes\\\\Final Dataset\\\\Audio\\\\Neutral\\\\02_24_Neutral.wav\n",
      "MoviePy - Done.\n"
     ]
    },
    {
     "name": "stderr",
     "output_type": "stream",
     "text": [
      "                                                        "
     ]
    },
    {
     "name": "stdout",
     "output_type": "stream",
     "text": [
      "MoviePy - Writing audio in C:\\\\Users\\\\Aditya Kamath\\\\Downloads\\\\MP\\\\New Codes\\\\Final Dataset\\\\Audio\\\\Neutral\\\\02_25_Neutral.wav\n",
      "MoviePy - Done.\n"
     ]
    },
    {
     "name": "stderr",
     "output_type": "stream",
     "text": [
      "                                                                    "
     ]
    },
    {
     "name": "stdout",
     "output_type": "stream",
     "text": [
      "MoviePy - Writing audio in C:\\\\Users\\\\Aditya Kamath\\\\Downloads\\\\MP\\\\New Codes\\\\Final Dataset\\\\Audio\\\\Neutral\\\\02_26_Neutral.wav\n",
      "MoviePy - Done.\n"
     ]
    },
    {
     "name": "stderr",
     "output_type": "stream",
     "text": [
      "                                                                    "
     ]
    },
    {
     "name": "stdout",
     "output_type": "stream",
     "text": [
      "MoviePy - Writing audio in C:\\\\Users\\\\Aditya Kamath\\\\Downloads\\\\MP\\\\New Codes\\\\Final Dataset\\\\Audio\\\\Neutral\\\\03_01_Neutral.wav\n",
      "MoviePy - Done.\n"
     ]
    },
    {
     "name": "stderr",
     "output_type": "stream",
     "text": [
      "                                                                    "
     ]
    },
    {
     "name": "stdout",
     "output_type": "stream",
     "text": [
      "MoviePy - Writing audio in C:\\\\Users\\\\Aditya Kamath\\\\Downloads\\\\MP\\\\New Codes\\\\Final Dataset\\\\Audio\\\\Neutral\\\\03_02_Neutral.wav\n",
      "MoviePy - Done.\n"
     ]
    },
    {
     "name": "stderr",
     "output_type": "stream",
     "text": [
      "                                                                    "
     ]
    },
    {
     "name": "stdout",
     "output_type": "stream",
     "text": [
      "MoviePy - Writing audio in C:\\\\Users\\\\Aditya Kamath\\\\Downloads\\\\MP\\\\New Codes\\\\Final Dataset\\\\Audio\\\\Neutral\\\\03_03_Neutral.wav\n",
      "MoviePy - Done.\n"
     ]
    },
    {
     "name": "stderr",
     "output_type": "stream",
     "text": [
      "                                                        "
     ]
    },
    {
     "name": "stdout",
     "output_type": "stream",
     "text": [
      "MoviePy - Writing audio in C:\\\\Users\\\\Aditya Kamath\\\\Downloads\\\\MP\\\\New Codes\\\\Final Dataset\\\\Audio\\\\Neutral\\\\03_04_Neutral.wav\n",
      "MoviePy - Done.\n"
     ]
    },
    {
     "name": "stderr",
     "output_type": "stream",
     "text": [
      "                                                                    "
     ]
    },
    {
     "name": "stdout",
     "output_type": "stream",
     "text": [
      "MoviePy - Writing audio in C:\\\\Users\\\\Aditya Kamath\\\\Downloads\\\\MP\\\\New Codes\\\\Final Dataset\\\\Audio\\\\Neutral\\\\03_05_Neutral.wav\n",
      "MoviePy - Done.\n"
     ]
    },
    {
     "name": "stderr",
     "output_type": "stream",
     "text": [
      "                                                                    "
     ]
    },
    {
     "name": "stdout",
     "output_type": "stream",
     "text": [
      "MoviePy - Writing audio in C:\\\\Users\\\\Aditya Kamath\\\\Downloads\\\\MP\\\\New Codes\\\\Final Dataset\\\\Audio\\\\Neutral\\\\03_06_Neutral.wav\n",
      "MoviePy - Done.\n"
     ]
    },
    {
     "name": "stderr",
     "output_type": "stream",
     "text": [
      "                                                        "
     ]
    },
    {
     "name": "stdout",
     "output_type": "stream",
     "text": [
      "MoviePy - Writing audio in C:\\\\Users\\\\Aditya Kamath\\\\Downloads\\\\MP\\\\New Codes\\\\Final Dataset\\\\Audio\\\\Neutral\\\\03_07_Neutral.wav\n",
      "MoviePy - Done.\n"
     ]
    },
    {
     "name": "stderr",
     "output_type": "stream",
     "text": [
      "                                                                    "
     ]
    },
    {
     "name": "stdout",
     "output_type": "stream",
     "text": [
      "MoviePy - Writing audio in C:\\\\Users\\\\Aditya Kamath\\\\Downloads\\\\MP\\\\New Codes\\\\Final Dataset\\\\Audio\\\\Neutral\\\\03_08_Neutral.wav\n",
      "MoviePy - Done.\n"
     ]
    },
    {
     "name": "stderr",
     "output_type": "stream",
     "text": [
      "chunk:  79%|███████▊  | 183/233 [00:00<00:00, 1814.34it/s, now=None]"
     ]
    },
    {
     "name": "stdout",
     "output_type": "stream",
     "text": [
      "MoviePy - Writing audio in C:\\\\Users\\\\Aditya Kamath\\\\Downloads\\\\MP\\\\New Codes\\\\Final Dataset\\\\Audio\\\\Neutral\\\\03_09_Neutral.wav\n"
     ]
    },
    {
     "name": "stderr",
     "output_type": "stream",
     "text": [
      "                                                                    \r"
     ]
    },
    {
     "name": "stdout",
     "output_type": "stream",
     "text": [
      "MoviePy - Done.\n"
     ]
    },
    {
     "name": "stderr",
     "output_type": "stream",
     "text": [
      "                                                                    "
     ]
    },
    {
     "name": "stdout",
     "output_type": "stream",
     "text": [
      "MoviePy - Writing audio in C:\\\\Users\\\\Aditya Kamath\\\\Downloads\\\\MP\\\\New Codes\\\\Final Dataset\\\\Audio\\\\Neutral\\\\03_10_Neutral.wav\n",
      "MoviePy - Done.\n"
     ]
    },
    {
     "name": "stderr",
     "output_type": "stream",
     "text": [
      "                                                                    "
     ]
    },
    {
     "name": "stdout",
     "output_type": "stream",
     "text": [
      "MoviePy - Writing audio in C:\\\\Users\\\\Aditya Kamath\\\\Downloads\\\\MP\\\\New Codes\\\\Final Dataset\\\\Audio\\\\Neutral\\\\03_11_Neutral.wav\n",
      "MoviePy - Done.\n"
     ]
    },
    {
     "name": "stderr",
     "output_type": "stream",
     "text": [
      "                                                                    "
     ]
    },
    {
     "name": "stdout",
     "output_type": "stream",
     "text": [
      "MoviePy - Writing audio in C:\\\\Users\\\\Aditya Kamath\\\\Downloads\\\\MP\\\\New Codes\\\\Final Dataset\\\\Audio\\\\Neutral\\\\03_12_Neutral.wav\n",
      "MoviePy - Done.\n"
     ]
    },
    {
     "name": "stderr",
     "output_type": "stream",
     "text": [
      "                                                                    "
     ]
    },
    {
     "name": "stdout",
     "output_type": "stream",
     "text": [
      "MoviePy - Writing audio in C:\\\\Users\\\\Aditya Kamath\\\\Downloads\\\\MP\\\\New Codes\\\\Final Dataset\\\\Audio\\\\Neutral\\\\03_13_Neutral.wav\n",
      "MoviePy - Done.\n"
     ]
    },
    {
     "name": "stderr",
     "output_type": "stream",
     "text": [
      "                                                                    "
     ]
    },
    {
     "name": "stdout",
     "output_type": "stream",
     "text": [
      "MoviePy - Writing audio in C:\\\\Users\\\\Aditya Kamath\\\\Downloads\\\\MP\\\\New Codes\\\\Final Dataset\\\\Audio\\\\Neutral\\\\03_14_Neutral.wav\n",
      "MoviePy - Done.\n"
     ]
    },
    {
     "name": "stderr",
     "output_type": "stream",
     "text": [
      "                                                                    "
     ]
    },
    {
     "name": "stdout",
     "output_type": "stream",
     "text": [
      "MoviePy - Writing audio in C:\\\\Users\\\\Aditya Kamath\\\\Downloads\\\\MP\\\\New Codes\\\\Final Dataset\\\\Audio\\\\Neutral\\\\03_15_Neutral.wav\n",
      "MoviePy - Done.\n"
     ]
    },
    {
     "name": "stderr",
     "output_type": "stream",
     "text": [
      "                                                                    "
     ]
    },
    {
     "name": "stdout",
     "output_type": "stream",
     "text": [
      "MoviePy - Writing audio in C:\\\\Users\\\\Aditya Kamath\\\\Downloads\\\\MP\\\\New Codes\\\\Final Dataset\\\\Audio\\\\Neutral\\\\03_16_Neutral.wav\n",
      "MoviePy - Done.\n"
     ]
    },
    {
     "name": "stderr",
     "output_type": "stream",
     "text": [
      "                                                                    "
     ]
    },
    {
     "name": "stdout",
     "output_type": "stream",
     "text": [
      "MoviePy - Writing audio in C:\\\\Users\\\\Aditya Kamath\\\\Downloads\\\\MP\\\\New Codes\\\\Final Dataset\\\\Audio\\\\Neutral\\\\03_17_Neutral.wav\n",
      "MoviePy - Done.\n"
     ]
    },
    {
     "name": "stderr",
     "output_type": "stream",
     "text": [
      "                                                                    "
     ]
    },
    {
     "name": "stdout",
     "output_type": "stream",
     "text": [
      "MoviePy - Writing audio in C:\\\\Users\\\\Aditya Kamath\\\\Downloads\\\\MP\\\\New Codes\\\\Final Dataset\\\\Audio\\\\Neutral\\\\03_18_Neutral.wav\n",
      "MoviePy - Done.\n"
     ]
    },
    {
     "name": "stderr",
     "output_type": "stream",
     "text": [
      "                                                                    "
     ]
    },
    {
     "name": "stdout",
     "output_type": "stream",
     "text": [
      "MoviePy - Writing audio in C:\\\\Users\\\\Aditya Kamath\\\\Downloads\\\\MP\\\\New Codes\\\\Final Dataset\\\\Audio\\\\Neutral\\\\03_19_Neutral.wav\n",
      "MoviePy - Done.\n"
     ]
    },
    {
     "name": "stderr",
     "output_type": "stream",
     "text": [
      "                                                                    "
     ]
    },
    {
     "name": "stdout",
     "output_type": "stream",
     "text": [
      "MoviePy - Writing audio in C:\\\\Users\\\\Aditya Kamath\\\\Downloads\\\\MP\\\\New Codes\\\\Final Dataset\\\\Audio\\\\Neutral\\\\03_20_Neutral.wav\n",
      "MoviePy - Done.\n"
     ]
    },
    {
     "name": "stderr",
     "output_type": "stream",
     "text": [
      "                                                                    "
     ]
    },
    {
     "name": "stdout",
     "output_type": "stream",
     "text": [
      "MoviePy - Writing audio in C:\\\\Users\\\\Aditya Kamath\\\\Downloads\\\\MP\\\\New Codes\\\\Final Dataset\\\\Audio\\\\Neutral\\\\03_21_Neutral.wav\n"
     ]
    },
    {
     "name": "stderr",
     "output_type": "stream",
     "text": [
      "\r"
     ]
    },
    {
     "name": "stdout",
     "output_type": "stream",
     "text": [
      "MoviePy - Done.\n"
     ]
    },
    {
     "name": "stderr",
     "output_type": "stream",
     "text": [
      "                                                                    "
     ]
    },
    {
     "name": "stdout",
     "output_type": "stream",
     "text": [
      "MoviePy - Writing audio in C:\\\\Users\\\\Aditya Kamath\\\\Downloads\\\\MP\\\\New Codes\\\\Final Dataset\\\\Audio\\\\Neutral\\\\03_22_Neutral.wav\n"
     ]
    },
    {
     "name": "stderr",
     "output_type": "stream",
     "text": [
      "\r"
     ]
    },
    {
     "name": "stdout",
     "output_type": "stream",
     "text": [
      "MoviePy - Done.\n"
     ]
    },
    {
     "name": "stderr",
     "output_type": "stream",
     "text": [
      "                                                                    "
     ]
    },
    {
     "name": "stdout",
     "output_type": "stream",
     "text": [
      "MoviePy - Writing audio in C:\\\\Users\\\\Aditya Kamath\\\\Downloads\\\\MP\\\\New Codes\\\\Final Dataset\\\\Audio\\\\Neutral\\\\03_23_Neutral.wav\n",
      "MoviePy - Done.\n"
     ]
    },
    {
     "name": "stderr",
     "output_type": "stream",
     "text": [
      "                                                                    "
     ]
    },
    {
     "name": "stdout",
     "output_type": "stream",
     "text": [
      "MoviePy - Writing audio in C:\\\\Users\\\\Aditya Kamath\\\\Downloads\\\\MP\\\\New Codes\\\\Final Dataset\\\\Audio\\\\Neutral\\\\03_24_Neutral.wav\n",
      "MoviePy - Done.\n"
     ]
    },
    {
     "name": "stderr",
     "output_type": "stream",
     "text": [
      "                                                                   "
     ]
    },
    {
     "name": "stdout",
     "output_type": "stream",
     "text": [
      "MoviePy - Writing audio in C:\\\\Users\\\\Aditya Kamath\\\\Downloads\\\\MP\\\\New Codes\\\\Final Dataset\\\\Audio\\\\Neutral\\\\03_25_Neutral.wav\n",
      "MoviePy - Done.\n"
     ]
    },
    {
     "name": "stderr",
     "output_type": "stream",
     "text": [
      "chunk:  34%|███▍      | 116/339 [00:00<00:00, 1151.59it/s, now=None]"
     ]
    },
    {
     "name": "stdout",
     "output_type": "stream",
     "text": [
      "MoviePy - Writing audio in C:\\\\Users\\\\Aditya Kamath\\\\Downloads\\\\MP\\\\New Codes\\\\Final Dataset\\\\Audio\\\\Neutral\\\\03_26_Neutral.wav\n"
     ]
    },
    {
     "name": "stderr",
     "output_type": "stream",
     "text": [
      "                                                                    \r"
     ]
    },
    {
     "name": "stdout",
     "output_type": "stream",
     "text": [
      "MoviePy - Done.\n"
     ]
    },
    {
     "name": "stderr",
     "output_type": "stream",
     "text": [
      "                                                                   "
     ]
    },
    {
     "name": "stdout",
     "output_type": "stream",
     "text": [
      "MoviePy - Writing audio in C:\\\\Users\\\\Aditya Kamath\\\\Downloads\\\\MP\\\\New Codes\\\\Final Dataset\\\\Audio\\\\Neutral\\\\04_01_Neutral.wav\n"
     ]
    },
    {
     "name": "stderr",
     "output_type": "stream",
     "text": [
      "\r"
     ]
    },
    {
     "name": "stdout",
     "output_type": "stream",
     "text": [
      "MoviePy - Done.\n"
     ]
    },
    {
     "name": "stderr",
     "output_type": "stream",
     "text": [
      "                                                                    "
     ]
    },
    {
     "name": "stdout",
     "output_type": "stream",
     "text": [
      "MoviePy - Writing audio in C:\\\\Users\\\\Aditya Kamath\\\\Downloads\\\\MP\\\\New Codes\\\\Final Dataset\\\\Audio\\\\Neutral\\\\04_02_Neutral.wav\n",
      "MoviePy - Done.\n"
     ]
    },
    {
     "name": "stderr",
     "output_type": "stream",
     "text": [
      "                                                                    "
     ]
    },
    {
     "name": "stdout",
     "output_type": "stream",
     "text": [
      "MoviePy - Writing audio in C:\\\\Users\\\\Aditya Kamath\\\\Downloads\\\\MP\\\\New Codes\\\\Final Dataset\\\\Audio\\\\Neutral\\\\04_03_Neutral.wav\n",
      "MoviePy - Done.\n"
     ]
    },
    {
     "name": "stderr",
     "output_type": "stream",
     "text": [
      "                                                                    "
     ]
    },
    {
     "name": "stdout",
     "output_type": "stream",
     "text": [
      "MoviePy - Writing audio in C:\\\\Users\\\\Aditya Kamath\\\\Downloads\\\\MP\\\\New Codes\\\\Final Dataset\\\\Audio\\\\Neutral\\\\04_04_Neutral.wav\n",
      "MoviePy - Done.\n"
     ]
    },
    {
     "name": "stderr",
     "output_type": "stream",
     "text": [
      "                                                                    "
     ]
    },
    {
     "name": "stdout",
     "output_type": "stream",
     "text": [
      "MoviePy - Writing audio in C:\\\\Users\\\\Aditya Kamath\\\\Downloads\\\\MP\\\\New Codes\\\\Final Dataset\\\\Audio\\\\Neutral\\\\04_05_Neutral.wav\n",
      "MoviePy - Done.\n"
     ]
    },
    {
     "name": "stderr",
     "output_type": "stream",
     "text": [
      "                                                                    "
     ]
    },
    {
     "name": "stdout",
     "output_type": "stream",
     "text": [
      "MoviePy - Writing audio in C:\\\\Users\\\\Aditya Kamath\\\\Downloads\\\\MP\\\\New Codes\\\\Final Dataset\\\\Audio\\\\Neutral\\\\04_06_Neutral.wav\n"
     ]
    },
    {
     "name": "stderr",
     "output_type": "stream",
     "text": [
      "\r"
     ]
    },
    {
     "name": "stdout",
     "output_type": "stream",
     "text": [
      "MoviePy - Done.\n"
     ]
    },
    {
     "name": "stderr",
     "output_type": "stream",
     "text": [
      "chunk:   0%|          | 1/225 [00:00<00:39,  5.66it/s, now=None]"
     ]
    },
    {
     "name": "stdout",
     "output_type": "stream",
     "text": [
      "MoviePy - Writing audio in C:\\\\Users\\\\Aditya Kamath\\\\Downloads\\\\MP\\\\New Codes\\\\Final Dataset\\\\Audio\\\\Neutral\\\\04_07_Neutral.wav\n"
     ]
    },
    {
     "name": "stderr",
     "output_type": "stream",
     "text": [
      "                                                                \r"
     ]
    },
    {
     "name": "stdout",
     "output_type": "stream",
     "text": [
      "MoviePy - Done.\n"
     ]
    },
    {
     "name": "stderr",
     "output_type": "stream",
     "text": [
      "chunk:  43%|████▎     | 153/352 [00:00<00:00, 1467.14it/s, now=None]"
     ]
    },
    {
     "name": "stdout",
     "output_type": "stream",
     "text": [
      "MoviePy - Writing audio in C:\\\\Users\\\\Aditya Kamath\\\\Downloads\\\\MP\\\\New Codes\\\\Final Dataset\\\\Audio\\\\Neutral\\\\04_08_Neutral.wav\n"
     ]
    },
    {
     "name": "stderr",
     "output_type": "stream",
     "text": [
      "                                                                    \r"
     ]
    },
    {
     "name": "stdout",
     "output_type": "stream",
     "text": [
      "MoviePy - Done.\n"
     ]
    },
    {
     "name": "stderr",
     "output_type": "stream",
     "text": [
      "                                                                    "
     ]
    },
    {
     "name": "stdout",
     "output_type": "stream",
     "text": [
      "MoviePy - Writing audio in C:\\\\Users\\\\Aditya Kamath\\\\Downloads\\\\MP\\\\New Codes\\\\Final Dataset\\\\Audio\\\\Neutral\\\\04_09_Neutral.wav\n",
      "MoviePy - Done.\n"
     ]
    },
    {
     "name": "stderr",
     "output_type": "stream",
     "text": [
      "chunk:  89%|████████▉ | 408/456 [00:00<00:00, 2053.36it/s, now=None]"
     ]
    },
    {
     "name": "stdout",
     "output_type": "stream",
     "text": [
      "MoviePy - Writing audio in C:\\\\Users\\\\Aditya Kamath\\\\Downloads\\\\MP\\\\New Codes\\\\Final Dataset\\\\Audio\\\\Neutral\\\\04_10_Neutral.wav\n"
     ]
    },
    {
     "name": "stderr",
     "output_type": "stream",
     "text": [
      "                                                                    \r"
     ]
    },
    {
     "name": "stdout",
     "output_type": "stream",
     "text": [
      "MoviePy - Done.\n"
     ]
    },
    {
     "name": "stderr",
     "output_type": "stream",
     "text": [
      "                                                                    "
     ]
    },
    {
     "name": "stdout",
     "output_type": "stream",
     "text": [
      "MoviePy - Writing audio in C:\\\\Users\\\\Aditya Kamath\\\\Downloads\\\\MP\\\\New Codes\\\\Final Dataset\\\\Audio\\\\Neutral\\\\04_11_Neutral.wav\n"
     ]
    },
    {
     "name": "stderr",
     "output_type": "stream",
     "text": [
      "\r"
     ]
    },
    {
     "name": "stdout",
     "output_type": "stream",
     "text": [
      "MoviePy - Done.\n"
     ]
    },
    {
     "name": "stderr",
     "output_type": "stream",
     "text": [
      "                                                                    "
     ]
    },
    {
     "name": "stdout",
     "output_type": "stream",
     "text": [
      "MoviePy - Writing audio in C:\\\\Users\\\\Aditya Kamath\\\\Downloads\\\\MP\\\\New Codes\\\\Final Dataset\\\\Audio\\\\Neutral\\\\04_12_Neutral.wav\n",
      "MoviePy - Done.\n"
     ]
    },
    {
     "name": "stderr",
     "output_type": "stream",
     "text": [
      "                                                                    "
     ]
    },
    {
     "name": "stdout",
     "output_type": "stream",
     "text": [
      "MoviePy - Writing audio in C:\\\\Users\\\\Aditya Kamath\\\\Downloads\\\\MP\\\\New Codes\\\\Final Dataset\\\\Audio\\\\Neutral\\\\04_13_Neutral.wav\n",
      "MoviePy - Done.\n"
     ]
    },
    {
     "name": "stderr",
     "output_type": "stream",
     "text": [
      "                                                                    "
     ]
    },
    {
     "name": "stdout",
     "output_type": "stream",
     "text": [
      "MoviePy - Writing audio in C:\\\\Users\\\\Aditya Kamath\\\\Downloads\\\\MP\\\\New Codes\\\\Final Dataset\\\\Audio\\\\Neutral\\\\04_14_Neutral.wav\n"
     ]
    },
    {
     "name": "stderr",
     "output_type": "stream",
     "text": [
      "\r"
     ]
    },
    {
     "name": "stdout",
     "output_type": "stream",
     "text": [
      "MoviePy - Done.\n"
     ]
    },
    {
     "name": "stderr",
     "output_type": "stream",
     "text": [
      "                                                                    "
     ]
    },
    {
     "name": "stdout",
     "output_type": "stream",
     "text": [
      "MoviePy - Writing audio in C:\\\\Users\\\\Aditya Kamath\\\\Downloads\\\\MP\\\\New Codes\\\\Final Dataset\\\\Audio\\\\Neutral\\\\04_15_Neutral.wav\n",
      "MoviePy - Done.\n"
     ]
    },
    {
     "name": "stderr",
     "output_type": "stream",
     "text": [
      "                                                                    "
     ]
    },
    {
     "name": "stdout",
     "output_type": "stream",
     "text": [
      "MoviePy - Writing audio in C:\\\\Users\\\\Aditya Kamath\\\\Downloads\\\\MP\\\\New Codes\\\\Final Dataset\\\\Audio\\\\Neutral\\\\04_16_Neutral.wav\n",
      "MoviePy - Done.\n"
     ]
    },
    {
     "name": "stderr",
     "output_type": "stream",
     "text": [
      "                                                                    "
     ]
    },
    {
     "name": "stdout",
     "output_type": "stream",
     "text": [
      "MoviePy - Writing audio in C:\\\\Users\\\\Aditya Kamath\\\\Downloads\\\\MP\\\\New Codes\\\\Final Dataset\\\\Audio\\\\Neutral\\\\04_17_Neutral.wav\n",
      "MoviePy - Done.\n"
     ]
    },
    {
     "name": "stderr",
     "output_type": "stream",
     "text": [
      "                                                                    "
     ]
    },
    {
     "name": "stdout",
     "output_type": "stream",
     "text": [
      "MoviePy - Writing audio in C:\\\\Users\\\\Aditya Kamath\\\\Downloads\\\\MP\\\\New Codes\\\\Final Dataset\\\\Audio\\\\Neutral\\\\04_18_Neutral.wav\n"
     ]
    },
    {
     "name": "stderr",
     "output_type": "stream",
     "text": [
      "\r"
     ]
    },
    {
     "name": "stdout",
     "output_type": "stream",
     "text": [
      "MoviePy - Done.\n"
     ]
    },
    {
     "name": "stderr",
     "output_type": "stream",
     "text": [
      "chunk:   1%|          | 2/311 [00:00<00:19, 16.04it/s, now=None]"
     ]
    },
    {
     "name": "stdout",
     "output_type": "stream",
     "text": [
      "MoviePy - Writing audio in C:\\\\Users\\\\Aditya Kamath\\\\Downloads\\\\MP\\\\New Codes\\\\Final Dataset\\\\Audio\\\\Neutral\\\\04_19_Neutral.wav\n"
     ]
    },
    {
     "name": "stderr",
     "output_type": "stream",
     "text": [
      "                                                                    \r"
     ]
    },
    {
     "name": "stdout",
     "output_type": "stream",
     "text": [
      "MoviePy - Done.\n"
     ]
    },
    {
     "name": "stderr",
     "output_type": "stream",
     "text": [
      "                                                                    "
     ]
    },
    {
     "name": "stdout",
     "output_type": "stream",
     "text": [
      "MoviePy - Writing audio in C:\\\\Users\\\\Aditya Kamath\\\\Downloads\\\\MP\\\\New Codes\\\\Final Dataset\\\\Audio\\\\Neutral\\\\04_20_Neutral.wav\n",
      "MoviePy - Done.\n"
     ]
    },
    {
     "name": "stderr",
     "output_type": "stream",
     "text": [
      "                                                                    "
     ]
    },
    {
     "name": "stdout",
     "output_type": "stream",
     "text": [
      "MoviePy - Writing audio in C:\\\\Users\\\\Aditya Kamath\\\\Downloads\\\\MP\\\\New Codes\\\\Final Dataset\\\\Audio\\\\Neutral\\\\04_21_Neutral.wav\n",
      "MoviePy - Done.\n"
     ]
    },
    {
     "name": "stderr",
     "output_type": "stream",
     "text": [
      "chunk:  97%|█████████▋| 461/476 [00:00<00:00, 2378.50it/s, now=None]"
     ]
    },
    {
     "name": "stdout",
     "output_type": "stream",
     "text": [
      "MoviePy - Writing audio in C:\\\\Users\\\\Aditya Kamath\\\\Downloads\\\\MP\\\\New Codes\\\\Final Dataset\\\\Audio\\\\Neutral\\\\04_22_Neutral.wav\n"
     ]
    },
    {
     "name": "stderr",
     "output_type": "stream",
     "text": [
      "                                                                    \r"
     ]
    },
    {
     "name": "stdout",
     "output_type": "stream",
     "text": [
      "MoviePy - Done.\n"
     ]
    },
    {
     "name": "stderr",
     "output_type": "stream",
     "text": [
      "                                                                    "
     ]
    },
    {
     "name": "stdout",
     "output_type": "stream",
     "text": [
      "MoviePy - Writing audio in C:\\\\Users\\\\Aditya Kamath\\\\Downloads\\\\MP\\\\New Codes\\\\Final Dataset\\\\Audio\\\\Neutral\\\\04_23_Neutral.wav\n",
      "MoviePy - Done.\n"
     ]
    },
    {
     "name": "stderr",
     "output_type": "stream",
     "text": [
      "                                                                    "
     ]
    },
    {
     "name": "stdout",
     "output_type": "stream",
     "text": [
      "MoviePy - Writing audio in C:\\\\Users\\\\Aditya Kamath\\\\Downloads\\\\MP\\\\New Codes\\\\Final Dataset\\\\Audio\\\\Neutral\\\\04_24_Neutral.wav\n",
      "MoviePy - Done.\n"
     ]
    },
    {
     "name": "stderr",
     "output_type": "stream",
     "text": [
      "                                                        "
     ]
    },
    {
     "name": "stdout",
     "output_type": "stream",
     "text": [
      "MoviePy - Writing audio in C:\\\\Users\\\\Aditya Kamath\\\\Downloads\\\\MP\\\\New Codes\\\\Final Dataset\\\\Audio\\\\Neutral\\\\04_25_Neutral.wav\n",
      "MoviePy - Done.\n"
     ]
    },
    {
     "name": "stderr",
     "output_type": "stream",
     "text": [
      "                                                                    "
     ]
    },
    {
     "name": "stdout",
     "output_type": "stream",
     "text": [
      "MoviePy - Writing audio in C:\\\\Users\\\\Aditya Kamath\\\\Downloads\\\\MP\\\\New Codes\\\\Final Dataset\\\\Audio\\\\Neutral\\\\04_26_Neutral.wav\n",
      "MoviePy - Done.\n"
     ]
    },
    {
     "name": "stderr",
     "output_type": "stream",
     "text": [
      "                                                                    "
     ]
    },
    {
     "name": "stdout",
     "output_type": "stream",
     "text": [
      "MoviePy - Writing audio in C:\\\\Users\\\\Aditya Kamath\\\\Downloads\\\\MP\\\\New Codes\\\\Final Dataset\\\\Audio\\\\Neutral\\\\05_01_Neutral.wav\n",
      "MoviePy - Done.\n"
     ]
    },
    {
     "name": "stderr",
     "output_type": "stream",
     "text": [
      "                                                                    "
     ]
    },
    {
     "name": "stdout",
     "output_type": "stream",
     "text": [
      "MoviePy - Writing audio in C:\\\\Users\\\\Aditya Kamath\\\\Downloads\\\\MP\\\\New Codes\\\\Final Dataset\\\\Audio\\\\Neutral\\\\05_02_Neutral.wav\n",
      "MoviePy - Done.\n"
     ]
    },
    {
     "name": "stderr",
     "output_type": "stream",
     "text": [
      "                                                                    "
     ]
    },
    {
     "name": "stdout",
     "output_type": "stream",
     "text": [
      "MoviePy - Writing audio in C:\\\\Users\\\\Aditya Kamath\\\\Downloads\\\\MP\\\\New Codes\\\\Final Dataset\\\\Audio\\\\Neutral\\\\05_03_Neutral.wav\n",
      "MoviePy - Done.\n"
     ]
    },
    {
     "name": "stderr",
     "output_type": "stream",
     "text": [
      "                                                                    "
     ]
    },
    {
     "name": "stdout",
     "output_type": "stream",
     "text": [
      "MoviePy - Writing audio in C:\\\\Users\\\\Aditya Kamath\\\\Downloads\\\\MP\\\\New Codes\\\\Final Dataset\\\\Audio\\\\Neutral\\\\05_04_Neutral.wav\n",
      "MoviePy - Done.\n"
     ]
    },
    {
     "name": "stderr",
     "output_type": "stream",
     "text": [
      "chunk:  43%|████▎     | 102/237 [00:00<00:00, 977.11it/s, now=None]"
     ]
    },
    {
     "name": "stdout",
     "output_type": "stream",
     "text": [
      "MoviePy - Writing audio in C:\\\\Users\\\\Aditya Kamath\\\\Downloads\\\\MP\\\\New Codes\\\\Final Dataset\\\\Audio\\\\Neutral\\\\05_05_Neutral.wav\n"
     ]
    },
    {
     "name": "stderr",
     "output_type": "stream",
     "text": [
      "                                                                   \r"
     ]
    },
    {
     "name": "stdout",
     "output_type": "stream",
     "text": [
      "MoviePy - Done.\n"
     ]
    },
    {
     "name": "stderr",
     "output_type": "stream",
     "text": [
      "                                                                    "
     ]
    },
    {
     "name": "stdout",
     "output_type": "stream",
     "text": [
      "MoviePy - Writing audio in C:\\\\Users\\\\Aditya Kamath\\\\Downloads\\\\MP\\\\New Codes\\\\Final Dataset\\\\Audio\\\\Neutral\\\\05_06_Neutral.wav\n",
      "MoviePy - Done.\n"
     ]
    },
    {
     "name": "stderr",
     "output_type": "stream",
     "text": [
      "                                                                    "
     ]
    },
    {
     "name": "stdout",
     "output_type": "stream",
     "text": [
      "MoviePy - Writing audio in C:\\\\Users\\\\Aditya Kamath\\\\Downloads\\\\MP\\\\New Codes\\\\Final Dataset\\\\Audio\\\\Neutral\\\\05_07_Neutral.wav\n",
      "MoviePy - Done.\n"
     ]
    },
    {
     "name": "stderr",
     "output_type": "stream",
     "text": [
      "                                                                    "
     ]
    },
    {
     "name": "stdout",
     "output_type": "stream",
     "text": [
      "MoviePy - Writing audio in C:\\\\Users\\\\Aditya Kamath\\\\Downloads\\\\MP\\\\New Codes\\\\Final Dataset\\\\Audio\\\\Neutral\\\\05_08_Neutral.wav\n",
      "MoviePy - Done.\n"
     ]
    },
    {
     "name": "stderr",
     "output_type": "stream",
     "text": [
      "                                                                    "
     ]
    },
    {
     "name": "stdout",
     "output_type": "stream",
     "text": [
      "MoviePy - Writing audio in C:\\\\Users\\\\Aditya Kamath\\\\Downloads\\\\MP\\\\New Codes\\\\Final Dataset\\\\Audio\\\\Neutral\\\\05_09_Neutral.wav\n",
      "MoviePy - Done.\n"
     ]
    },
    {
     "name": "stderr",
     "output_type": "stream",
     "text": [
      "                                                                    "
     ]
    },
    {
     "name": "stdout",
     "output_type": "stream",
     "text": [
      "MoviePy - Writing audio in C:\\\\Users\\\\Aditya Kamath\\\\Downloads\\\\MP\\\\New Codes\\\\Final Dataset\\\\Audio\\\\Neutral\\\\05_10_Neutral.wav\n",
      "MoviePy - Done.\n"
     ]
    },
    {
     "name": "stderr",
     "output_type": "stream",
     "text": [
      "                                                                    "
     ]
    },
    {
     "name": "stdout",
     "output_type": "stream",
     "text": [
      "MoviePy - Writing audio in C:\\\\Users\\\\Aditya Kamath\\\\Downloads\\\\MP\\\\New Codes\\\\Final Dataset\\\\Audio\\\\Neutral\\\\05_11_Neutral.wav\n",
      "MoviePy - Done.\n"
     ]
    },
    {
     "name": "stderr",
     "output_type": "stream",
     "text": [
      "                                                                    "
     ]
    },
    {
     "name": "stdout",
     "output_type": "stream",
     "text": [
      "MoviePy - Writing audio in C:\\\\Users\\\\Aditya Kamath\\\\Downloads\\\\MP\\\\New Codes\\\\Final Dataset\\\\Audio\\\\Neutral\\\\05_12_Neutral.wav\n",
      "MoviePy - Done.\n"
     ]
    },
    {
     "name": "stderr",
     "output_type": "stream",
     "text": [
      "                                                                    "
     ]
    },
    {
     "name": "stdout",
     "output_type": "stream",
     "text": [
      "MoviePy - Writing audio in C:\\\\Users\\\\Aditya Kamath\\\\Downloads\\\\MP\\\\New Codes\\\\Final Dataset\\\\Audio\\\\Neutral\\\\05_13_Neutral.wav\n",
      "MoviePy - Done.\n"
     ]
    },
    {
     "name": "stderr",
     "output_type": "stream",
     "text": [
      "                                                                   "
     ]
    },
    {
     "name": "stdout",
     "output_type": "stream",
     "text": [
      "MoviePy - Writing audio in C:\\\\Users\\\\Aditya Kamath\\\\Downloads\\\\MP\\\\New Codes\\\\Final Dataset\\\\Audio\\\\Neutral\\\\05_14_Neutral.wav\n"
     ]
    },
    {
     "name": "stderr",
     "output_type": "stream",
     "text": [
      "\r"
     ]
    },
    {
     "name": "stdout",
     "output_type": "stream",
     "text": [
      "MoviePy - Done.\n"
     ]
    },
    {
     "name": "stderr",
     "output_type": "stream",
     "text": [
      "                                                                    "
     ]
    },
    {
     "name": "stdout",
     "output_type": "stream",
     "text": [
      "MoviePy - Writing audio in C:\\\\Users\\\\Aditya Kamath\\\\Downloads\\\\MP\\\\New Codes\\\\Final Dataset\\\\Audio\\\\Neutral\\\\05_15_Neutral.wav\n",
      "MoviePy - Done.\n"
     ]
    },
    {
     "name": "stderr",
     "output_type": "stream",
     "text": [
      "                                                                    "
     ]
    },
    {
     "name": "stdout",
     "output_type": "stream",
     "text": [
      "MoviePy - Writing audio in C:\\\\Users\\\\Aditya Kamath\\\\Downloads\\\\MP\\\\New Codes\\\\Final Dataset\\\\Audio\\\\Neutral\\\\05_16_Neutral.wav\n",
      "MoviePy - Done.\n"
     ]
    },
    {
     "name": "stderr",
     "output_type": "stream",
     "text": [
      "                                                                    "
     ]
    },
    {
     "name": "stdout",
     "output_type": "stream",
     "text": [
      "MoviePy - Writing audio in C:\\\\Users\\\\Aditya Kamath\\\\Downloads\\\\MP\\\\New Codes\\\\Final Dataset\\\\Audio\\\\Neutral\\\\05_17_Neutral.wav\n"
     ]
    },
    {
     "name": "stderr",
     "output_type": "stream",
     "text": [
      "\r"
     ]
    },
    {
     "name": "stdout",
     "output_type": "stream",
     "text": [
      "MoviePy - Done.\n"
     ]
    },
    {
     "name": "stderr",
     "output_type": "stream",
     "text": [
      "                                                                    "
     ]
    },
    {
     "name": "stdout",
     "output_type": "stream",
     "text": [
      "MoviePy - Writing audio in C:\\\\Users\\\\Aditya Kamath\\\\Downloads\\\\MP\\\\New Codes\\\\Final Dataset\\\\Audio\\\\Neutral\\\\05_18_Neutral.wav\n",
      "MoviePy - Done.\n"
     ]
    },
    {
     "name": "stderr",
     "output_type": "stream",
     "text": [
      "                                                                    "
     ]
    },
    {
     "name": "stdout",
     "output_type": "stream",
     "text": [
      "MoviePy - Writing audio in C:\\\\Users\\\\Aditya Kamath\\\\Downloads\\\\MP\\\\New Codes\\\\Final Dataset\\\\Audio\\\\Neutral\\\\05_19_Neutral.wav\n",
      "MoviePy - Done.\n"
     ]
    },
    {
     "name": "stderr",
     "output_type": "stream",
     "text": [
      "                                                                    "
     ]
    },
    {
     "name": "stdout",
     "output_type": "stream",
     "text": [
      "MoviePy - Writing audio in C:\\\\Users\\\\Aditya Kamath\\\\Downloads\\\\MP\\\\New Codes\\\\Final Dataset\\\\Audio\\\\Neutral\\\\05_20_Neutral.wav\n",
      "MoviePy - Done.\n"
     ]
    },
    {
     "name": "stderr",
     "output_type": "stream",
     "text": [
      "                                                                    "
     ]
    },
    {
     "name": "stdout",
     "output_type": "stream",
     "text": [
      "MoviePy - Writing audio in C:\\\\Users\\\\Aditya Kamath\\\\Downloads\\\\MP\\\\New Codes\\\\Final Dataset\\\\Audio\\\\Neutral\\\\05_21_Neutral.wav\n",
      "MoviePy - Done.\n"
     ]
    },
    {
     "name": "stderr",
     "output_type": "stream",
     "text": [
      "chunk:  72%|███████▏  | 450/626 [00:00<00:00, 2320.75it/s, now=None]"
     ]
    },
    {
     "name": "stdout",
     "output_type": "stream",
     "text": [
      "MoviePy - Writing audio in C:\\\\Users\\\\Aditya Kamath\\\\Downloads\\\\MP\\\\New Codes\\\\Final Dataset\\\\Audio\\\\Neutral\\\\05_22_Neutral.wav\n"
     ]
    },
    {
     "name": "stderr",
     "output_type": "stream",
     "text": [
      "                                                                    \r"
     ]
    },
    {
     "name": "stdout",
     "output_type": "stream",
     "text": [
      "MoviePy - Done.\n"
     ]
    },
    {
     "name": "stderr",
     "output_type": "stream",
     "text": [
      "                                                                    "
     ]
    },
    {
     "name": "stdout",
     "output_type": "stream",
     "text": [
      "MoviePy - Writing audio in C:\\\\Users\\\\Aditya Kamath\\\\Downloads\\\\MP\\\\New Codes\\\\Final Dataset\\\\Audio\\\\Neutral\\\\05_23_Neutral.wav\n",
      "MoviePy - Done.\n"
     ]
    },
    {
     "name": "stderr",
     "output_type": "stream",
     "text": [
      "                                                                    "
     ]
    },
    {
     "name": "stdout",
     "output_type": "stream",
     "text": [
      "MoviePy - Writing audio in C:\\\\Users\\\\Aditya Kamath\\\\Downloads\\\\MP\\\\New Codes\\\\Final Dataset\\\\Audio\\\\Neutral\\\\05_24_Neutral.wav\n",
      "MoviePy - Done.\n"
     ]
    },
    {
     "name": "stderr",
     "output_type": "stream",
     "text": [
      "                                                                    "
     ]
    },
    {
     "name": "stdout",
     "output_type": "stream",
     "text": [
      "MoviePy - Writing audio in C:\\\\Users\\\\Aditya Kamath\\\\Downloads\\\\MP\\\\New Codes\\\\Final Dataset\\\\Audio\\\\Neutral\\\\05_25_Neutral.wav\n",
      "MoviePy - Done.\n"
     ]
    },
    {
     "name": "stderr",
     "output_type": "stream",
     "text": [
      "                                                                    "
     ]
    },
    {
     "name": "stdout",
     "output_type": "stream",
     "text": [
      "MoviePy - Writing audio in C:\\\\Users\\\\Aditya Kamath\\\\Downloads\\\\MP\\\\New Codes\\\\Final Dataset\\\\Audio\\\\Neutral\\\\05_26_Neutral.wav\n",
      "MoviePy - Done.\n"
     ]
    },
    {
     "name": "stderr",
     "output_type": "stream",
     "text": [
      "\r"
     ]
    }
   ],
   "source": [
    "for i in range(len(arr)):\n",
    "    for j in range(len(x[i])):\n",
    "        video = mp.VideoFileClip(r\"C:\\\\Users\\\\Aditya Kamath\\\\Downloads\\\\MP\\\\New Codes\\\\Final Dataset\\\\Video\\\\\" + arr[i] + \"\\\\{}\".format((x[i][j])))\n",
    "        video.audio.write_audiofile(r\"C:\\\\Users\\\\Aditya Kamath\\\\Downloads\\\\MP\\\\New Codes\\\\Final Dataset\\\\Audio\\\\{}\\\\\".format(arr[i]) + x[i][j].split(\".\")[0] + \".wav\")"
   ]
  },
  {
   "cell_type": "markdown",
   "metadata": {},
   "source": [
    "# Change channel of audio from sterio to mono"
   ]
  },
  {
   "cell_type": "code",
   "execution_count": 8,
   "metadata": {},
   "outputs": [],
   "source": [
    "for i in range(len(arr)):\n",
    "    for j in range(len(x[i])):\n",
    "        sound = AudioSegment.from_wav(\"C:\\\\Users\\\\Aditya Kamath\\\\Downloads\\\\MP\\\\New Codes\\\\Final Dataset\\\\Audio\\\\{}\\\\\".format(arr[i]) + x[i][j].split(\".\")[0] + \".wav\")\n",
    "        sound = sound.set_channels(1)  ## This sets it to mono\n",
    "        sound.export(\"C:\\\\Users\\\\Aditya Kamath\\\\Downloads\\\\MP\\\\New Codes\\\\Final Dataset\\\\Audio\\\\{}\\\\\".format(arr[i]) + x[i][j].split(\".\")[0]+\".wav\", format=\"wav\")"
   ]
  },
  {
   "cell_type": "markdown",
   "metadata": {},
   "source": [
    "# Duration of All files"
   ]
  },
  {
   "cell_type": "code",
   "execution_count": 11,
   "metadata": {},
   "outputs": [],
   "source": [
    "storing_all_durations = []\n",
    "for i in range(len(arr)):\n",
    "    for j in range(len(x[i])):\n",
    "        fname = \"C:\\\\Users\\\\Aditya Kamath\\\\Downloads\\\\MP\\\\New Codes\\\\Final Dataset\\\\Audio\\\\{}\\\\\".format(arr[i]) + x[i][j].split(\".\")[0] + \".wav\"\n",
    "        with contextlib.closing(wave.open(fname,'r')) as f:\n",
    "            frames = f.getnframes()\n",
    "            rate = f.getframerate()\n",
    "            duration = frames / float(rate)\n",
    "            storing_all_durations.append(duration)"
   ]
  },
  {
   "cell_type": "code",
   "execution_count": 14,
   "metadata": {},
   "outputs": [
    {
     "name": "stdout",
     "output_type": "stream",
     "text": [
      "390\n",
      "42.54\n"
     ]
    }
   ],
   "source": [
    "print(len(storing_all_durations))\n",
    "print(max(storing_all_durations))"
   ]
  },
  {
   "cell_type": "markdown",
   "metadata": {},
   "source": [
    "# Padding of Audio File"
   ]
  },
  {
   "cell_type": "code",
   "execution_count": 20,
   "metadata": {},
   "outputs": [],
   "source": [
    "for i in range(len(arr)):\n",
    "    for j in range(len(x[i])):\n",
    "        file_path = \"C:\\\\Users\\\\Aditya Kamath\\\\Downloads\\\\MP\\\\New Codes\\\\Final Dataset\\\\Audio\\\\{}\\\\\".format(arr[i]) + x[i][j].split(\".\")[0] + \".wav\"\n",
    "        sf = 44100 # sampling frequency of wav file\n",
    "        required_audio_size = 45 # audio of size 2 second needs to be padded to 5 seconds\n",
    "        audio, sf = load(file_path, sr=sf, mono=True) # mono=True converts stereo audio to mono\n",
    "        padded_audio = fix_length(audio, size=required_audio_size*sf)\n",
    "        write(\"C:\\\\Users\\\\Aditya Kamath\\\\Downloads\\\\MP\\\\New Codes\\\\Final Dataset\\\\Padded Audio\\\\{}\\\\\".format(arr[i]) + x[i][j].split(\".\")[0]+\".wav\", sf, padded_audio.astype(np.float32))\n"
   ]
  },
  {
   "cell_type": "markdown",
   "metadata": {},
   "source": [
    "# MLP Classification"
   ]
  },
  {
   "cell_type": "markdown",
   "metadata": {},
   "source": [
    "Feature Labelling"
   ]
  },
  {
   "cell_type": "code",
   "execution_count": 100,
   "metadata": {},
   "outputs": [],
   "source": [
    "emotions={\n",
    "  'Confident':'Confident',\n",
    "  'Neutral':'Neutral',\n",
    "  'Nervous':'Non Confident',\n",
    "}\n",
    "observed_emotions=['Confident', 'Neutral', 'Non Confident']\n",
    "data_features = []"
   ]
  },
  {
   "cell_type": "markdown",
   "metadata": {},
   "source": [
    "Generalized Model"
   ]
  },
  {
   "cell_type": "code",
   "execution_count": 101,
   "metadata": {},
   "outputs": [
    {
     "name": "stdout",
     "output_type": "stream",
     "text": [
      "Shape of training and testing data:  (292, 98)\n",
      "Features extracted: 180\n",
      "Accuracy: 54.08%\n",
      "Time Taken: 00:02:38\n"
     ]
    }
   ],
   "source": [
    "#- - Extract features (mfcc, chroma, mel) from a sound file\n",
    "start_time = time.time()\n",
    "def extract_feature(file_name, mfcc, chroma, mel):\n",
    "    with soundfile.SoundFile(file_name) as sound_file:\n",
    "        X = sound_file.read(dtype=\"float32\")\n",
    "        sample_rate=sound_file.samplerate\n",
    "        if chroma:\n",
    "            stft=np.abs(librosa.stft(X))\n",
    "        result=np.array([])\n",
    "        if mfcc:\n",
    "            mfccs=np.mean(librosa.feature.mfcc(y=X, sr=sample_rate, n_mfcc=40).T, axis=0)\n",
    "            result=np.hstack((result, mfccs))\n",
    "        if chroma:\n",
    "            chroma=np.mean(librosa.feature.chroma_stft(S=stft, sr=sample_rate).T,axis=0)\n",
    "            result=np.hstack((result, chroma))\n",
    "        if mel:\n",
    "            mel=np.mean(librosa.feature.melspectrogram(X, sr=sample_rate).T,axis=0)\n",
    "            result=np.hstack((result, mel))\n",
    "    return result\n",
    "\n",
    "def load_data(test_size=0.2):\n",
    "    x,y=[],[]\n",
    "    for file in glob.glob(\"Final Dataset\\\\Padded Audio\\\\*\\\\*.wav\"):\n",
    "        file_name=os.path.basename(file)\n",
    "        x1 = file_name\n",
    "        x1 = x1.split(\"_\")\n",
    "        x1 = x1[2].split(\".wav\")\n",
    "        emotion=emotions[x1[0]]\n",
    "        if emotion not in observed_emotions:\n",
    "            continue\n",
    "        feature=extract_feature(file, mfcc=True, chroma=True, mel=True)\n",
    "        x.append(feature)\n",
    "        y.append(emotion)\n",
    "    return train_test_split(np.array(x), y, test_size=test_size, random_state=9)\n",
    "    \n",
    "x_train,x_test,y_train,y_test=load_data(test_size=0.25)\n",
    "print(\"Shape of training and testing data: \",(x_train.shape[0], x_test.shape[0]))\n",
    "print(f'Features extracted: {x_train.shape[1]}')\n",
    "model=MLPClassifier(alpha=0.01, batch_size=180, epsilon=1e-08, hidden_layer_sizes=(300,), learning_rate='adaptive', max_iter=500)\n",
    "model.fit(x_train,y_train)\n",
    "y_pred=model.predict(x_test)\n",
    "accuracy=accuracy_score(y_true=y_test, y_pred=y_pred)\n",
    "print(\"Accuracy: {:.2f}%\".format(accuracy*100))\n",
    "seconds = time.time() - start_time\n",
    "time_counter=time.strftime(\"%H:%M:%S\",time.gmtime(seconds))\n",
    "print('Time Taken:', time_counter)\n",
    "\n",
    "data_features.append([(x_train.shape[0], x_test.shape[0]),x_train.shape[1],accuracy*100,time_counter])"
   ]
  },
  {
   "cell_type": "markdown",
   "metadata": {},
   "source": [
    "MFCC"
   ]
  },
  {
   "cell_type": "code",
   "execution_count": 102,
   "metadata": {},
   "outputs": [
    {
     "name": "stdout",
     "output_type": "stream",
     "text": [
      "Shape of training and testing data:  (292, 98)\n",
      "Features extracted: 40\n",
      "Accuracy: 46.94%\n",
      "Time Taken: 00:00:40\n"
     ]
    }
   ],
   "source": [
    "#- - Extract features (mfcc, chroma, mel) from a sound file\n",
    "start_time = time.time()\n",
    "def extract_feature(file_name, mfcc, chroma, mel):\n",
    "    with soundfile.SoundFile(file_name) as sound_file:\n",
    "        X = sound_file.read(dtype=\"float32\")\n",
    "        sample_rate=sound_file.samplerate\n",
    "        if chroma:\n",
    "            stft=np.abs(librosa.stft(X))\n",
    "        result=np.array([])\n",
    "        if mfcc:\n",
    "            mfccs=np.mean(librosa.feature.mfcc(y=X, sr=sample_rate, n_mfcc=40).T, axis=0)\n",
    "            result=np.hstack((result, mfccs))\n",
    "        if chroma:\n",
    "            chroma=np.mean(librosa.feature.chroma_stft(S=stft, sr=sample_rate).T,axis=0)\n",
    "            result=np.hstack((result, chroma))\n",
    "        if mel:\n",
    "            mel=np.mean(librosa.feature.melspectrogram(X, sr=sample_rate).T,axis=0)\n",
    "            result=np.hstack((result, mel))\n",
    "    return result\n",
    "\n",
    "def load_data(test_size=0.2):\n",
    "    x,y=[],[]\n",
    "    for file in glob.glob(\"Final Dataset\\\\Padded Audio\\\\*\\\\*.wav\"):\n",
    "        file_name=os.path.basename(file)\n",
    "        x1 = file_name\n",
    "        x1 = x1.split(\"_\")\n",
    "        x1 = x1[2].split(\".wav\")\n",
    "        emotion=emotions[x1[0]]\n",
    "        if emotion not in observed_emotions:\n",
    "            continue\n",
    "        feature=extract_feature(file, mfcc=True, chroma=False, mel=False)\n",
    "        x.append(feature)\n",
    "        y.append(emotion)\n",
    "    return train_test_split(np.array(x), y, test_size=test_size, random_state=9)\n",
    "    \n",
    "x_train,x_test,y_train,y_test=load_data(test_size=0.25)\n",
    "print(\"Shape of training and testing data: \",(x_train.shape[0], x_test.shape[0]))\n",
    "print(f'Features extracted: {x_train.shape[1]}')\n",
    "model=MLPClassifier(alpha=0.01, batch_size=180, epsilon=1e-08, hidden_layer_sizes=(300,), learning_rate='adaptive', max_iter=500)\n",
    "model.fit(x_train,y_train)\n",
    "y_pred=model.predict(x_test)\n",
    "accuracy=accuracy_score(y_true=y_test, y_pred=y_pred)\n",
    "print(\"Accuracy: {:.2f}%\".format(accuracy*100))\n",
    "seconds = time.time() - start_time\n",
    "time_counter=time.strftime(\"%H:%M:%S\",time.gmtime(seconds))\n",
    "print('Time Taken:', time_counter)\n",
    "data_features.append([(x_train.shape[0], x_test.shape[0]),x_train.shape[1],accuracy*100,time_counter])"
   ]
  },
  {
   "cell_type": "markdown",
   "metadata": {},
   "source": [
    "chroma"
   ]
  },
  {
   "cell_type": "code",
   "execution_count": 103,
   "metadata": {},
   "outputs": [
    {
     "name": "stdout",
     "output_type": "stream",
     "text": [
      "Shape of training and testing data:  (292, 98)\n",
      "Features extracted: 12\n",
      "Accuracy: 52.04%\n",
      "Time Taken: 00:01:19\n"
     ]
    }
   ],
   "source": [
    "#- - Extract features (mfcc, chroma, mel) from a sound file\n",
    "start_time = time.time()\n",
    "def extract_feature(file_name, mfcc, chroma, mel):\n",
    "    with soundfile.SoundFile(file_name) as sound_file:\n",
    "        X = sound_file.read(dtype=\"float32\")\n",
    "        sample_rate=sound_file.samplerate\n",
    "        if chroma:\n",
    "            stft=np.abs(librosa.stft(X))\n",
    "        result=np.array([])\n",
    "        if mfcc:\n",
    "            mfccs=np.mean(librosa.feature.mfcc(y=X, sr=sample_rate, n_mfcc=40).T, axis=0)\n",
    "            result=np.hstack((result, mfccs))\n",
    "        if chroma:\n",
    "            chroma=np.mean(librosa.feature.chroma_stft(S=stft, sr=sample_rate).T,axis=0)\n",
    "            result=np.hstack((result, chroma))\n",
    "        if mel:\n",
    "            mel=np.mean(librosa.feature.melspectrogram(X, sr=sample_rate).T,axis=0)\n",
    "            result=np.hstack((result, mel))\n",
    "    return result\n",
    "\n",
    "def load_data(test_size=0.2):\n",
    "    x,y=[],[]\n",
    "    for file in glob.glob(\"Final Dataset\\\\Padded Audio\\\\*\\\\*.wav\"):\n",
    "        file_name=os.path.basename(file)\n",
    "        x1 = file_name\n",
    "        x1 = x1.split(\"_\")\n",
    "        x1 = x1[2].split(\".wav\")\n",
    "        emotion=emotions[x1[0]]\n",
    "        if emotion not in observed_emotions:\n",
    "            continue\n",
    "        feature=extract_feature(file, mfcc=False, chroma=True, mel=False)\n",
    "        x.append(feature)\n",
    "        y.append(emotion)\n",
    "    return train_test_split(np.array(x), y, test_size=test_size, random_state=9)\n",
    "    \n",
    "x_train,x_test,y_train,y_test=load_data(test_size=0.25)\n",
    "print(\"Shape of training and testing data: \",(x_train.shape[0], x_test.shape[0]))\n",
    "print(f'Features extracted: {x_train.shape[1]}')\n",
    "model=MLPClassifier(alpha=0.01, batch_size=180, epsilon=1e-08, hidden_layer_sizes=(300,), learning_rate='adaptive', max_iter=500)\n",
    "model.fit(x_train,y_train)\n",
    "y_pred=model.predict(x_test)\n",
    "accuracy=accuracy_score(y_true=y_test, y_pred=y_pred)\n",
    "print(\"Accuracy: {:.2f}%\".format(accuracy*100))\n",
    "seconds = time.time() - start_time\n",
    "time_counter=time.strftime(\"%H:%M:%S\",time.gmtime(seconds))\n",
    "print('Time Taken:', time_counter)\n",
    "\n",
    "data_features.append([(x_train.shape[0], x_test.shape[0]),x_train.shape[1],accuracy*100,time_counter])"
   ]
  },
  {
   "cell_type": "markdown",
   "metadata": {},
   "source": [
    "Mel"
   ]
  },
  {
   "cell_type": "code",
   "execution_count": 104,
   "metadata": {},
   "outputs": [
    {
     "name": "stdout",
     "output_type": "stream",
     "text": [
      "Shape of training and testing data:  (292, 98)\n",
      "Features extracted: 128\n",
      "Accuracy: 44.90%\n",
      "Time Taken: 00:00:34\n"
     ]
    }
   ],
   "source": [
    "#- - Extract features (mfcc, chroma, mel) from a sound file\n",
    "start_time = time.time()\n",
    "def extract_feature(file_name, mfcc, chroma, mel):\n",
    "    with soundfile.SoundFile(file_name) as sound_file:\n",
    "        X = sound_file.read(dtype=\"float32\")\n",
    "        sample_rate=sound_file.samplerate\n",
    "        if chroma:\n",
    "            stft=np.abs(librosa.stft(X))\n",
    "        result=np.array([])\n",
    "        if mfcc:\n",
    "            mfccs=np.mean(librosa.feature.mfcc(y=X, sr=sample_rate, n_mfcc=40).T, axis=0)\n",
    "            result=np.hstack((result, mfccs))\n",
    "        if chroma:\n",
    "            chroma=np.mean(librosa.feature.chroma_stft(S=stft, sr=sample_rate).T,axis=0)\n",
    "            result=np.hstack((result, chroma))\n",
    "        if mel:\n",
    "            mel=np.mean(librosa.feature.melspectrogram(X, sr=sample_rate).T,axis=0)\n",
    "            result=np.hstack((result, mel))\n",
    "    return result\n",
    "\n",
    "def load_data(test_size=0.2):\n",
    "    x,y=[],[]\n",
    "    for file in glob.glob(\"Final Dataset\\\\Padded Audio\\\\*\\\\*.wav\"):\n",
    "        file_name=os.path.basename(file)\n",
    "        x1 = file_name\n",
    "        x1 = x1.split(\"_\")\n",
    "        x1 = x1[2].split(\".wav\")\n",
    "        emotion=emotions[x1[0]]\n",
    "        if emotion not in observed_emotions:\n",
    "            continue\n",
    "        feature=extract_feature(file, mfcc=False, chroma=False, mel=True)\n",
    "        x.append(feature)\n",
    "        y.append(emotion)\n",
    "    return train_test_split(np.array(x), y, test_size=test_size, random_state=9)\n",
    "    \n",
    "x_train,x_test,y_train,y_test=load_data(test_size=0.25)\n",
    "print(\"Shape of training and testing data: \",(x_train.shape[0], x_test.shape[0]))\n",
    "print(f'Features extracted: {x_train.shape[1]}')\n",
    "model=MLPClassifier(alpha=0.01, batch_size=180, epsilon=1e-08, hidden_layer_sizes=(300,), learning_rate='adaptive', max_iter=500)\n",
    "model.fit(x_train,y_train)\n",
    "y_pred=model.predict(x_test)\n",
    "accuracy=accuracy_score(y_true=y_test, y_pred=y_pred)\n",
    "print(\"Accuracy: {:.2f}%\".format(accuracy*100))\n",
    "seconds = time.time() - start_time\n",
    "time_counter=time.strftime(\"%H:%M:%S\",time.gmtime(seconds))\n",
    "print('Time Taken:', time_counter)\n",
    "\n",
    "data_features.append([(x_train.shape[0], x_test.shape[0]),x_train.shape[1],accuracy*100,time_counter])"
   ]
  },
  {
   "cell_type": "code",
   "execution_count": 105,
   "metadata": {},
   "outputs": [
    {
     "data": {
      "text/html": [
       "<div>\n",
       "<style scoped>\n",
       "    .dataframe tbody tr th:only-of-type {\n",
       "        vertical-align: middle;\n",
       "    }\n",
       "\n",
       "    .dataframe tbody tr th {\n",
       "        vertical-align: top;\n",
       "    }\n",
       "\n",
       "    .dataframe thead th {\n",
       "        text-align: right;\n",
       "    }\n",
       "</style>\n",
       "<table border=\"1\" class=\"dataframe\">\n",
       "  <thead>\n",
       "    <tr style=\"text-align: right;\">\n",
       "      <th></th>\n",
       "      <th>Features Extracted</th>\n",
       "      <th>Accuracy</th>\n",
       "      <th>Time taken</th>\n",
       "    </tr>\n",
       "  </thead>\n",
       "  <tbody>\n",
       "    <tr>\n",
       "      <th>All features</th>\n",
       "      <td>180</td>\n",
       "      <td>54.08%</td>\n",
       "      <td>00:02:38sec</td>\n",
       "    </tr>\n",
       "    <tr>\n",
       "      <th>mfcc</th>\n",
       "      <td>40</td>\n",
       "      <td>46.94%</td>\n",
       "      <td>00:00:40sec</td>\n",
       "    </tr>\n",
       "    <tr>\n",
       "      <th>chroma</th>\n",
       "      <td>12</td>\n",
       "      <td>52.04%</td>\n",
       "      <td>00:01:19sec</td>\n",
       "    </tr>\n",
       "    <tr>\n",
       "      <th>mel</th>\n",
       "      <td>128</td>\n",
       "      <td>44.9%</td>\n",
       "      <td>00:00:34sec</td>\n",
       "    </tr>\n",
       "  </tbody>\n",
       "</table>\n",
       "</div>"
      ],
      "text/plain": [
       "              Features Extracted Accuracy   Time taken\n",
       "All features                 180   54.08%  00:02:38sec\n",
       "mfcc                          40   46.94%  00:00:40sec\n",
       "chroma                        12   52.04%  00:01:19sec\n",
       "mel                          128    44.9%  00:00:34sec"
      ]
     },
     "execution_count": 105,
     "metadata": {},
     "output_type": "execute_result"
    }
   ],
   "source": [
    "import pandas as pd\n",
    "data = {\n",
    "        'Features Extracted':[data_features[i][1] for i in range(len(data_features))],\n",
    "        'Accuracy':[str(round(data_features[i][2],2))+'%' for i in range(len(data_features))],\n",
    "        'Time taken':[str(data_features[i][3])+'sec' for i in range(len(data_features))]}\n",
    "\n",
    "df = pd.DataFrame(data, index =['All features','mfcc','chroma','mel'])\n",
    "df"
   ]
  },
  {
   "cell_type": "markdown",
   "metadata": {},
   "source": [
    "# MFCC + MEL"
   ]
  },
  {
   "cell_type": "code",
   "execution_count": 106,
   "metadata": {},
   "outputs": [
    {
     "name": "stdout",
     "output_type": "stream",
     "text": [
      "Shape of training and testing data:  (292, 98)\n",
      "Features extracted: 168\n",
      "Accuracy: 56.12%\n",
      "Time Taken: 00:01:10\n"
     ]
    }
   ],
   "source": [
    "#- - Extract features (mfcc, chroma, mel) from a sound file\n",
    "start_time = time.time()\n",
    "def extract_feature(file_name, mfcc, chroma, mel):\n",
    "    with soundfile.SoundFile(file_name) as sound_file:\n",
    "        X = sound_file.read(dtype=\"float32\")\n",
    "        sample_rate=sound_file.samplerate\n",
    "        if chroma:\n",
    "            stft=np.abs(librosa.stft(X))\n",
    "        result=np.array([])\n",
    "        if mfcc:\n",
    "            mfccs=np.mean(librosa.feature.mfcc(y=X, sr=sample_rate, n_mfcc=40).T, axis=0)\n",
    "            result=np.hstack((result, mfccs))\n",
    "        if chroma:\n",
    "            chroma=np.mean(librosa.feature.chroma_stft(S=stft, sr=sample_rate).T,axis=0)\n",
    "            result=np.hstack((result, chroma))\n",
    "        if mel:\n",
    "            mel=np.mean(librosa.feature.melspectrogram(X, sr=sample_rate).T,axis=0)\n",
    "            result=np.hstack((result, mel))\n",
    "    return result\n",
    "\n",
    "def load_data(test_size=0.2):\n",
    "    x,y=[],[]\n",
    "    for file in glob.glob(\"Final Dataset\\\\Padded Audio\\\\*\\\\*.wav\"):\n",
    "        file_name=os.path.basename(file)\n",
    "        x1 = file_name\n",
    "        x1 = x1.split(\"_\")\n",
    "        x1 = x1[2].split(\".wav\")\n",
    "        emotion=emotions[x1[0]]\n",
    "        if emotion not in observed_emotions:\n",
    "            continue\n",
    "        feature=extract_feature(file, mfcc=True, chroma=False, mel=True)\n",
    "        x.append(feature)\n",
    "        y.append(emotion)\n",
    "    return train_test_split(np.array(x), y, test_size=test_size, random_state=9)\n",
    "    \n",
    "x_train,x_test,y_train,y_test=load_data(test_size=0.25)\n",
    "print(\"Shape of training and testing data: \",(x_train.shape[0], x_test.shape[0]))\n",
    "print(f'Features extracted: {x_train.shape[1]}')\n",
    "model=MLPClassifier(alpha=0.01, batch_size=180, epsilon=1e-08, hidden_layer_sizes=(300,), learning_rate='adaptive', max_iter=500)\n",
    "model.fit(x_train,y_train)\n",
    "y_pred=model.predict(x_test)\n",
    "accuracy=accuracy_score(y_true=y_test, y_pred=y_pred)\n",
    "print(\"Accuracy: {:.2f}%\".format(accuracy*100))\n",
    "seconds = time.time() - start_time\n",
    "time_counter=time.strftime(\"%H:%M:%S\",time.gmtime(seconds))\n",
    "print('Time Taken:', time_counter)\n",
    "\n",
    "data_features.append([(x_train.shape[0], x_test.shape[0]),x_train.shape[1],accuracy*100,time_counter])"
   ]
  },
  {
   "cell_type": "code",
   "execution_count": 107,
   "metadata": {},
   "outputs": [
    {
     "data": {
      "text/html": [
       "<div>\n",
       "<style scoped>\n",
       "    .dataframe tbody tr th:only-of-type {\n",
       "        vertical-align: middle;\n",
       "    }\n",
       "\n",
       "    .dataframe tbody tr th {\n",
       "        vertical-align: top;\n",
       "    }\n",
       "\n",
       "    .dataframe thead th {\n",
       "        text-align: right;\n",
       "    }\n",
       "</style>\n",
       "<table border=\"1\" class=\"dataframe\">\n",
       "  <thead>\n",
       "    <tr style=\"text-align: right;\">\n",
       "      <th></th>\n",
       "      <th>Features Extracted</th>\n",
       "      <th>Accuracy</th>\n",
       "      <th>Time taken</th>\n",
       "    </tr>\n",
       "  </thead>\n",
       "  <tbody>\n",
       "    <tr>\n",
       "      <th>All features</th>\n",
       "      <td>180</td>\n",
       "      <td>54.08%</td>\n",
       "      <td>00:02:38sec</td>\n",
       "    </tr>\n",
       "    <tr>\n",
       "      <th>mfcc</th>\n",
       "      <td>40</td>\n",
       "      <td>46.94%</td>\n",
       "      <td>00:00:40sec</td>\n",
       "    </tr>\n",
       "    <tr>\n",
       "      <th>chroma</th>\n",
       "      <td>12</td>\n",
       "      <td>52.04%</td>\n",
       "      <td>00:01:19sec</td>\n",
       "    </tr>\n",
       "    <tr>\n",
       "      <th>mel</th>\n",
       "      <td>128</td>\n",
       "      <td>44.9%</td>\n",
       "      <td>00:00:34sec</td>\n",
       "    </tr>\n",
       "    <tr>\n",
       "      <th>mfcc+mel combined</th>\n",
       "      <td>168</td>\n",
       "      <td>56.12%</td>\n",
       "      <td>00:01:10sec</td>\n",
       "    </tr>\n",
       "  </tbody>\n",
       "</table>\n",
       "</div>"
      ],
      "text/plain": [
       "                   Features Extracted Accuracy   Time taken\n",
       "All features                      180   54.08%  00:02:38sec\n",
       "mfcc                               40   46.94%  00:00:40sec\n",
       "chroma                             12   52.04%  00:01:19sec\n",
       "mel                               128    44.9%  00:00:34sec\n",
       "mfcc+mel combined                 168   56.12%  00:01:10sec"
      ]
     },
     "execution_count": 107,
     "metadata": {},
     "output_type": "execute_result"
    }
   ],
   "source": [
    "data = {\n",
    "        'Features Extracted':[data_features[i][1] for i in range(len(data_features))],\n",
    "        'Accuracy':[str(round(data_features[i][2],2))+'%' for i in range(len(data_features))],\n",
    "        'Time taken':[str(data_features[i][3])+'sec' for i in range(len(data_features))]}\n",
    "\n",
    "df = pd.DataFrame(data, index =['All features','mfcc','chroma','mel',\"mfcc+mel combined\"])\n",
    "df"
   ]
  },
  {
   "cell_type": "markdown",
   "metadata": {},
   "source": [
    "Here, we can see mfcc and mel combined gives vest accuracy"
   ]
  },
  {
   "cell_type": "markdown",
   "metadata": {},
   "source": [
    "# Optimization of MLP Classifier (using Mel and Mfcc features)"
   ]
  },
  {
   "cell_type": "markdown",
   "metadata": {},
   "source": [
    "Batch Size"
   ]
  },
  {
   "cell_type": "code",
   "execution_count": 109,
   "metadata": {},
   "outputs": [
    {
     "data": {
      "text/html": [
       "<div>\n",
       "<style scoped>\n",
       "    .dataframe tbody tr th:only-of-type {\n",
       "        vertical-align: middle;\n",
       "    }\n",
       "\n",
       "    .dataframe tbody tr th {\n",
       "        vertical-align: top;\n",
       "    }\n",
       "\n",
       "    .dataframe thead th {\n",
       "        text-align: right;\n",
       "    }\n",
       "</style>\n",
       "<table border=\"1\" class=\"dataframe\">\n",
       "  <thead>\n",
       "    <tr style=\"text-align: right;\">\n",
       "      <th></th>\n",
       "      <th>Batch size</th>\n",
       "      <th>Accuracy:</th>\n",
       "    </tr>\n",
       "  </thead>\n",
       "  <tbody>\n",
       "    <tr>\n",
       "      <th>0</th>\n",
       "      <td>195</td>\n",
       "      <td>63.27%</td>\n",
       "    </tr>\n",
       "    <tr>\n",
       "      <th>1</th>\n",
       "      <td>63</td>\n",
       "      <td>62.24%</td>\n",
       "    </tr>\n",
       "    <tr>\n",
       "      <th>2</th>\n",
       "      <td>151</td>\n",
       "      <td>62.24%</td>\n",
       "    </tr>\n",
       "    <tr>\n",
       "      <th>3</th>\n",
       "      <td>108</td>\n",
       "      <td>61.22%</td>\n",
       "    </tr>\n",
       "    <tr>\n",
       "      <th>4</th>\n",
       "      <td>147</td>\n",
       "      <td>61.22%</td>\n",
       "    </tr>\n",
       "  </tbody>\n",
       "</table>\n",
       "</div>"
      ],
      "text/plain": [
       "   Batch size Accuracy: \n",
       "0         195     63.27%\n",
       "1          63     62.24%\n",
       "2         151     62.24%\n",
       "3         108     61.22%\n",
       "4         147     61.22%"
      ]
     },
     "execution_count": 109,
     "metadata": {},
     "output_type": "execute_result"
    }
   ],
   "source": [
    "btach_size_count = [x+10 for x in range(x_train.shape[0]-9)]\n",
    "accuracy_count = []\n",
    "for i in range(len(btach_size_count)):\n",
    "    model=MLPClassifier(alpha=0.001, batch_size=btach_size_count[i], epsilon=1e-08, hidden_layer_sizes=(300,), learning_rate='adaptive', max_iter=500)\n",
    "    model.fit(x_train,y_train)\n",
    "    y_pred=model.predict(x_test)\n",
    "    accuracy=accuracy_score(y_true=y_test, y_pred=y_pred)\n",
    "    accuracy_count.append(accuracy)\n",
    "\n",
    "accuracy = accuracy_count\n",
    "res = {}\n",
    "for key in btach_size_count:\n",
    "    for value in accuracy:\n",
    "        res[key] = value\n",
    "        accuracy.remove(value)\n",
    "        break  \n",
    "\n",
    "from collections import Counter\n",
    "new_res = dict(Counter(res).most_common(5))\n",
    "new_res\n",
    "\n",
    "def getList(dict):\n",
    "    batch_size = []\n",
    "    accuracy = []\n",
    "    for key in dict.keys():\n",
    "        batch_size.append(key)\n",
    "    for values in dict.values():\n",
    "        accuracy.append(values)             \n",
    "    return [batch_size,accuracy]\n",
    "\n",
    "batch_size_optimization = getList(new_res)\n",
    "\n",
    "batch_size_data = {'Batch size':[batch_size_optimization[0][i] for i in range(5)],\n",
    "                    'Accuracy: ':[str(round(batch_size_optimization[1][i]*100,2))+\"%\" for i in range(5)]}\n",
    "df1 = pd.DataFrame(batch_size_data)\n",
    "df1"
   ]
  },
  {
   "cell_type": "markdown",
   "metadata": {},
   "source": [
    "Alpha Value"
   ]
  },
  {
   "cell_type": "code",
   "execution_count": null,
   "metadata": {},
   "outputs": [],
   "source": [
    "import matplotlib.pyplot as plt\n",
    "# Example of a confusion matrix in Python\n",
    "from sklearn.metrics import confusion_matrix\n",
    "from sklearn.metrics import classification_report"
   ]
  },
  {
   "cell_type": "code",
   "execution_count": 113,
   "metadata": {},
   "outputs": [
    {
     "data": {
      "image/png": "[encoded data removed]",
      "text/plain": [
       "<Figure size 432x288 with 2 Axes>"
      ]
     },
     "metadata": {
      "needs_background": "light"
     },
     "output_type": "display_data"
    },
    {
     "name": "stdout",
     "output_type": "stream",
     "text": [
      "Classification Report:\n",
      "               precision    recall  f1-score   support\n",
      "\n",
      "    Confident       0.52      0.43      0.47        35\n",
      "      Neutral       0.49      0.59      0.53        34\n",
      "Non Confident       0.71      0.69      0.70        29\n",
      "\n",
      "     accuracy                           0.56        98\n",
      "    macro avg       0.57      0.57      0.57        98\n",
      " weighted avg       0.57      0.56      0.56        98\n",
      "\n"
     ]
    },
    {
     "data": {
      "image/png": "[encoded data removed]",
      "text/plain": [
       "<Figure size 432x288 with 2 Axes>"
      ]
     },
     "metadata": {
      "needs_background": "light"
     },
     "output_type": "display_data"
    },
    {
     "name": "stdout",
     "output_type": "stream",
     "text": [
      "Classification Report:\n",
      "               precision    recall  f1-score   support\n",
      "\n",
      "    Confident       0.43      0.66      0.52        35\n",
      "      Neutral       0.71      0.15      0.24        34\n",
      "Non Confident       0.62      0.79      0.70        29\n",
      "\n",
      "     accuracy                           0.52        98\n",
      "    macro avg       0.59      0.53      0.49        98\n",
      " weighted avg       0.58      0.52      0.48        98\n",
      "\n"
     ]
    },
    {
     "data": {
      "image/png": "[encoded data removed]",
      "text/plain": [
       "<Figure size 432x288 with 2 Axes>"
      ]
     },
     "metadata": {
      "needs_background": "light"
     },
     "output_type": "display_data"
    },
    {
     "name": "stdout",
     "output_type": "stream",
     "text": [
      "Classification Report:\n",
      "               precision    recall  f1-score   support\n",
      "\n",
      "    Confident       0.56      0.40      0.47        35\n",
      "      Neutral       0.52      0.65      0.58        34\n",
      "Non Confident       0.77      0.83      0.80        29\n",
      "\n",
      "     accuracy                           0.61        98\n",
      "    macro avg       0.62      0.62      0.62        98\n",
      " weighted avg       0.61      0.61      0.60        98\n",
      "\n"
     ]
    },
    {
     "data": {
      "image/png": "[encoded data removed]",
      "text/plain": [
       "<Figure size 432x288 with 2 Axes>"
      ]
     },
     "metadata": {
      "needs_background": "light"
     },
     "output_type": "display_data"
    },
    {
     "name": "stdout",
     "output_type": "stream",
     "text": [
      "Classification Report:\n",
      "               precision    recall  f1-score   support\n",
      "\n",
      "    Confident       0.60      0.34      0.44        35\n",
      "      Neutral       0.54      0.74      0.62        34\n",
      "Non Confident       0.75      0.83      0.79        29\n",
      "\n",
      "     accuracy                           0.62        98\n",
      "    macro avg       0.63      0.64      0.62        98\n",
      " weighted avg       0.62      0.62      0.61        98\n",
      "\n"
     ]
    },
    {
     "data": {
      "image/png": "[encoded data removed]",
      "text/plain": [
       "<Figure size 432x288 with 2 Axes>"
      ]
     },
     "metadata": {
      "needs_background": "light"
     },
     "output_type": "display_data"
    },
    {
     "name": "stdout",
     "output_type": "stream",
     "text": [
      "Classification Report:\n",
      "               precision    recall  f1-score   support\n",
      "\n",
      "    Confident       0.75      0.17      0.28        35\n",
      "      Neutral       0.55      0.79      0.65        34\n",
      "Non Confident       0.66      0.93      0.77        29\n",
      "\n",
      "     accuracy                           0.61        98\n",
      "    macro avg       0.65      0.63      0.57        98\n",
      " weighted avg       0.65      0.61      0.55        98\n",
      "\n"
     ]
    },
    {
     "data": {
      "text/html": [
       "<div>\n",
       "<style scoped>\n",
       "    .dataframe tbody tr th:only-of-type {\n",
       "        vertical-align: middle;\n",
       "    }\n",
       "\n",
       "    .dataframe tbody tr th {\n",
       "        vertical-align: top;\n",
       "    }\n",
       "\n",
       "    .dataframe thead th {\n",
       "        text-align: right;\n",
       "    }\n",
       "</style>\n",
       "<table border=\"1\" class=\"dataframe\">\n",
       "  <thead>\n",
       "    <tr style=\"text-align: right;\">\n",
       "      <th></th>\n",
       "      <th>Alpha Value</th>\n",
       "      <th>Accuracy:</th>\n",
       "    </tr>\n",
       "  </thead>\n",
       "  <tbody>\n",
       "    <tr>\n",
       "      <th>0</th>\n",
       "      <td>1.0000</td>\n",
       "      <td>56.12%</td>\n",
       "    </tr>\n",
       "    <tr>\n",
       "      <th>1</th>\n",
       "      <td>0.1000</td>\n",
       "      <td>52.04%</td>\n",
       "    </tr>\n",
       "    <tr>\n",
       "      <th>2</th>\n",
       "      <td>0.0100</td>\n",
       "      <td>61.22%</td>\n",
       "    </tr>\n",
       "    <tr>\n",
       "      <th>3</th>\n",
       "      <td>0.0010</td>\n",
       "      <td>62.24%</td>\n",
       "    </tr>\n",
       "    <tr>\n",
       "      <th>4</th>\n",
       "      <td>0.0001</td>\n",
       "      <td>61.22%</td>\n",
       "    </tr>\n",
       "  </tbody>\n",
       "</table>\n",
       "</div>"
      ],
      "text/plain": [
       "   Alpha Value Accuracy: \n",
       "0       1.0000     56.12%\n",
       "1       0.1000     52.04%\n",
       "2       0.0100     61.22%\n",
       "3       0.0010     62.24%\n",
       "4       0.0001     61.22%"
      ]
     },
     "execution_count": 113,
     "metadata": {},
     "output_type": "execute_result"
    }
   ],
   "source": [
    "alpha_count = [1,0.1,0.01,0.001,0.0001]\n",
    "accuracy_count = []\n",
    "for i in range(len(alpha_count)):\n",
    "    model=MLPClassifier(alpha=alpha_count[i], batch_size=195, epsilon=1e-08, hidden_layer_sizes=(300,), learning_rate='adaptive', max_iter=500)\n",
    "    model.fit(x_train,y_train)\n",
    "    y_pred=model.predict(x_test)\n",
    "    accuracy=accuracy_score(y_true=y_test, y_pred=y_pred)\n",
    "    accuracy_count.append(accuracy)\n",
    "    y_pred=model.predict(x_test)\n",
    "\n",
    "    results = confusion_matrix(y_test, y_pred)\n",
    "    import seaborn as sns\n",
    "    ax = sns.heatmap(results, annot=True, cmap='Blues')\n",
    "    ax.set_title('Confusion Matrix with alpha={}\\n\\n'.format(alpha_count[i]));\n",
    "    ax.set_xlabel('\\nPredicted Values')\n",
    "    ax.set_ylabel('Actual Values ');\n",
    "\n",
    "    ## Ticket labels - List must be in alphabetical order\n",
    "    ax.xaxis.set_ticklabels(['Confident', 'Nervous', 'Neutral'])\n",
    "    ax.yaxis.set_ticklabels(['Confident', 'Nervous', 'Neutral'])\n",
    "\n",
    "    ## Display the visualization of the Confusion Matrix.\n",
    "    plt.show()\n",
    "    print('Classification Report:')\n",
    "    print(classification_report(y_test, y_pred))\n",
    "\n",
    "accuracy = accuracy_count\n",
    "res = {}\n",
    "for key in alpha_count:\n",
    "    for value in accuracy:\n",
    "        res[key] = value \n",
    "        accuracy.remove(value)\n",
    "        break\n",
    "\n",
    "\n",
    "def getList(dict):\n",
    "    alpha_value = []\n",
    "    accuracy = []\n",
    "    for key in dict.keys():\n",
    "        alpha_value.append(key)\n",
    "    for values in dict.values():\n",
    "        accuracy.append(values)             \n",
    "    return [alpha_value,accuracy]\n",
    "\n",
    "alpha_value_optimization = getList(res)\n",
    "\n",
    "alpha_value_data = {'Alpha Value':[round(alpha_value_optimization[0][i],4) for i in range(5)],\n",
    "                    'Accuracy: ':[str(round(alpha_value_optimization[1][i]*100,2))+\"%\" for i in range(5)]}\n",
    "df1 = pd.DataFrame(alpha_value_data)\n",
    "df1\n"
   ]
  },
  {
   "cell_type": "code",
   "execution_count": 120,
   "metadata": {},
   "outputs": [
    {
     "data": {
      "image/png": "[encoded data removed]",
      "text/plain": [
       "<Figure size 432x288 with 2 Axes>"
      ]
     },
     "metadata": {
      "needs_background": "light"
     },
     "output_type": "display_data"
    },
    {
     "name": "stdout",
     "output_type": "stream",
     "text": [
      "Classification Report:\n",
      "               precision    recall  f1-score   support\n",
      "\n",
      "    Confident       0.53      0.46      0.49        35\n",
      "      Neutral       0.51      0.68      0.58        34\n",
      "Non Confident       0.78      0.62      0.69        29\n",
      "\n",
      "     accuracy                           0.58        98\n",
      "    macro avg       0.61      0.58      0.59        98\n",
      " weighted avg       0.60      0.58      0.58        98\n",
      "\n"
     ]
    },
    {
     "data": {
      "image/png": "[encoded data removed]",
      "text/plain": [
       "<Figure size 432x288 with 2 Axes>"
      ]
     },
     "metadata": {
      "needs_background": "light"
     },
     "output_type": "display_data"
    },
    {
     "name": "stdout",
     "output_type": "stream",
     "text": [
      "Classification Report:\n",
      "               precision    recall  f1-score   support\n",
      "\n",
      "    Confident       0.56      0.57      0.56        35\n",
      "      Neutral       0.75      0.35      0.48        34\n",
      "Non Confident       0.57      0.90      0.69        29\n",
      "\n",
      "     accuracy                           0.59        98\n",
      "    macro avg       0.62      0.61      0.58        98\n",
      " weighted avg       0.63      0.59      0.57        98\n",
      "\n"
     ]
    },
    {
     "data": {
      "image/png": "[encoded data removed]",
      "text/plain": [
       "<Figure size 432x288 with 2 Axes>"
      ]
     },
     "metadata": {
      "needs_background": "light"
     },
     "output_type": "display_data"
    },
    {
     "name": "stdout",
     "output_type": "stream",
     "text": [
      "Classification Report:\n",
      "               precision    recall  f1-score   support\n",
      "\n",
      "    Confident       0.47      0.20      0.28        35\n",
      "      Neutral       0.42      0.76      0.54        34\n",
      "Non Confident       0.86      0.62      0.72        29\n",
      "\n",
      "     accuracy                           0.52        98\n",
      "    macro avg       0.58      0.53      0.51        98\n",
      " weighted avg       0.57      0.52      0.50        98\n",
      "\n"
     ]
    },
    {
     "data": {
      "image/png": "[encoded data removed]",
      "text/plain": [
       "<Figure size 432x288 with 2 Axes>"
      ]
     },
     "metadata": {
      "needs_background": "light"
     },
     "output_type": "display_data"
    },
    {
     "name": "stdout",
     "output_type": "stream",
     "text": [
      "Classification Report:\n",
      "               precision    recall  f1-score   support\n",
      "\n",
      "    Confident       0.50      0.26      0.34        35\n",
      "      Neutral       0.55      0.65      0.59        34\n",
      "Non Confident       0.62      0.86      0.72        29\n",
      "\n",
      "     accuracy                           0.57        98\n",
      "    macro avg       0.56      0.59      0.55        98\n",
      " weighted avg       0.55      0.57      0.54        98\n",
      "\n"
     ]
    },
    {
     "data": {
      "image/png": "[encoded data removed]",
      "text/plain": [
       "<Figure size 432x288 with 2 Axes>"
      ]
     },
     "metadata": {
      "needs_background": "light"
     },
     "output_type": "display_data"
    },
    {
     "name": "stdout",
     "output_type": "stream",
     "text": [
      "Classification Report:\n",
      "               precision    recall  f1-score   support\n",
      "\n",
      "    Confident       1.00      0.06      0.11        35\n",
      "      Neutral       0.49      0.94      0.65        34\n",
      "Non Confident       0.77      0.83      0.80        29\n",
      "\n",
      "     accuracy                           0.59        98\n",
      "    macro avg       0.76      0.61      0.52        98\n",
      " weighted avg       0.76      0.59      0.50        98\n",
      "\n"
     ]
    },
    {
     "data": {
      "text/html": [
       "<div>\n",
       "<style scoped>\n",
       "    .dataframe tbody tr th:only-of-type {\n",
       "        vertical-align: middle;\n",
       "    }\n",
       "\n",
       "    .dataframe tbody tr th {\n",
       "        vertical-align: top;\n",
       "    }\n",
       "\n",
       "    .dataframe thead th {\n",
       "        text-align: right;\n",
       "    }\n",
       "</style>\n",
       "<table border=\"1\" class=\"dataframe\">\n",
       "  <thead>\n",
       "    <tr style=\"text-align: right;\">\n",
       "      <th></th>\n",
       "      <th>hidden layer Size</th>\n",
       "      <th>Accuracy:</th>\n",
       "    </tr>\n",
       "  </thead>\n",
       "  <tbody>\n",
       "    <tr>\n",
       "      <th>0</th>\n",
       "      <td>100</td>\n",
       "      <td>58.16%</td>\n",
       "    </tr>\n",
       "    <tr>\n",
       "      <th>1</th>\n",
       "      <td>200</td>\n",
       "      <td>59.18%</td>\n",
       "    </tr>\n",
       "    <tr>\n",
       "      <th>2</th>\n",
       "      <td>300</td>\n",
       "      <td>52.04%</td>\n",
       "    </tr>\n",
       "    <tr>\n",
       "      <th>3</th>\n",
       "      <td>400</td>\n",
       "      <td>57.14%</td>\n",
       "    </tr>\n",
       "    <tr>\n",
       "      <th>4</th>\n",
       "      <td>500</td>\n",
       "      <td>59.18%</td>\n",
       "    </tr>\n",
       "  </tbody>\n",
       "</table>\n",
       "</div>"
      ],
      "text/plain": [
       "   hidden layer Size Accuracy: \n",
       "0                100     58.16%\n",
       "1                200     59.18%\n",
       "2                300     52.04%\n",
       "3                400     57.14%\n",
       "4                500     59.18%"
      ]
     },
     "execution_count": 120,
     "metadata": {},
     "output_type": "execute_result"
    }
   ],
   "source": [
    "hidden_layer_count = [100,200,300,400,500]\n",
    "accuracy_count = []\n",
    "for i in range(len(hidden_layer_count)):\n",
    "    model=MLPClassifier(alpha=0.001, batch_size=195, epsilon=1e-08, hidden_layer_sizes=(hidden_layer_count[i],), learning_rate='adaptive', max_iter=500)\n",
    "    model.fit(x_train,y_train)\n",
    "    y_pred=model.predict(x_test)\n",
    "    accuracy=accuracy_score(y_true=y_test, y_pred=y_pred)\n",
    "    accuracy_count.append(accuracy)\n",
    "    results = confusion_matrix(y_test, y_pred)\n",
    "    import seaborn as sns\n",
    "    ax = sns.heatmap(results, annot=True, cmap='Blues')\n",
    "    ax.set_title('Confusion Matrix with hidden layers={}\\n\\n'.format(hidden_layer_count[i]));\n",
    "    ax.set_xlabel('\\nPredicted Values')\n",
    "    ax.set_ylabel('Actual Values ');\n",
    "\n",
    "    ## Ticket labels - List must be in alphabetical order\n",
    "    ax.xaxis.set_ticklabels(['Confident', 'Neutral', 'Nervous'])\n",
    "    ax.yaxis.set_ticklabels(['Confident', 'Neutral', 'Nervous'])\n",
    "\n",
    "    ## Display the visualization of the Confusion Matrix.\n",
    "    plt.show()\n",
    "    print('Classification Report:')\n",
    "    print(classification_report(y_test, y_pred))\n",
    "\n",
    "accuracy = accuracy_count\n",
    "res = {}\n",
    "for key in hidden_layer_count:\n",
    "    for value in accuracy:\n",
    "        res[key] = value \n",
    "        accuracy.remove(value)\n",
    "        break\n",
    "\n",
    "\n",
    "def getList(dict):\n",
    "    hidden_layer_value = []\n",
    "    accuracy = []\n",
    "    for key in dict.keys():\n",
    "        hidden_layer_value.append(key)\n",
    "    for values in dict.values():\n",
    "        accuracy.append(values)             \n",
    "    return [hidden_layer_value,accuracy]\n",
    "\n",
    "hidden_layer_optimization = getList(res)\n",
    "\n",
    "hidden_layer_data = {'hidden layer Size':[hidden_layer_optimization[0][i] for i in range(5)],\n",
    "                    'Accuracy: ':[str(round(hidden_layer_optimization[1][i]*100,2))+\"%\" for i in range(5)]}\n",
    "df2 = pd.DataFrame(hidden_layer_data)\n",
    "df2\n"
   ]
  },
  {
   "cell_type": "markdown",
   "metadata": {},
   "source": [
    "Learning rate:"
   ]
  },
  {
   "cell_type": "code",
   "execution_count": 125,
   "metadata": {},
   "outputs": [
    {
     "data": {
      "text/html": [
       "<div>\n",
       "<style scoped>\n",
       "    .dataframe tbody tr th:only-of-type {\n",
       "        vertical-align: middle;\n",
       "    }\n",
       "\n",
       "    .dataframe tbody tr th {\n",
       "        vertical-align: top;\n",
       "    }\n",
       "\n",
       "    .dataframe thead th {\n",
       "        text-align: right;\n",
       "    }\n",
       "</style>\n",
       "<table border=\"1\" class=\"dataframe\">\n",
       "  <thead>\n",
       "    <tr style=\"text-align: right;\">\n",
       "      <th></th>\n",
       "      <th>Learning Rate</th>\n",
       "      <th>Accuracy:</th>\n",
       "    </tr>\n",
       "  </thead>\n",
       "  <tbody>\n",
       "    <tr>\n",
       "      <th>0</th>\n",
       "      <td>constant</td>\n",
       "      <td>42.86%</td>\n",
       "    </tr>\n",
       "    <tr>\n",
       "      <th>1</th>\n",
       "      <td>invscaling</td>\n",
       "      <td>46.94%</td>\n",
       "    </tr>\n",
       "    <tr>\n",
       "      <th>2</th>\n",
       "      <td>adaptive</td>\n",
       "      <td>59.18%</td>\n",
       "    </tr>\n",
       "  </tbody>\n",
       "</table>\n",
       "</div>"
      ],
      "text/plain": [
       "  Learning Rate Accuracy: \n",
       "0      constant     42.86%\n",
       "1    invscaling     46.94%\n",
       "2      adaptive     59.18%"
      ]
     },
     "execution_count": 125,
     "metadata": {},
     "output_type": "execute_result"
    }
   ],
   "source": [
    "\n",
    "learning_rate_count = ['constant', \"invscaling\", \"adaptive\"]\n",
    "accuracy_count = []\n",
    "for i in range(len(learning_rate_count)):\n",
    "    model=MLPClassifier(alpha=0.001, batch_size=41, epsilon=1e-08, hidden_layer_sizes=(195,), learning_rate=learning_rate_count[i], max_iter=500)\n",
    "    model.fit(x_train,y_train)\n",
    "    y_pred=model.predict(x_test)\n",
    "    accuracy=accuracy_score(y_true=y_test, y_pred=y_pred)\n",
    "    accuracy_count.append(accuracy)\n",
    "\n",
    "accuracy = accuracy_count\n",
    "res = {}\n",
    "for key in learning_rate_count:\n",
    "    for value in accuracy:\n",
    "        res[key] = value \n",
    "        accuracy.remove(value)\n",
    "        break\n",
    "\n",
    "\n",
    "def getList(dict):\n",
    "    learning_value = []\n",
    "    accuracy = []\n",
    "    for key in dict.keys():\n",
    "        learning_value.append(key)\n",
    "    for values in dict.values():\n",
    "        accuracy.append(values)             \n",
    "    return [learning_value,accuracy]\n",
    "\n",
    "learning_rate_optimization = getList(res)\n",
    "\n",
    "learning_rate_data = {'Learning Rate':[learning_rate_optimization[0][i] for i in range(3)],\n",
    "                    'Accuracy: ':[str(round(learning_rate_optimization[1][i]*100,2))+\"%\" for i in range(3)]}\n",
    "df3 = pd.DataFrame(learning_rate_data)\n",
    "df3"
   ]
  },
  {
   "cell_type": "code",
   "execution_count": 126,
   "metadata": {},
   "outputs": [
    {
     "data": {
      "text/html": [
       "<div>\n",
       "<style scoped>\n",
       "    .dataframe tbody tr th:only-of-type {\n",
       "        vertical-align: middle;\n",
       "    }\n",
       "\n",
       "    .dataframe tbody tr th {\n",
       "        vertical-align: top;\n",
       "    }\n",
       "\n",
       "    .dataframe thead th {\n",
       "        text-align: right;\n",
       "    }\n",
       "</style>\n",
       "<table border=\"1\" class=\"dataframe\">\n",
       "  <thead>\n",
       "    <tr style=\"text-align: right;\">\n",
       "      <th></th>\n",
       "      <th>Features</th>\n",
       "      <th>Batch Size</th>\n",
       "      <th>alpha value</th>\n",
       "      <th>Hidden Layers</th>\n",
       "      <th>learning rate</th>\n",
       "    </tr>\n",
       "  </thead>\n",
       "  <tbody>\n",
       "    <tr>\n",
       "      <th>0</th>\n",
       "      <td>Mfcc+Mel</td>\n",
       "      <td>195</td>\n",
       "      <td>0.001</td>\n",
       "      <td>200</td>\n",
       "      <td>adaptive</td>\n",
       "    </tr>\n",
       "  </tbody>\n",
       "</table>\n",
       "</div>"
      ],
      "text/plain": [
       "   Features  Batch Size  alpha value  Hidden Layers learning rate\n",
       "0  Mfcc+Mel         195        0.001            200      adaptive"
      ]
     },
     "execution_count": 126,
     "metadata": {},
     "output_type": "execute_result"
    }
   ],
   "source": [
    "best_optimization_parameters = {'Features':[\"Mfcc+Mel\"],'Batch Size':[195], 'alpha value':[0.001],'Hidden Layers':[200],'learning rate':[\"adaptive\"]}\n",
    "best_optimization_parameters = pd.DataFrame(best_optimization_parameters)\n",
    "best_optimization_parameters"
   ]
  },
  {
   "cell_type": "markdown",
   "metadata": {},
   "source": [
    "# ALL Modedls:"
   ]
  },
  {
   "cell_type": "code",
   "execution_count": 132,
   "metadata": {},
   "outputs": [
    {
     "data": {
      "text/html": [
       "<div>\n",
       "<style scoped>\n",
       "    .dataframe tbody tr th:only-of-type {\n",
       "        vertical-align: middle;\n",
       "    }\n",
       "\n",
       "    .dataframe tbody tr th {\n",
       "        vertical-align: top;\n",
       "    }\n",
       "\n",
       "    .dataframe thead th {\n",
       "        text-align: right;\n",
       "    }\n",
       "</style>\n",
       "<table border=\"1\" class=\"dataframe\">\n",
       "  <thead>\n",
       "    <tr style=\"text-align: right;\">\n",
       "      <th></th>\n",
       "      <th>Train Accuracy</th>\n",
       "      <th>Test Accuracy</th>\n",
       "    </tr>\n",
       "  </thead>\n",
       "  <tbody>\n",
       "    <tr>\n",
       "      <th>SVM</th>\n",
       "      <td>81.16%</td>\n",
       "      <td>61.22%</td>\n",
       "    </tr>\n",
       "    <tr>\n",
       "      <th>Piplined SVM</th>\n",
       "      <td>92.8%</td>\n",
       "      <td>59.18%</td>\n",
       "    </tr>\n",
       "  </tbody>\n",
       "</table>\n",
       "</div>"
      ],
      "text/plain": [
       "             Train Accuracy Test Accuracy\n",
       "SVM                  81.16%        61.22%\n",
       "Piplined SVM          92.8%        59.18%"
      ]
     },
     "execution_count": 132,
     "metadata": {},
     "output_type": "execute_result"
    }
   ],
   "source": [
    "best_optimization_parameters = {'Train Accuracy':[\"81.16%\",\"92.8%\"],'Test Accuracy':[\"61.22%\",\"59.18%\"]}\n",
    "best_optimization_parameters = pd.DataFrame(best_optimization_parameters,index=[\"SVM\",\"Piplined SVM\"])\n",
    "best_optimization_parameters"
   ]
  },
  {
   "cell_type": "code",
   "execution_count": 26,
   "metadata": {},
   "outputs": [
    {
     "data": {
      "text/plain": [
       "<Figure size 2880x1440 with 0 Axes>"
      ]
     },
     "metadata": {},
     "output_type": "display_data"
    },
    {
     "data": {
      "image/png": "[encoded data removed]",
      "text/plain": [
       "<Figure size 2160x720 with 1 Axes>"
      ]
     },
     "metadata": {
      "needs_background": "light"
     },
     "output_type": "display_data"
    },
    {
     "data": {
      "text/html": [
       "<div>\n",
       "<style scoped>\n",
       "    .dataframe tbody tr th:only-of-type {\n",
       "        vertical-align: middle;\n",
       "    }\n",
       "\n",
       "    .dataframe tbody tr th {\n",
       "        vertical-align: top;\n",
       "    }\n",
       "\n",
       "    .dataframe thead th {\n",
       "        text-align: right;\n",
       "    }\n",
       "</style>\n",
       "<table border=\"1\" class=\"dataframe\">\n",
       "  <thead>\n",
       "    <tr style=\"text-align: right;\">\n",
       "      <th></th>\n",
       "      <th>MLP Classifier</th>\n",
       "      <th>SVM Classifier</th>\n",
       "      <th>Pipelined SVM Classifier</th>\n",
       "      <th>Eval ML</th>\n",
       "      <th>FLAML</th>\n",
       "    </tr>\n",
       "  </thead>\n",
       "  <tbody>\n",
       "    <tr>\n",
       "      <th>Test data Accuracy</th>\n",
       "      <td>61%</td>\n",
       "      <td>61.22%</td>\n",
       "      <td>59.18%</td>\n",
       "      <td>55%</td>\n",
       "      <td>61.54%</td>\n",
       "    </tr>\n",
       "  </tbody>\n",
       "</table>\n",
       "</div>"
      ],
      "text/plain": [
       "                   MLP Classifier SVM Classifier Pipelined SVM Classifier  \\\n",
       "Test data Accuracy            61%         61.22%                   59.18%   \n",
       "\n",
       "                   Eval ML   FLAML  \n",
       "Test data Accuracy     55%  61.54%  "
      ]
     },
     "execution_count": 26,
     "metadata": {},
     "output_type": "execute_result"
    }
   ],
   "source": [
    "import pandas as pd\n",
    "best_optimization_parameters = {'MLP Classifier':[\"61%\"],'SVM Classifier':[\"61.22%\"],'Pipelined SVM Classifier':[\"59.18%\"],'Eval ML':[\"55%\"],\"FLAML\":[\"61.54%\"]}\n",
    "best_optimization_parameters = pd.DataFrame(best_optimization_parameters,index=[\"Test data Accuracy\"])\n",
    "\n",
    "import matplotlib.pyplot as plt\n",
    "\n",
    "plt.figure(figsize=(40,20))\n",
    "df = pd.DataFrame({'Classifiers':['MLP Classifier','SVM Classifier','Pipelined SVM Classifier','Eval ML',\"FLAML\"], \n",
    "                    'val':[61, 61.22,59.18,55,61.54]})\n",
    "\n",
    "ax = df.plot.bar(x='Classifiers', y='val', rot=0,figsize=(30,10))\n",
    "plt.show()\n",
    "best_optimization_parameters"
   ]
  },
  {
   "cell_type": "code",
   "execution_count": 27,
   "metadata": {},
   "outputs": [
    {
     "data": {
      "text/plain": [
       "<Figure size 2880x1440 with 0 Axes>"
      ]
     },
     "metadata": {},
     "output_type": "display_data"
    },
    {
     "data": {
      "image/png": "[encoded data removed]",
      "text/plain": [
       "<Figure size 2160x720 with 1 Axes>"
      ]
     },
     "metadata": {
      "needs_background": "light"
     },
     "output_type": "display_data"
    },
    {
     "data": {
      "text/html": [
       "<div>\n",
       "<style scoped>\n",
       "    .dataframe tbody tr th:only-of-type {\n",
       "        vertical-align: middle;\n",
       "    }\n",
       "\n",
       "    .dataframe tbody tr th {\n",
       "        vertical-align: top;\n",
       "    }\n",
       "\n",
       "    .dataframe thead th {\n",
       "        text-align: right;\n",
       "    }\n",
       "</style>\n",
       "<table border=\"1\" class=\"dataframe\">\n",
       "  <thead>\n",
       "    <tr style=\"text-align: right;\">\n",
       "      <th></th>\n",
       "      <th>CNN (non-augmented data)</th>\n",
       "      <th>CNN (augmented data)</th>\n",
       "      <th>RESNET</th>\n",
       "    </tr>\n",
       "  </thead>\n",
       "  <tbody>\n",
       "    <tr>\n",
       "      <th>Test data Accuracy</th>\n",
       "      <td>28.2%</td>\n",
       "      <td>33.3%</td>\n",
       "      <td>28.2%</td>\n",
       "    </tr>\n",
       "  </tbody>\n",
       "</table>\n",
       "</div>"
      ],
      "text/plain": [
       "                   CNN (non-augmented data) CNN (augmented data) RESNET\n",
       "Test data Accuracy                    28.2%                33.3%  28.2%"
      ]
     },
     "execution_count": 27,
     "metadata": {},
     "output_type": "execute_result"
    }
   ],
   "source": [
    "import pandas as pd\n",
    "best_optimization_parameters = {'CNN (non-augmented data)':[\"28.2%\"],'CNN (augmented data)':[\"33.3%\"],'RESNET':[\"28.2%\"]}\n",
    "best_optimization_parameters = pd.DataFrame(best_optimization_parameters,index=[\"Test data Accuracy\"])\n",
    "\n",
    "import matplotlib.pyplot as plt\n",
    "\n",
    "plt.figure(figsize=(40,20))\n",
    "df = pd.DataFrame({'Classifiers':['CNN (non-augmented data)','CNN (augmented data)','RESNET'], \n",
    "                    'val':[28.2, 33.3,28.2]})\n",
    "\n",
    "ax = df.plot.bar(x='Classifiers', y='val', rot=0,figsize=(30,10))\n",
    "plt.show()\n",
    "best_optimization_parameters"
   ]
  }
 ],
 "metadata": {
  "interpreter": {
   "hash": "7e5166a53a4c6662cfcca5a9f7f7227b8039c0af270ed805b711823b4fa3b2aa"
  },
  "kernelspec": {
   "display_name": "Python 3",
   "language": "python",
   "name": "python3"
  },
  "language_info": {
   "codemirror_mode": {
    "name": "ipython",
    "version": 3
   },
   "file_extension": ".py",
   "mimetype": "text/x-python",
   "name": "python",
   "nbconvert_exporter": "python",
   "pygments_lexer": "ipython3",
   "version": "3.8.8"
  }
 },
 "nbformat": 4,
 "nbformat_minor": 2
}
