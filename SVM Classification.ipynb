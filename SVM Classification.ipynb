{
 "cells": [
  {
   "cell_type": "code",
   "execution_count": 61,
   "metadata": {},
   "outputs": [],
   "source": [
    "import os\n",
    "\n",
    "import time\n",
    "\n",
    "from sklearn.pipeline import make_pipeline\n",
    "from sklearn.preprocessing import StandardScaler\n",
    "from sklearn.svm import SVC\n",
    "import pandas as pd\n",
    "\n",
    "\n",
    "import librosa\n",
    "import soundfile\n",
    "import os, glob, pickle\n",
    "import numpy as np\n",
    "from sklearn.model_selection import train_test_split\n",
    "from sklearn.neural_network import MLPClassifier\n",
    "from sklearn.metrics import accuracy_score\n",
    "from pydub import AudioSegment\n",
    "import pydub\n",
    "import moviepy.editor as mp\n",
    "import wave\n",
    "import contextlib\n",
    "#Padding the data\n",
    "from scipy.io.wavfile import write\n",
    "from librosa import load\n",
    "from librosa.util import fix_length\n",
    "\n",
    "import warnings\n",
    "warnings.filterwarnings(\"ignore\")"
   ]
  },
  {
   "cell_type": "markdown",
   "metadata": {},
   "source": [
    "# Loading the Dataset and Feature Extraction"
   ]
  },
  {
   "cell_type": "markdown",
   "metadata": {},
   "source": [
    "Extract audio from video"
   ]
  },
  {
   "cell_type": "code",
   "execution_count": 2,
   "metadata": {},
   "outputs": [
    {
     "name": "stdout",
     "output_type": "stream",
     "text": [
      "['Confident', 'Nervous', 'Neutral']\n",
      "['01_01_Confident.mp4', '01_02_Confident.mov', '01_03_Confident.mp4', '01_04_Confident.mp4', '01_05_Confident.mp4', '01_06_Confident.mp4', '01_07_Confident.mp4', '01_08_Confident.mp4', '01_09_Confident.mp4', '01_10_Confident.mp4', '01_11_Confident.mp4', '01_12_Confident.mp4', '01_13_Confident.mp4', '01_14_Confident.mp4', '01_15_Confident.mp4', '01_16_Confident.mp4', '01_17_Confident.mov', '01_18_Confident.mov', '01_19_Confident.mp4', '01_20_Confident.MP4', '01_21_Confident.mp4', '01_22_Confident.MP4', '01_23_Confident.mp4', '01_24_confident.mp4', '01_25_Confident.mp4', '01_26_Confident.mp4', '02_01_Confident.mp4', '02_02_Confident.mov', '02_03_Confident.mp4', '02_04_Confident.mp4', '02_05_Confident.mp4', '02_06_Confident.mp4', '02_07_Confident.mp4', '02_08_Confident.mp4', '02_09_Confident.mp4', '02_10_Confident.mp4', '02_11_Confident.mp4', '02_12_Confident.mp4', '02_13_Confident.mp4', '02_14_Confident.mp4', '02_15_Confident.mp4', '02_16_Confident.mp4', '02_17_Confident.mov', '02_18_Confident.mov', '02_19_Confident.mp4', '02_20_Confident.MP4', '02_21_Confident.mp4', '02_22_Confident.MP4', '02_23_Confident.mp4', '02_24_Confident.mp4', '02_25_Confident.mp4', '02_26_Confident.mp4', '03_01_Confident.mp4', '03_02_Confident.mov', '03_03_Confident.mp4', '03_04_Confident.mp4', '03_05_Confident.mp4', '03_06_Confident.mp4', '03_07_Confident.mp4', '03_08_Confident.mp4', '03_09_Confident.mp4', '03_10_Confident.mp4', '03_11_Confident.mp4', '03_12_Confident.mp4', '03_13_Confident.mp4', '03_14_Confident.mp4', '03_15_Confident.mp4', '03_16_Confident.mp4', '03_17_Confident.mov', '03_18_Confident.mov', '03_19_Confident.mp4', '03_20_Confident.MP4', '03_21_Confident.mp4', '03_22_Confident.MP4', '03_23_Confident.mp4', '03_24_Confident.mp4', '03_25_Confident.mp4', '03_26_Confident.mp4', '04_01_Confident.mp4', '04_02_Confident.mov', '04_03_Confident.mp4', '04_04_Confident.mp4', '04_05_Confident.mp4', '04_06_Confident.mp4', '04_07_Confident.mp4', '04_08_Confident.mp4', '04_09_Confident.mp4', '04_10_Confident.mp4', '04_11_Confident.mp4', '04_12_Confident.mp4', '04_13_Confident.mp4', '04_14_Confident.mp4', '04_15_Confident.mp4', '04_16_Confident.mp4', '04_17_Confident.mov', '04_18_Confident.mov', '04_19_Confident.mp4', '04_20_Confident.MP4', '04_21_Confident.mp4', '04_22_Confident.MP4', '04_23_Confident.mov', '04_24_Confident.mp4', '04_25_Confident.mp4', '04_26_Confident.mp4', '05_01_Confident.mp4', '05_02_Confident.mov', '05_03_Confident.mp4', '05_04_Confident.mp4', '05_05_Confident.mp4', '05_06_Confident.mp4', '05_07_Confident.mp4', '05_08_Confident.mp4', '05_09_Confident.mp4', '05_10_Confident.mp4', '05_11_Confident.mp4', '05_12_Confident.mp4', '05_13_Confident.mp4', '05_14_Confident.mp4', '05_15_Confident.mp4', '05_16_Confident.mp4', '05_17_Confident.mov', '05_18_Confident.mov', '05_19_Confident.mp4', '05_20_Confident.MP4', '05_21_Confident.mp4', '05_22_Confident.MP4', '05_23_Confident.mp4', '05_24_Confident.mp4', '05_25_Confident.mp4', '05_26_Confident.mp4']\n",
      "['01_01_Nervous.mp4', '01_02_Nervous.mov', '01_03_Nervous.mp4', '01_04_Nervous.mp4', '01_05_Nervous.mp4', '01_06_Nervous.mp4', '01_07_Nervous.mp4', '01_08_Nervous.mp4', '01_09_Nervous.mp4', '01_10_Nervous.mp4', '01_11_Nervous.mp4', '01_12_Nervous.mp4', '01_13_Nervous.mp4', '01_14_Nervous.mp4', '01_15_Nervous.mp4', '01_16_Nervous.mp4', '01_17_Nervous.mov', '01_18_Nervous.mov', '01_19_Nervous.mp4', '01_20_Nervous.MP4', '01_21_Nervous.mp4', '01_22_Nervous.MP4', '01_23_Nervous.mov', '01_24_Nervous.mp4', '01_25_Nervous.mp4', '01_26_Nervous.mp4', '02_01_Nervous.mp4', '02_02_Nervous.mov', '02_03_Nervous.mp4', '02_04_Nervous.mp4', '02_05_Nervous.mp4', '02_06_Nervous.mp4', '02_07_Nervous.mp4', '02_08_Nervous.mp4', '02_09_Nervous.mp4', '02_10_Nervous.mp4', '02_11_Nervous.mp4', '02_12_Nervous.mp4', '02_13_Nervous.mp4', '02_14_Nervous.mp4', '02_15_Nervous.mp4', '02_16_Nervous.mp4', '02_17_Nervous.mov', '02_18_Nervous.mov', '02_19_Nervous.mp4', '02_20_Nervous.MP4', '02_21_Nervous.mp4', '02_22_Nervous.MP4', '02_23_Nervous.mov', '02_24_Nervous.mp4', '02_25_Nervous.mp4', '02_26_Nervous.mp4', '03_01_Nervous.mp4', '03_02_Nervous.mov', '03_03_Nervous.mp4', '03_04_Nervous.mp4', '03_05_Nervous.mp4', '03_06_Nervous.mp4', '03_07_Nervous.mp4', '03_08_Nervous.mp4', '03_09_Nervous.mp4', '03_10_Nervous.mp4', '03_11_Nervous.mp4', '03_12_Nervous.mp4', '03_13_Nervous.mp4', '03_14_Nervous.mp4', '03_15_Nervous.mp4', '03_16_Nervous.mp4', '03_17_Nervous.mov', '03_18_Nervous.mov', '03_19_Nervous.mp4', '03_20_Nervous.MP4', '03_21_Nervous.mp4', '03_22_Nervous.MP4', '03_23_Nervous.mov', '03_24_Nervous.mp4', '03_25_Nervous.mp4', '03_26_Nervous.mp4', '04_01_Nervous.mp4', '04_02_Nervous.mov', '04_03_Nervous.mp4', '04_04_Nervous.mp4', '04_05_Nervous.mp4', '04_06_Nervous.mp4', '04_07_Nervous.mp4', '04_08_Nervous.mp4', '04_09_Nervous.mp4', '04_10_Nervous.mp4', '04_11_Nervous.mp4', '04_12_Nervous.mp4', '04_13_Nervous.mp4', '04_14_Nervous.mp4', '04_15_Nervous.mp4', '04_16_Nervous.mp4', '04_17_Nervous.mov', '04_18_Nervous.mov', '04_19_Nervous.mp4', '04_20_Nervous.MP4', '04_21_Nervous.mp4', '04_22_Nervous.MP4', '04_23_Nervous.mov', '04_24_Nervous.mp4', '04_25_Nervous.mp4', '04_26_Nervous.mp4', '05_01_Nervous.mp4', '05_02_Nervous.mov', '05_03_Nervous.mp4', '05_04_Nervous.mp4', '05_05_Nervous.mp4', '05_06_Nervous.mp4', '05_07_Nervous.mp4', '05_08_Nervous.mp4', '05_09_Nervous.mp4', '05_10_Nervous.mp4', '05_11_Nervous.mp4', '05_12_Nervous.mp4', '05_13_Nervous.mp4', '05_14_Nervous.mp4', '05_15_Nervous.mp4', '05_16_Nervous.mp4', '05_17_Nervous.mov', '05_18_Nervous.mov', '05_19_Nervous.mp4', '05_20_Nervous.MP4', '05_21_Nervous.mp4', '05_22_Nervous.MP4', '05_23_Nervous.mov', '05_24_Nervous.mp4', '05_25_Nervous.mp4', '05_26_Nervous.mp4']\n",
      "['01_01_Neutral.mp4', '01_02_Neutral.mov', '01_03_Neutral.mp4', '01_04_Neutral.mp4', '01_05_Neutral.mp4', '01_06_Neutral.mp4', '01_07_Neutral.mp4', '01_08_Neutral.mp4', '01_09_Neutral.mp4', '01_10_Neutral.mp4', '01_11_Neutral.mp4', '01_12_Neutral.mp4', '01_13_Neutral.mp4', '01_14_Neutral.mp4', '01_15_Neutral.mp4', '01_16_Neutral.mp4', '01_17_Neutral.mov', '01_18_Neutral.mov', '01_19_Neutral.mp4', '01_20_Neutral.MP4', '01_21_Neutral.mp4', '01_22_Neutral.MP4', '01_23_Neutral.mp4', '01_24_Neutral.mp4', '01_25_Neutral.mp4', '01_26_Neutral.mp4', '02_01_Neutral.mp4', '02_02_Neutral.mov', '02_03_Neutral.mp4', '02_04_Neutral.mp4', '02_05_Neutral.mp4', '02_06_Neutral.mp4', '02_07_Neutral.mp4', '02_08_Neutral.mp4', '02_09_Neutral.mp4', '02_10_Neutral.mp4', '02_11_Neutral.mp4', '02_12_Neutral.mp4', '02_13_Neutral.mp4', '02_14_Neutral.mp4', '02_15_Neutral.mp4', '02_16_Neutral.mp4', '02_17_Neutral.mov', '02_18_Neutral.mov', '02_19_Neutral.mp4', '02_20_Neutral.MP4', '02_21_Neutral.mp4', '02_22_Neutral.MP4', '02_23_Neutral.mp4', '02_24_Neutral.mp4', '02_25_Neutral.mp4', '02_26_Neutral.mp4', '03_01_Neutral.mp4', '03_02_Neutral.mov', '03_03_Neutral.mp4', '03_04_Neutral.mp4', '03_05_Neutral.mp4', '03_06_Neutral.mp4', '03_07_Neutral.mp4', '03_08_Neutral.mp4', '03_09_Neutral.mp4', '03_10_Neutral.mp4', '03_11_Neutral.mp4', '03_12_Neutral.mp4', '03_13_Neutral.mp4', '03_14_Neutral.mp4', '03_15_Neutral.mp4', '03_16_Neutral.mp4', '03_17_Neutral.mov', '03_18_Neutral.mov', '03_19_Neutral.mp4', '03_20_Neutral.MP4', '03_21_Neutral.mp4', '03_22_Neutral.MP4', '03_23_Neutral.mp4', '03_24_Neutral.mp4', '03_25_Neutral.mp4', '03_26_Neutral.mp4', '04_01_Neutral.mp4', '04_02_Neutral.mov', '04_03_Neutral.mp4', '04_04_Neutral.mp4', '04_05_Neutral.mp4', '04_06_Neutral.mp4', '04_07_Neutral.mp4', '04_08_Neutral.mp4', '04_09_Neutral.mp4', '04_10_Neutral.mp4', '04_11_Neutral.mp4', '04_12_Neutral.mp4', '04_13_Neutral.mp4', '04_14_Neutral.mp4', '04_15_Neutral.mp4', '04_16_Neutral.mp4', '04_17_Neutral.mov', '04_18_Neutral.mov', '04_19_Neutral.mp4', '04_20_Neutral.MP4', '04_21_Neutral.mp4', '04_22_Neutral.MP4', '04_23_Neutral.mp4', '04_24_Neutral.mp4', '04_25_Neutral.mp4', '04_26_Neutral.mp4', '05_01_Neutral.mp4', '05_02_Neutral.mov', '05_03_Neutral.mp4', '05_04_Neutral.mp4', '05_05_Neutral.mp4', '05_06_Neutral.mp4', '05_07_Neutral.mp4', '05_08_Neutral.mp4', '05_09_Neutral.mp4', '05_10_Neutral.mp4', '05_11_Neutral.mp4', '05_12_Neutral.mp4', '05_13_Neutral.mp4', '05_14_Neutral.mp4', '05_15_Neutral.mp4', '05_16_Neutral.mp4', '05_17_Neutral.mov', '05_18_Neutral.mov', '05_19_Neutral.mp4', '05_20_Neutral.MP4', '05_21_Neutral.mp4', '05_22_Neutral.MP4', '05_23_Neutral.mp4', '05_24_Neutral.mp4', '05_25_Neutral.mp4', '05_26_Neutral.mp4']\n"
     ]
    }
   ],
   "source": [
    "import os\n",
    "x = [[],[],[]]\n",
    "arr = os.listdir(\"C:\\\\Users\\\\Aditya Kamath\\\\Downloads\\\\MP\\\\New Codes\\\\Final Dataset\\\\Video\")\n",
    "print(arr)\n",
    "for i in range(len(arr)):\n",
    "    #x.append(arr[i].split(\".\")[0])\n",
    "    temparr = os.listdir(\"C:\\\\Users\\\\Aditya Kamath\\\\Downloads\\\\MP\\\\New Codes\\\\Final Dataset\\\\Video\\\\\" + arr[i])\n",
    "    for j in range(len(temparr)):\n",
    "        x[i].append(temparr[j])"
   ]
  },
  {
   "cell_type": "code",
   "execution_count": 8,
   "metadata": {},
   "outputs": [],
   "source": [
    "emotions={\n",
    "  'Confident':'Confident',\n",
    "  'Neutral':'Neutral',\n",
    "  'Nervous':'Non Confident',\n",
    "}\n",
    "observed_emotions=['Confident', 'Neutral', 'Non Confident']\n",
    "data_features = []"
   ]
  },
  {
   "cell_type": "code",
   "execution_count": 11,
   "metadata": {},
   "outputs": [
    {
     "name": "stdout",
     "output_type": "stream",
     "text": [
      "Shape of training and testing data:  (292, 98)\n",
      "Features extracted: 180\n",
      "Time Taken: 00:02:30\n"
     ]
    }
   ],
   "source": [
    "#- - Extract features (mfcc, chroma, mel) from a sound file\n",
    "start_time = time.time()\n",
    "def extract_feature(file_name, mfcc, chroma, mel):\n",
    "    with soundfile.SoundFile(file_name) as sound_file:\n",
    "        X = sound_file.read(dtype=\"float32\")\n",
    "        sample_rate=sound_file.samplerate\n",
    "        if chroma:\n",
    "            stft=np.abs(librosa.stft(X))\n",
    "        result=np.array([])\n",
    "        if mfcc:\n",
    "            mfccs=np.mean(librosa.feature.mfcc(y=X, sr=sample_rate, n_mfcc=40).T, axis=0)\n",
    "            result=np.hstack((result, mfccs))\n",
    "        if chroma:\n",
    "            chroma=np.mean(librosa.feature.chroma_stft(S=stft, sr=sample_rate).T,axis=0)\n",
    "            result=np.hstack((result, chroma))\n",
    "        if mel:\n",
    "            mel=np.mean(librosa.feature.melspectrogram(X, sr=sample_rate).T,axis=0)\n",
    "            result=np.hstack((result, mel))\n",
    "    return result\n",
    "\n",
    "def load_data(test_size=0.2):\n",
    "    x,y=[],[]\n",
    "    for file in glob.glob(\"Final Dataset\\\\Padded Audio\\\\*\\\\*.wav\"):\n",
    "        file_name=os.path.basename(file)\n",
    "        x1 = file_name\n",
    "        x1 = x1.split(\"_\")\n",
    "        x1 = x1[2].split(\".wav\")\n",
    "        emotion=emotions[x1[0]]\n",
    "        if emotion not in observed_emotions:\n",
    "            continue\n",
    "        feature=extract_feature(file, mfcc=True, chroma=False, mel=True)\n",
    "        x.append(feature)\n",
    "        y.append(emotion)\n",
    "    return train_test_split(np.array(x), y, test_size=test_size, random_state=9)\n",
    "    \n",
    "x_train,x_test,y_train,y_test=load_data(test_size=0.25)\n",
    "print(\"Shape of training and testing data: \",(x_train.shape[0], x_test.shape[0]))\n",
    "print(f'Features extracted: {x_train.shape[1]}')\n",
    "\n",
    "seconds = time.time() - start_time\n",
    "time_counter=time.strftime(\"%H:%M:%S\",time.gmtime(seconds))\n",
    "print('Time Taken:', time_counter)"
   ]
  },
  {
   "cell_type": "markdown",
   "metadata": {},
   "source": [
    "# Standard SVM"
   ]
  },
  {
   "cell_type": "code",
   "execution_count": 62,
   "metadata": {},
   "outputs": [
    {
     "data": {
      "text/html": [
       "<div>\n",
       "<style scoped>\n",
       "    .dataframe tbody tr th:only-of-type {\n",
       "        vertical-align: middle;\n",
       "    }\n",
       "\n",
       "    .dataframe tbody tr th {\n",
       "        vertical-align: top;\n",
       "    }\n",
       "\n",
       "    .dataframe thead th {\n",
       "        text-align: right;\n",
       "    }\n",
       "</style>\n",
       "<table border=\"1\" class=\"dataframe\">\n",
       "  <thead>\n",
       "    <tr style=\"text-align: right;\">\n",
       "      <th></th>\n",
       "      <th>Train Score</th>\n",
       "      <th>Test Score</th>\n",
       "    </tr>\n",
       "  </thead>\n",
       "  <tbody>\n",
       "    <tr>\n",
       "      <th>linear</th>\n",
       "      <td>81.16%</td>\n",
       "      <td>61.22%</td>\n",
       "    </tr>\n",
       "    <tr>\n",
       "      <th>poly</th>\n",
       "      <td>41.1%</td>\n",
       "      <td>41.84%</td>\n",
       "    </tr>\n",
       "    <tr>\n",
       "      <th>rbf</th>\n",
       "      <td>39.73%</td>\n",
       "      <td>42.86%</td>\n",
       "    </tr>\n",
       "    <tr>\n",
       "      <th>sigmoid</th>\n",
       "      <td>34.59%</td>\n",
       "      <td>29.59%</td>\n",
       "    </tr>\n",
       "  </tbody>\n",
       "</table>\n",
       "</div>"
      ],
      "text/plain": [
       "        Train Score Test Score\n",
       "linear       81.16%     61.22%\n",
       "poly          41.1%     41.84%\n",
       "rbf          39.73%     42.86%\n",
       "sigmoid      34.59%     29.59%"
      ]
     },
     "execution_count": 62,
     "metadata": {},
     "output_type": "execute_result"
    }
   ],
   "source": [
    "kernel_name = ['linear', 'poly', 'rbf', 'sigmoid']\n",
    "kernel_train_score = []\n",
    "kernel_test_score = []\n",
    "for i in range(len(kernel_name)):\n",
    "    clf = SVC(kernel=kernel_name[i])\n",
    "    clf.fit(x_train,y_train)\n",
    "    kernel_train_score.append(clf.score(x_train, y_train))\n",
    "    y_pred=clf.predict(x_test)\n",
    "    kernel_test_score.append(accuracy_score(y_true=y_test, y_pred=y_pred))\n",
    "\n",
    "\n",
    "data = {'Train Score':[str(round(kernel_train_score[i]*100,2))+\"%\" for i in range(len(kernel_train_score))],\n",
    "        'Test Score':[str(round(kernel_test_score[i]*100,2))+\"%\" for i in range(len(kernel_train_score))]}\n",
    "\n",
    "df = pd.DataFrame(data, index =['linear', 'poly', 'rbf', 'sigmoid'])\n",
    "df"
   ]
  },
  {
   "cell_type": "code",
   "execution_count": 63,
   "metadata": {},
   "outputs": [
    {
     "data": {
      "text/html": [
       "<div>\n",
       "<style scoped>\n",
       "    .dataframe tbody tr th:only-of-type {\n",
       "        vertical-align: middle;\n",
       "    }\n",
       "\n",
       "    .dataframe tbody tr th {\n",
       "        vertical-align: top;\n",
       "    }\n",
       "\n",
       "    .dataframe thead th {\n",
       "        text-align: right;\n",
       "    }\n",
       "</style>\n",
       "<table border=\"1\" class=\"dataframe\">\n",
       "  <thead>\n",
       "    <tr style=\"text-align: right;\">\n",
       "      <th></th>\n",
       "      <th>Train Score</th>\n",
       "      <th>Test Score</th>\n",
       "    </tr>\n",
       "  </thead>\n",
       "  <tbody>\n",
       "    <tr>\n",
       "      <th>degree =1</th>\n",
       "      <td>81.16%</td>\n",
       "      <td>61.22%</td>\n",
       "    </tr>\n",
       "    <tr>\n",
       "      <th>degree =2</th>\n",
       "      <td>81.16%</td>\n",
       "      <td>61.22%</td>\n",
       "    </tr>\n",
       "    <tr>\n",
       "      <th>degree =3</th>\n",
       "      <td>81.16%</td>\n",
       "      <td>61.22%</td>\n",
       "    </tr>\n",
       "    <tr>\n",
       "      <th>degree =4</th>\n",
       "      <td>81.16%</td>\n",
       "      <td>61.22%</td>\n",
       "    </tr>\n",
       "    <tr>\n",
       "      <th>degree =5</th>\n",
       "      <td>81.16%</td>\n",
       "      <td>61.22%</td>\n",
       "    </tr>\n",
       "  </tbody>\n",
       "</table>\n",
       "</div>"
      ],
      "text/plain": [
       "          Train Score Test Score\n",
       "degree =1      81.16%     61.22%\n",
       "degree =2      81.16%     61.22%\n",
       "degree =3      81.16%     61.22%\n",
       "degree =4      81.16%     61.22%\n",
       "degree =5      81.16%     61.22%"
      ]
     },
     "execution_count": 63,
     "metadata": {},
     "output_type": "execute_result"
    }
   ],
   "source": [
    "kernel_name = 'linear'\n",
    "degree_name = [1,2,3,4,5]\n",
    "kernel_train_score = []\n",
    "kernel_test_score = []\n",
    "for i in range(len(degree_name)):\n",
    "    clf = SVC(kernel=kernel_name,degree=degree_name[i])\n",
    "    clf.fit(x_train,y_train)\n",
    "    kernel_train_score.append(clf.score(x_train, y_train))\n",
    "    y_pred=clf.predict(x_test)\n",
    "    kernel_test_score.append(accuracy_score(y_true=y_test, y_pred=y_pred))\n",
    "\n",
    "import pandas as pd\n",
    "data = {'Train Score':[str(round(kernel_train_score[i]*100,2))+\"%\" for i in range(len(kernel_train_score))],\n",
    "        'Test Score':[str(round(kernel_test_score[i]*100,2))+\"%\" for i in range(len(kernel_test_score))]}\n",
    "\n",
    "df = pd.DataFrame(data,index =[\"degree =1\",\"degree =2\",\"degree =3\",\"degree =4\",\"degree =5\"])\n",
    "df"
   ]
  },
  {
   "cell_type": "code",
   "execution_count": 100,
   "metadata": {},
   "outputs": [
    {
     "name": "stdout",
     "output_type": "stream",
     "text": [
      "kernel is poly\n"
     ]
    },
    {
     "data": {
      "text/html": [
       "<div>\n",
       "<style scoped>\n",
       "    .dataframe tbody tr th:only-of-type {\n",
       "        vertical-align: middle;\n",
       "    }\n",
       "\n",
       "    .dataframe tbody tr th {\n",
       "        vertical-align: top;\n",
       "    }\n",
       "\n",
       "    .dataframe thead th {\n",
       "        text-align: right;\n",
       "    }\n",
       "</style>\n",
       "<table border=\"1\" class=\"dataframe\">\n",
       "  <thead>\n",
       "    <tr style=\"text-align: right;\">\n",
       "      <th></th>\n",
       "      <th>Train Score</th>\n",
       "      <th>Test Score</th>\n",
       "    </tr>\n",
       "  </thead>\n",
       "  <tbody>\n",
       "    <tr>\n",
       "      <th>scale</th>\n",
       "      <td>41.1%</td>\n",
       "      <td>41.84%</td>\n",
       "    </tr>\n",
       "    <tr>\n",
       "      <th>auto</th>\n",
       "      <td>84.25%</td>\n",
       "      <td>48.98%</td>\n",
       "    </tr>\n",
       "  </tbody>\n",
       "</table>\n",
       "</div>"
      ],
      "text/plain": [
       "      Train Score Test Score\n",
       "scale       41.1%     41.84%\n",
       "auto       84.25%     48.98%"
      ]
     },
     "execution_count": 100,
     "metadata": {},
     "output_type": "execute_result"
    }
   ],
   "source": [
    "kernel_name = 'poly'\n",
    "degree_name = 3\n",
    "gamma_name = [\"scale\",\"auto\"]\n",
    "kernel_train_score = []\n",
    "kernel_test_score = []\n",
    "for i in range(len(gamma_name)):\n",
    "    clf = SVC(kernel=kernel_name,degree=degree_name,gamma=gamma_name[i])\n",
    "    clf.fit(x_train,y_train)\n",
    "    kernel_train_score.append(clf.score(x_train, y_train))\n",
    "    y_pred=clf.predict(x_test)\n",
    "    kernel_test_score.append(accuracy_score(y_true=y_test, y_pred=y_pred))\n",
    "\n",
    "import pandas as pd\n",
    "data = {'Train Score':[str(round(kernel_train_score[i]*100,2))+\"%\" for i in range(len(kernel_train_score))],\n",
    "        'Test Score':[str(round(kernel_test_score[i]*100,2))+\"%\" for i in range(len(kernel_test_score))]}\n",
    "\n",
    "df = pd.DataFrame(data,index =[\"scale\",\"auto\"])\n",
    "print(\"kernel is poly\")\n",
    "df"
   ]
  },
  {
   "cell_type": "code",
   "execution_count": 101,
   "metadata": {},
   "outputs": [
    {
     "name": "stdout",
     "output_type": "stream",
     "text": [
      "kernel is rbf\n"
     ]
    },
    {
     "data": {
      "text/html": [
       "<div>\n",
       "<style scoped>\n",
       "    .dataframe tbody tr th:only-of-type {\n",
       "        vertical-align: middle;\n",
       "    }\n",
       "\n",
       "    .dataframe tbody tr th {\n",
       "        vertical-align: top;\n",
       "    }\n",
       "\n",
       "    .dataframe thead th {\n",
       "        text-align: right;\n",
       "    }\n",
       "</style>\n",
       "<table border=\"1\" class=\"dataframe\">\n",
       "  <thead>\n",
       "    <tr style=\"text-align: right;\">\n",
       "      <th></th>\n",
       "      <th>Train Score</th>\n",
       "      <th>Test Score</th>\n",
       "    </tr>\n",
       "  </thead>\n",
       "  <tbody>\n",
       "    <tr>\n",
       "      <th>scale</th>\n",
       "      <td>39.73%</td>\n",
       "      <td>42.86%</td>\n",
       "    </tr>\n",
       "    <tr>\n",
       "      <th>auto</th>\n",
       "      <td>91.1%</td>\n",
       "      <td>46.94%</td>\n",
       "    </tr>\n",
       "  </tbody>\n",
       "</table>\n",
       "</div>"
      ],
      "text/plain": [
       "      Train Score Test Score\n",
       "scale      39.73%     42.86%\n",
       "auto        91.1%     46.94%"
      ]
     },
     "execution_count": 101,
     "metadata": {},
     "output_type": "execute_result"
    }
   ],
   "source": [
    "kernel_name = 'rbf'\n",
    "degree_name = 3\n",
    "gamma_name = [\"scale\",\"auto\"]\n",
    "kernel_train_score = []\n",
    "kernel_test_score = []\n",
    "for i in range(len(gamma_name)):\n",
    "    clf = SVC(kernel=kernel_name,degree=degree_name,gamma=gamma_name[i])\n",
    "    clf.fit(x_train,y_train)\n",
    "    kernel_train_score.append(clf.score(x_train, y_train))\n",
    "    y_pred=clf.predict(x_test)\n",
    "    kernel_test_score.append(accuracy_score(y_true=y_test, y_pred=y_pred))\n",
    "\n",
    "import pandas as pd\n",
    "data = {'Train Score':[str(round(kernel_train_score[i]*100,2))+\"%\" for i in range(len(kernel_train_score))],\n",
    "        'Test Score':[str(round(kernel_test_score[i]*100,2))+\"%\" for i in range(len(kernel_test_score))]}\n",
    "\n",
    "df = pd.DataFrame(data,index =[\"scale\",\"auto\"])\n",
    "print(\"kernel is rbf\")\n",
    "df"
   ]
  },
  {
   "cell_type": "code",
   "execution_count": 102,
   "metadata": {},
   "outputs": [
    {
     "name": "stdout",
     "output_type": "stream",
     "text": [
      "kernel is sigmoid\n"
     ]
    },
    {
     "data": {
      "text/html": [
       "<div>\n",
       "<style scoped>\n",
       "    .dataframe tbody tr th:only-of-type {\n",
       "        vertical-align: middle;\n",
       "    }\n",
       "\n",
       "    .dataframe tbody tr th {\n",
       "        vertical-align: top;\n",
       "    }\n",
       "\n",
       "    .dataframe thead th {\n",
       "        text-align: right;\n",
       "    }\n",
       "</style>\n",
       "<table border=\"1\" class=\"dataframe\">\n",
       "  <thead>\n",
       "    <tr style=\"text-align: right;\">\n",
       "      <th></th>\n",
       "      <th>Train Score</th>\n",
       "      <th>Test Score</th>\n",
       "    </tr>\n",
       "  </thead>\n",
       "  <tbody>\n",
       "    <tr>\n",
       "      <th>scale</th>\n",
       "      <td>34.59%</td>\n",
       "      <td>29.59%</td>\n",
       "    </tr>\n",
       "    <tr>\n",
       "      <th>auto</th>\n",
       "      <td>34.59%</td>\n",
       "      <td>29.59%</td>\n",
       "    </tr>\n",
       "  </tbody>\n",
       "</table>\n",
       "</div>"
      ],
      "text/plain": [
       "      Train Score Test Score\n",
       "scale      34.59%     29.59%\n",
       "auto       34.59%     29.59%"
      ]
     },
     "execution_count": 102,
     "metadata": {},
     "output_type": "execute_result"
    }
   ],
   "source": [
    "kernel_name = 'sigmoid'\n",
    "degree_name = 3\n",
    "gamma_name = [\"scale\",\"auto\"]\n",
    "kernel_train_score = []\n",
    "kernel_test_score = []\n",
    "for i in range(len(gamma_name)):\n",
    "    clf = SVC(kernel=kernel_name,degree=degree_name,gamma=gamma_name[i])\n",
    "    clf.fit(x_train,y_train)\n",
    "    kernel_train_score.append(clf.score(x_train, y_train))\n",
    "    y_pred=clf.predict(x_test)\n",
    "    kernel_test_score.append(accuracy_score(y_true=y_test, y_pred=y_pred))\n",
    "\n",
    "import pandas as pd\n",
    "data = {'Train Score':[str(round(kernel_train_score[i]*100,2))+\"%\" for i in range(len(kernel_train_score))],\n",
    "        'Test Score':[str(round(kernel_test_score[i]*100,2))+\"%\" for i in range(len(kernel_test_score))]}\n",
    "\n",
    "df = pd.DataFrame(data,index =[\"scale\",\"auto\"])\n",
    "print(\"kernel is sigmoid\")\n",
    "df"
   ]
  },
  {
   "cell_type": "code",
   "execution_count": 104,
   "metadata": {},
   "outputs": [
    {
     "name": "stdout",
     "output_type": "stream",
     "text": [
      "kernel is linear\n"
     ]
    },
    {
     "data": {
      "text/html": [
       "<div>\n",
       "<style scoped>\n",
       "    .dataframe tbody tr th:only-of-type {\n",
       "        vertical-align: middle;\n",
       "    }\n",
       "\n",
       "    .dataframe tbody tr th {\n",
       "        vertical-align: top;\n",
       "    }\n",
       "\n",
       "    .dataframe thead th {\n",
       "        text-align: right;\n",
       "    }\n",
       "</style>\n",
       "<table border=\"1\" class=\"dataframe\">\n",
       "  <thead>\n",
       "    <tr style=\"text-align: right;\">\n",
       "      <th></th>\n",
       "      <th>Train Score</th>\n",
       "      <th>Test Score</th>\n",
       "    </tr>\n",
       "  </thead>\n",
       "  <tbody>\n",
       "    <tr>\n",
       "      <th>scale</th>\n",
       "      <td>81.16%</td>\n",
       "      <td>61.22%</td>\n",
       "    </tr>\n",
       "    <tr>\n",
       "      <th>auto</th>\n",
       "      <td>81.16%</td>\n",
       "      <td>61.22%</td>\n",
       "    </tr>\n",
       "  </tbody>\n",
       "</table>\n",
       "</div>"
      ],
      "text/plain": [
       "      Train Score Test Score\n",
       "scale      81.16%     61.22%\n",
       "auto       81.16%     61.22%"
      ]
     },
     "execution_count": 104,
     "metadata": {},
     "output_type": "execute_result"
    }
   ],
   "source": [
    "kernel_name = 'linear'\n",
    "degree_name = 3\n",
    "gamma_name = [\"scale\",\"auto\"]\n",
    "kernel_train_score = []\n",
    "kernel_test_score = []\n",
    "for i in range(len(gamma_name)):\n",
    "    clf = SVC(kernel=kernel_name,degree=degree_name,gamma=gamma_name[i])\n",
    "    clf.fit(x_train,y_train)\n",
    "    kernel_train_score.append(clf.score(x_train, y_train))\n",
    "    y_pred=clf.predict(x_test)\n",
    "    kernel_test_score.append(accuracy_score(y_true=y_test, y_pred=y_pred))\n",
    "\n",
    "import pandas as pd\n",
    "data = {'Train Score':[str(round(kernel_train_score[i]*100,2))+\"%\" for i in range(len(kernel_train_score))],\n",
    "        'Test Score':[str(round(kernel_test_score[i]*100,2))+\"%\" for i in range(len(kernel_test_score))]}\n",
    "\n",
    "df = pd.DataFrame(data,index =[\"scale\",\"auto\"])\n",
    "print(\"kernel is linear\")\n",
    "df"
   ]
  },
  {
   "cell_type": "code",
   "execution_count": 105,
   "metadata": {},
   "outputs": [
    {
     "data": {
      "text/html": [
       "<div>\n",
       "<style scoped>\n",
       "    .dataframe tbody tr th:only-of-type {\n",
       "        vertical-align: middle;\n",
       "    }\n",
       "\n",
       "    .dataframe tbody tr th {\n",
       "        vertical-align: top;\n",
       "    }\n",
       "\n",
       "    .dataframe thead th {\n",
       "        text-align: right;\n",
       "    }\n",
       "</style>\n",
       "<table border=\"1\" class=\"dataframe\">\n",
       "  <thead>\n",
       "    <tr style=\"text-align: right;\">\n",
       "      <th></th>\n",
       "      <th>Train Score</th>\n",
       "      <th>Test Score</th>\n",
       "    </tr>\n",
       "  </thead>\n",
       "  <tbody>\n",
       "    <tr>\n",
       "      <th>ovo</th>\n",
       "      <td>81.16%</td>\n",
       "      <td>61.22%</td>\n",
       "    </tr>\n",
       "    <tr>\n",
       "      <th>ovr</th>\n",
       "      <td>81.16%</td>\n",
       "      <td>61.22%</td>\n",
       "    </tr>\n",
       "  </tbody>\n",
       "</table>\n",
       "</div>"
      ],
      "text/plain": [
       "    Train Score Test Score\n",
       "ovo      81.16%     61.22%\n",
       "ovr      81.16%     61.22%"
      ]
     },
     "execution_count": 105,
     "metadata": {},
     "output_type": "execute_result"
    }
   ],
   "source": [
    "kernel_name = 'linear'\n",
    "degree_name = 3\n",
    "decision_function_name = ['ovo','ovr']\n",
    "kernel_train_score = []\n",
    "kernel_test_score = []\n",
    "for i in range(len(decision_function_name)):\n",
    "    clf = SVC(kernel=kernel_name,degree=degree_name,gamma=\"auto\",decision_function_shape=decision_function_name[i])\n",
    "    clf.fit(x_train,y_train)\n",
    "    kernel_train_score.append(clf.score(x_train, y_train))\n",
    "    y_pred=clf.predict(x_test)\n",
    "    kernel_test_score.append(accuracy_score(y_true=y_test, y_pred=y_pred))\n",
    "\n",
    "import pandas as pd\n",
    "data = {'Train Score':[str(round(kernel_train_score[i]*100,2))+\"%\" for i in range(len(kernel_train_score))],\n",
    "        'Test Score':[str(round(kernel_test_score[i]*100,2))+\"%\" for i in range(len(kernel_test_score))]}\n",
    "\n",
    "df = pd.DataFrame(data,index =[\"ovo\",\"ovr\"])\n",
    "df"
   ]
  },
  {
   "cell_type": "markdown",
   "metadata": {},
   "source": [
    "# Piplined svm"
   ]
  },
  {
   "cell_type": "code",
   "execution_count": 65,
   "metadata": {},
   "outputs": [
    {
     "data": {
      "text/html": [
       "<div>\n",
       "<style scoped>\n",
       "    .dataframe tbody tr th:only-of-type {\n",
       "        vertical-align: middle;\n",
       "    }\n",
       "\n",
       "    .dataframe tbody tr th {\n",
       "        vertical-align: top;\n",
       "    }\n",
       "\n",
       "    .dataframe thead th {\n",
       "        text-align: right;\n",
       "    }\n",
       "</style>\n",
       "<table border=\"1\" class=\"dataframe\">\n",
       "  <thead>\n",
       "    <tr style=\"text-align: right;\">\n",
       "      <th></th>\n",
       "      <th>Train Score</th>\n",
       "      <th>Test Score</th>\n",
       "    </tr>\n",
       "  </thead>\n",
       "  <tbody>\n",
       "    <tr>\n",
       "      <th>linear</th>\n",
       "      <td>92.81%</td>\n",
       "      <td>59.18%</td>\n",
       "    </tr>\n",
       "    <tr>\n",
       "      <th>poly</th>\n",
       "      <td>53.77%</td>\n",
       "      <td>44.9%</td>\n",
       "    </tr>\n",
       "    <tr>\n",
       "      <th>rbf</th>\n",
       "      <td>74.66%</td>\n",
       "      <td>63.27%</td>\n",
       "    </tr>\n",
       "    <tr>\n",
       "      <th>sigmoid</th>\n",
       "      <td>57.88%</td>\n",
       "      <td>50.0%</td>\n",
       "    </tr>\n",
       "  </tbody>\n",
       "</table>\n",
       "</div>"
      ],
      "text/plain": [
       "        Train Score Test Score\n",
       "linear       92.81%     59.18%\n",
       "poly         53.77%      44.9%\n",
       "rbf          74.66%     63.27%\n",
       "sigmoid      57.88%      50.0%"
      ]
     },
     "execution_count": 65,
     "metadata": {},
     "output_type": "execute_result"
    }
   ],
   "source": [
    "kernel_name = ['linear', 'poly', 'rbf', 'sigmoid']\n",
    "kernel_train_score = []\n",
    "kernel_test_score = []\n",
    "for i in range(len(kernel_name)):\n",
    "    clf = make_pipeline(StandardScaler(), SVC(kernel=kernel_name[i]))\n",
    "    clf.fit(x_train,y_train)\n",
    "    kernel_train_score.append(clf.score(x_train, y_train))\n",
    "    y_pred=clf.predict(x_test)\n",
    "    kernel_test_score.append(accuracy_score(y_true=y_test, y_pred=y_pred))\n",
    "\n",
    "\n",
    "data = {'Train Score':[str(round(kernel_train_score[i]*100,2))+\"%\" for i in range(len(kernel_train_score))],\n",
    "        'Test Score':[str(round(kernel_test_score[i]*100,2))+\"%\" for i in range(len(kernel_train_score))]}\n",
    "\n",
    "df = pd.DataFrame(data, index =['linear', 'poly', 'rbf', 'sigmoid'])\n",
    "df"
   ]
  },
  {
   "cell_type": "code",
   "execution_count": 66,
   "metadata": {},
   "outputs": [
    {
     "data": {
      "text/html": [
       "<div>\n",
       "<style scoped>\n",
       "    .dataframe tbody tr th:only-of-type {\n",
       "        vertical-align: middle;\n",
       "    }\n",
       "\n",
       "    .dataframe tbody tr th {\n",
       "        vertical-align: top;\n",
       "    }\n",
       "\n",
       "    .dataframe thead th {\n",
       "        text-align: right;\n",
       "    }\n",
       "</style>\n",
       "<table border=\"1\" class=\"dataframe\">\n",
       "  <thead>\n",
       "    <tr style=\"text-align: right;\">\n",
       "      <th></th>\n",
       "      <th>Train Score</th>\n",
       "      <th>Test Score</th>\n",
       "    </tr>\n",
       "  </thead>\n",
       "  <tbody>\n",
       "    <tr>\n",
       "      <th>degree =1</th>\n",
       "      <td>92.81%</td>\n",
       "      <td>59.18%</td>\n",
       "    </tr>\n",
       "    <tr>\n",
       "      <th>degree =2</th>\n",
       "      <td>92.81%</td>\n",
       "      <td>59.18%</td>\n",
       "    </tr>\n",
       "    <tr>\n",
       "      <th>degree =3</th>\n",
       "      <td>92.81%</td>\n",
       "      <td>59.18%</td>\n",
       "    </tr>\n",
       "    <tr>\n",
       "      <th>degree =4</th>\n",
       "      <td>92.81%</td>\n",
       "      <td>59.18%</td>\n",
       "    </tr>\n",
       "    <tr>\n",
       "      <th>degree =5</th>\n",
       "      <td>92.81%</td>\n",
       "      <td>59.18%</td>\n",
       "    </tr>\n",
       "  </tbody>\n",
       "</table>\n",
       "</div>"
      ],
      "text/plain": [
       "          Train Score Test Score\n",
       "degree =1      92.81%     59.18%\n",
       "degree =2      92.81%     59.18%\n",
       "degree =3      92.81%     59.18%\n",
       "degree =4      92.81%     59.18%\n",
       "degree =5      92.81%     59.18%"
      ]
     },
     "execution_count": 66,
     "metadata": {},
     "output_type": "execute_result"
    }
   ],
   "source": [
    "kernel_name = 'linear'\n",
    "degree_name = [1,2,3,4,5]\n",
    "kernel_train_score = []\n",
    "kernel_test_score = []\n",
    "for i in range(len(degree_name)):\n",
    "    clf = make_pipeline(StandardScaler(),SVC(kernel=kernel_name,degree=degree_name[i]))\n",
    "    clf.fit(x_train,y_train)\n",
    "    kernel_train_score.append(clf.score(x_train, y_train))\n",
    "    y_pred=clf.predict(x_test)\n",
    "    kernel_test_score.append(accuracy_score(y_true=y_test, y_pred=y_pred))\n",
    "\n",
    "import pandas as pd\n",
    "data = {'Train Score':[str(round(kernel_train_score[i]*100,2))+\"%\" for i in range(len(kernel_train_score))],\n",
    "        'Test Score':[str(round(kernel_test_score[i]*100,2))+\"%\" for i in range(len(kernel_test_score))]}\n",
    "\n",
    "df = pd.DataFrame(data,index =[\"degree =1\",\"degree =2\",\"degree =3\",\"degree =4\",\"degree =5\"])\n",
    "df"
   ]
  },
  {
   "cell_type": "code",
   "execution_count": 106,
   "metadata": {},
   "outputs": [
    {
     "name": "stdout",
     "output_type": "stream",
     "text": [
      "Kernal is Liner\n"
     ]
    },
    {
     "data": {
      "text/html": [
       "<div>\n",
       "<style scoped>\n",
       "    .dataframe tbody tr th:only-of-type {\n",
       "        vertical-align: middle;\n",
       "    }\n",
       "\n",
       "    .dataframe tbody tr th {\n",
       "        vertical-align: top;\n",
       "    }\n",
       "\n",
       "    .dataframe thead th {\n",
       "        text-align: right;\n",
       "    }\n",
       "</style>\n",
       "<table border=\"1\" class=\"dataframe\">\n",
       "  <thead>\n",
       "    <tr style=\"text-align: right;\">\n",
       "      <th></th>\n",
       "      <th>Train Score</th>\n",
       "      <th>Test Score</th>\n",
       "    </tr>\n",
       "  </thead>\n",
       "  <tbody>\n",
       "    <tr>\n",
       "      <th>scale</th>\n",
       "      <td>92.81%</td>\n",
       "      <td>59.18%</td>\n",
       "    </tr>\n",
       "    <tr>\n",
       "      <th>auto</th>\n",
       "      <td>92.81%</td>\n",
       "      <td>59.18%</td>\n",
       "    </tr>\n",
       "  </tbody>\n",
       "</table>\n",
       "</div>"
      ],
      "text/plain": [
       "      Train Score Test Score\n",
       "scale      92.81%     59.18%\n",
       "auto       92.81%     59.18%"
      ]
     },
     "execution_count": 106,
     "metadata": {},
     "output_type": "execute_result"
    }
   ],
   "source": [
    "kernel_name = 'linear'\n",
    "degree_name = 3\n",
    "gamma_name = [\"scale\",\"auto\"]\n",
    "kernel_train_score = []\n",
    "kernel_test_score = []\n",
    "for i in range(len(gamma_name)):\n",
    "    clf = make_pipeline(StandardScaler(),SVC(kernel=kernel_name,degree=degree_name,gamma=gamma_name[i]))\n",
    "    clf.fit(x_train,y_train)\n",
    "    kernel_train_score.append(clf.score(x_train, y_train))\n",
    "    y_pred=clf.predict(x_test)\n",
    "    kernel_test_score.append(accuracy_score(y_true=y_test, y_pred=y_pred))\n",
    "\n",
    "import pandas as pd\n",
    "data = {'Train Score':[str(round(kernel_train_score[i]*100,2))+\"%\" for i in range(len(kernel_train_score))],\n",
    "        'Test Score':[str(round(kernel_test_score[i]*100,2))+\"%\" for i in range(len(kernel_test_score))]}\n",
    "\n",
    "df = pd.DataFrame(data,index =[\"scale\",\"auto\"])\n",
    "print(\"Kernal is Liner\")\n",
    "df"
   ]
  },
  {
   "cell_type": "code",
   "execution_count": 108,
   "metadata": {},
   "outputs": [
    {
     "name": "stdout",
     "output_type": "stream",
     "text": [
      "Kernal is poly\n"
     ]
    },
    {
     "data": {
      "text/html": [
       "<div>\n",
       "<style scoped>\n",
       "    .dataframe tbody tr th:only-of-type {\n",
       "        vertical-align: middle;\n",
       "    }\n",
       "\n",
       "    .dataframe tbody tr th {\n",
       "        vertical-align: top;\n",
       "    }\n",
       "\n",
       "    .dataframe thead th {\n",
       "        text-align: right;\n",
       "    }\n",
       "</style>\n",
       "<table border=\"1\" class=\"dataframe\">\n",
       "  <thead>\n",
       "    <tr style=\"text-align: right;\">\n",
       "      <th></th>\n",
       "      <th>Train Score</th>\n",
       "      <th>Test Score</th>\n",
       "    </tr>\n",
       "  </thead>\n",
       "  <tbody>\n",
       "    <tr>\n",
       "      <th>scale</th>\n",
       "      <td>53.77%</td>\n",
       "      <td>44.9%</td>\n",
       "    </tr>\n",
       "    <tr>\n",
       "      <th>auto</th>\n",
       "      <td>53.77%</td>\n",
       "      <td>44.9%</td>\n",
       "    </tr>\n",
       "  </tbody>\n",
       "</table>\n",
       "</div>"
      ],
      "text/plain": [
       "      Train Score Test Score\n",
       "scale      53.77%      44.9%\n",
       "auto       53.77%      44.9%"
      ]
     },
     "execution_count": 108,
     "metadata": {},
     "output_type": "execute_result"
    }
   ],
   "source": [
    "kernel_name = 'poly'\n",
    "degree_name = 3\n",
    "gamma_name = [\"scale\",\"auto\"]\n",
    "kernel_train_score = []\n",
    "kernel_test_score = []\n",
    "for i in range(len(gamma_name)):\n",
    "    clf = make_pipeline(StandardScaler(),SVC(kernel=kernel_name,degree=degree_name,gamma=gamma_name[i]))\n",
    "    clf.fit(x_train,y_train)\n",
    "    kernel_train_score.append(clf.score(x_train, y_train))\n",
    "    y_pred=clf.predict(x_test)\n",
    "    kernel_test_score.append(accuracy_score(y_true=y_test, y_pred=y_pred))\n",
    "\n",
    "import pandas as pd\n",
    "data = {'Train Score':[str(round(kernel_train_score[i]*100,2))+\"%\" for i in range(len(kernel_train_score))],\n",
    "        'Test Score':[str(round(kernel_test_score[i]*100,2))+\"%\" for i in range(len(kernel_test_score))]}\n",
    "\n",
    "df = pd.DataFrame(data,index =[\"scale\",\"auto\"])\n",
    "print(\"Kernal is poly\")\n",
    "df"
   ]
  },
  {
   "cell_type": "code",
   "execution_count": 109,
   "metadata": {},
   "outputs": [
    {
     "name": "stdout",
     "output_type": "stream",
     "text": [
      "Kernal is rbf\n"
     ]
    },
    {
     "data": {
      "text/html": [
       "<div>\n",
       "<style scoped>\n",
       "    .dataframe tbody tr th:only-of-type {\n",
       "        vertical-align: middle;\n",
       "    }\n",
       "\n",
       "    .dataframe tbody tr th {\n",
       "        vertical-align: top;\n",
       "    }\n",
       "\n",
       "    .dataframe thead th {\n",
       "        text-align: right;\n",
       "    }\n",
       "</style>\n",
       "<table border=\"1\" class=\"dataframe\">\n",
       "  <thead>\n",
       "    <tr style=\"text-align: right;\">\n",
       "      <th></th>\n",
       "      <th>Train Score</th>\n",
       "      <th>Test Score</th>\n",
       "    </tr>\n",
       "  </thead>\n",
       "  <tbody>\n",
       "    <tr>\n",
       "      <th>scale</th>\n",
       "      <td>74.66%</td>\n",
       "      <td>63.27%</td>\n",
       "    </tr>\n",
       "    <tr>\n",
       "      <th>auto</th>\n",
       "      <td>74.66%</td>\n",
       "      <td>63.27%</td>\n",
       "    </tr>\n",
       "  </tbody>\n",
       "</table>\n",
       "</div>"
      ],
      "text/plain": [
       "      Train Score Test Score\n",
       "scale      74.66%     63.27%\n",
       "auto       74.66%     63.27%"
      ]
     },
     "execution_count": 109,
     "metadata": {},
     "output_type": "execute_result"
    }
   ],
   "source": [
    "kernel_name = 'rbf'\n",
    "degree_name = 3\n",
    "gamma_name = [\"scale\",\"auto\"]\n",
    "kernel_train_score = []\n",
    "kernel_test_score = []\n",
    "for i in range(len(gamma_name)):\n",
    "    clf = make_pipeline(StandardScaler(),SVC(kernel=kernel_name,degree=degree_name,gamma=gamma_name[i]))\n",
    "    clf.fit(x_train,y_train)\n",
    "    kernel_train_score.append(clf.score(x_train, y_train))\n",
    "    y_pred=clf.predict(x_test)\n",
    "    kernel_test_score.append(accuracy_score(y_true=y_test, y_pred=y_pred))\n",
    "\n",
    "import pandas as pd\n",
    "data = {'Train Score':[str(round(kernel_train_score[i]*100,2))+\"%\" for i in range(len(kernel_train_score))],\n",
    "        'Test Score':[str(round(kernel_test_score[i]*100,2))+\"%\" for i in range(len(kernel_test_score))]}\n",
    "\n",
    "df = pd.DataFrame(data,index =[\"scale\",\"auto\"])\n",
    "print(\"Kernal is rbf\")\n",
    "df"
   ]
  },
  {
   "cell_type": "code",
   "execution_count": 110,
   "metadata": {},
   "outputs": [
    {
     "name": "stdout",
     "output_type": "stream",
     "text": [
      "Kernal is sigmoid\n"
     ]
    },
    {
     "data": {
      "text/html": [
       "<div>\n",
       "<style scoped>\n",
       "    .dataframe tbody tr th:only-of-type {\n",
       "        vertical-align: middle;\n",
       "    }\n",
       "\n",
       "    .dataframe tbody tr th {\n",
       "        vertical-align: top;\n",
       "    }\n",
       "\n",
       "    .dataframe thead th {\n",
       "        text-align: right;\n",
       "    }\n",
       "</style>\n",
       "<table border=\"1\" class=\"dataframe\">\n",
       "  <thead>\n",
       "    <tr style=\"text-align: right;\">\n",
       "      <th></th>\n",
       "      <th>Train Score</th>\n",
       "      <th>Test Score</th>\n",
       "    </tr>\n",
       "  </thead>\n",
       "  <tbody>\n",
       "    <tr>\n",
       "      <th>scale</th>\n",
       "      <td>57.88%</td>\n",
       "      <td>50.0%</td>\n",
       "    </tr>\n",
       "    <tr>\n",
       "      <th>auto</th>\n",
       "      <td>57.88%</td>\n",
       "      <td>50.0%</td>\n",
       "    </tr>\n",
       "  </tbody>\n",
       "</table>\n",
       "</div>"
      ],
      "text/plain": [
       "      Train Score Test Score\n",
       "scale      57.88%      50.0%\n",
       "auto       57.88%      50.0%"
      ]
     },
     "execution_count": 110,
     "metadata": {},
     "output_type": "execute_result"
    }
   ],
   "source": [
    "kernel_name = 'sigmoid'\n",
    "degree_name = 3\n",
    "gamma_name = [\"scale\",\"auto\"]\n",
    "kernel_train_score = []\n",
    "kernel_test_score = []\n",
    "for i in range(len(gamma_name)):\n",
    "    clf = make_pipeline(StandardScaler(),SVC(kernel=kernel_name,degree=degree_name,gamma=gamma_name[i]))\n",
    "    clf.fit(x_train,y_train)\n",
    "    kernel_train_score.append(clf.score(x_train, y_train))\n",
    "    y_pred=clf.predict(x_test)\n",
    "    kernel_test_score.append(accuracy_score(y_true=y_test, y_pred=y_pred))\n",
    "\n",
    "import pandas as pd\n",
    "data = {'Train Score':[str(round(kernel_train_score[i]*100,2))+\"%\" for i in range(len(kernel_train_score))],\n",
    "        'Test Score':[str(round(kernel_test_score[i]*100,2))+\"%\" for i in range(len(kernel_test_score))]}\n",
    "\n",
    "df = pd.DataFrame(data,index =[\"scale\",\"auto\"])\n",
    "print(\"Kernal is sigmoid\")\n",
    "df"
   ]
  },
  {
   "cell_type": "code",
   "execution_count": 111,
   "metadata": {},
   "outputs": [
    {
     "data": {
      "text/html": [
       "<div>\n",
       "<style scoped>\n",
       "    .dataframe tbody tr th:only-of-type {\n",
       "        vertical-align: middle;\n",
       "    }\n",
       "\n",
       "    .dataframe tbody tr th {\n",
       "        vertical-align: top;\n",
       "    }\n",
       "\n",
       "    .dataframe thead th {\n",
       "        text-align: right;\n",
       "    }\n",
       "</style>\n",
       "<table border=\"1\" class=\"dataframe\">\n",
       "  <thead>\n",
       "    <tr style=\"text-align: right;\">\n",
       "      <th></th>\n",
       "      <th>Train Score</th>\n",
       "      <th>Test Score</th>\n",
       "    </tr>\n",
       "  </thead>\n",
       "  <tbody>\n",
       "    <tr>\n",
       "      <th>ovo</th>\n",
       "      <td>92.81%</td>\n",
       "      <td>59.18%</td>\n",
       "    </tr>\n",
       "    <tr>\n",
       "      <th>ovr</th>\n",
       "      <td>92.81%</td>\n",
       "      <td>59.18%</td>\n",
       "    </tr>\n",
       "  </tbody>\n",
       "</table>\n",
       "</div>"
      ],
      "text/plain": [
       "    Train Score Test Score\n",
       "ovo      92.81%     59.18%\n",
       "ovr      92.81%     59.18%"
      ]
     },
     "execution_count": 111,
     "metadata": {},
     "output_type": "execute_result"
    }
   ],
   "source": [
    "kernel_name = 'linear'\n",
    "degree_name = 3\n",
    "decision_function_name = ['ovo','ovr']\n",
    "kernel_train_score = []\n",
    "kernel_test_score = []\n",
    "for i in range(len(decision_function_name)):\n",
    "    clf = make_pipeline(StandardScaler(),SVC(kernel=kernel_name,degree=degree_name,gamma=\"auto\",decision_function_shape=decision_function_name[i]))\n",
    "    clf.fit(x_train,y_train)\n",
    "    kernel_train_score.append(clf.score(x_train, y_train))\n",
    "    y_pred=clf.predict(x_test)\n",
    "    kernel_test_score.append(accuracy_score(y_true=y_test, y_pred=y_pred))\n",
    "\n",
    "import pandas as pd\n",
    "data = {'Train Score':[str(round(kernel_train_score[i]*100,2))+\"%\" for i in range(len(kernel_train_score))],\n",
    "        'Test Score':[str(round(kernel_test_score[i]*100,2))+\"%\" for i in range(len(kernel_test_score))]}\n",
    "\n",
    "df = pd.DataFrame(data,index =[\"ovo\",\"ovr\"])\n",
    "df"
   ]
  }
 ],
 "metadata": {
  "interpreter": {
   "hash": "7e5166a53a4c6662cfcca5a9f7f7227b8039c0af270ed805b711823b4fa3b2aa"
  },
  "kernelspec": {
   "display_name": "Python 3.8.8 ('base')",
   "language": "python",
   "name": "python3"
  },
  "language_info": {
   "codemirror_mode": {
    "name": "ipython",
    "version": 3
   },
   "file_extension": ".py",
   "mimetype": "text/x-python",
   "name": "python",
   "nbconvert_exporter": "python",
   "pygments_lexer": "ipython3",
   "version": "3.8.8"
  },
  "orig_nbformat": 4
 },
 "nbformat": 4,
 "nbformat_minor": 2
}
